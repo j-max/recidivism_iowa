{
 "cells": [
  {
   "cell_type": "code",
   "execution_count": 1,
   "metadata": {},
   "outputs": [],
   "source": [
    "import pandas as pd\n",
    "import matplotlib.pyplot as plt\n",
    "import pickle\n",
    "import warnings\n",
    "warnings.filterwarnings('ignore')\n",
    "pd.options.display.max_columns = None\n",
    "\n",
    "from sklearn.model_selection import KFold, StratifiedKFold, train_test_split\n",
    "from sklearn.metrics import roc_auc_score, accuracy_score, classification_report, recall_score, precision_score, f1_score\n",
    "from sklearn.ensemble import RandomForestClassifier\n",
    "import df_maker\n"
   ]
  },
  {
   "cell_type": "code",
   "execution_count": 2,
   "metadata": {},
   "outputs": [
    {
     "name": "stdout",
     "output_type": "stream",
     "text": [
      "df_con_class_nodates.pickle  df_sparse_con_subtype.pickle\r\n",
      "df_full.pickle\r\n"
     ]
    }
   ],
   "source": [
    "!ls ../data/pickles"
   ]
  },
  {
   "cell_type": "markdown",
   "metadata": {},
   "source": [
    "# iterate through dfs"
   ]
  },
  {
   "cell_type": "code",
   "execution_count": 3,
   "metadata": {},
   "outputs": [],
   "source": [
    "df = pickle.load(open('../data/pickles/df_full.pickle', 'rb'))\n",
    "df_dict = {'no_targ_pop':df_maker.no_targ_pop(df),'no_years':df_maker.no_years(df), 'no_years_no_target': df_maker.no_years_no_target(df),\n",
    "           'subtype':df_maker.conv_subt(df), 'subtype_no_targ':df_maker.subt_no_target(df), \n",
    "           'subt_no_tar_no_year':df_maker.subt_no_targ_no_years(df),\n",
    "           'class':df_maker.conv_class(df), 'class_no_target':df_maker.class_no_target(df),\n",
    "           'type':df_maker.conv_type(df), 'type_no_target':df_maker.type_no_target(df)}\n",
    "best_mean_roc_auc = {}\n",
    "roc_auc_list = []"
   ]
  },
  {
   "cell_type": "code",
   "execution_count": 5,
   "metadata": {},
   "outputs": [
    {
     "name": "stdout",
     "output_type": "stream",
     "text": [
      "{'no_targ_pop': 0.5287560753018639, 'no_years': 0.5635009772106405, 'no_years_no_target': 0.5700442655348998, 'subtype': 0.5488733951059451, 'subtype_no_targ': 0.5440490932994081, 'subt_no_tar_no_year': 0.5844250889096927, 'class': 0.590644563397176, 'class_no_target': 0.5696955422895469, 'type': 0.6009174593468518, 'type_no_target': 0.5834896043851293}\n"
     ]
    }
   ],
   "source": [
    "for key, value in df_dict.items():\n",
    "    \n",
    "    df = value\n",
    "    X = df[0]\n",
    "    y = df[1]\n",
    "\n",
    "    X_train, X_test, y_train, y_test = train_test_split(X,y, test_size = .2, random_state=42)\n",
    "    from imblearn.over_sampling import RandomOverSampler\n",
    "    roc_auc_list = []\n",
    "    kf = StratifiedKFold(n_splits=5, random_state=42)\n",
    "\n",
    "    for train_ind, val_ind in kf.split(X_train, y_train):\n",
    "\n",
    "        X_ktrain, X_kval = X.iloc[train_ind], X.iloc[val_ind]\n",
    "        y_ktrain, y_kval = y.iloc[train_ind], y.iloc[val_ind]\n",
    "\n",
    "        ros = RandomOverSampler(random_state=42)\n",
    "        X_train_resampled, y_train_resampled = ros.fit_resample(X_ktrain, y_ktrain)\n",
    "\n",
    "        reg = RandomForestClassifier()\n",
    "        reg.fit(X_train_resampled,y_train_resampled)\n",
    "        y_pred = reg.predict_proba(X_kval)[:,1]\n",
    "        score = roc_auc_score(y_kval, y_pred)\n",
    "\n",
    "        roc_auc_list.append(score)\n",
    "\n",
    "    best_mean_roc_auc[key] = sum(roc_auc_list)/len(roc_auc_list)\n",
    "\n",
    "    #print(sum(roc_auc_list)/len(roc_auc_list))\n",
    "print(best_mean_roc_auc)\n"
   ]
  },
  {
   "cell_type": "code",
   "execution_count": 6,
   "metadata": {},
   "outputs": [
    {
     "name": "stdout",
     "output_type": "stream",
     "text": [
      "3 0.6179685711643123\n"
     ]
    }
   ],
   "source": [
    "df = pickle.load(open('../data/pickles/df_full.pickle', 'rb'))\n",
    "df = df_maker.conv_type(df)\n",
    "X = df[0]\n",
    "y = df[1]\n",
    "\n",
    "X_train, X_test, y_train, y_test = train_test_split(X,y, test_size = .2, random_state=42)\n",
    "roc_auc_list = []\n",
    "\n",
    "best_depth = 0\n",
    "best_depth_roc = 0\n",
    "for depth in range(2,20):\n",
    "    kf = StratifiedKFold(n_splits=5, random_state=42)\n",
    "    roc_auc_list = []\n",
    "    for train_ind, val_ind in kf.split(X_train, y_train):\n",
    "\n",
    "        X_train, X_val = X.iloc[train_ind], X.iloc[val_ind]\n",
    "        y_train, y_val = y.iloc[train_ind], y.iloc[val_ind]\n",
    "\n",
    "        ros = RandomOverSampler(random_state=42)\n",
    "        X_train_resampled, y_train_resampled = ros.fit_resample(X_train, y_train)\n",
    "\n",
    "        rf = RandomForestClassifier(max_depth=depth)\n",
    "        rf.fit(X_train_resampled,y_train_resampled)\n",
    "        y_pred = rf.predict_proba(X_val)[:,1]\n",
    "\n",
    "        roc_auc_list.append(roc_auc_score(y_val, y_pred))\n",
    "        \n",
    "    mean_roc = sum(roc_auc_list)/len(roc_auc_list)\n",
    "    if mean_roc > best_depth_roc:\n",
    "        best_depth = depth\n",
    "        best_depth_roc = mean_roc\n",
    "\n",
    "print(best_depth, best_depth_roc)"
   ]
  },
  {
   "cell_type": "code",
   "execution_count": 7,
   "metadata": {},
   "outputs": [
    {
     "name": "stdout",
     "output_type": "stream",
     "text": [
      "5 0.6174833789151164\n"
     ]
    }
   ],
   "source": [
    "df = pickle.load(open('../data/pickles/df_full.pickle', 'rb'))\n",
    "df = df_maker.conv_type(df)\n",
    "X = df[0]\n",
    "y = df[1]\n",
    "\n",
    "X_train, X_test, y_train, y_test = train_test_split(X,y, test_size = .2, random_state=42)\n",
    "roc_auc_list = []\n",
    "\n",
    "best = 0\n",
    "best_roc = 0\n",
    "for feature_test in range(2,15):\n",
    "    kf = StratifiedKFold(n_splits=5, random_state=42)\n",
    "    roc_auc_list = []\n",
    "    for train_ind, val_ind in kf.split(X_train, y_train):\n",
    "\n",
    "        X_train, X_val = X.iloc[train_ind], X.iloc[val_ind]\n",
    "        y_train, y_val = y.iloc[train_ind], y.iloc[val_ind]\n",
    "\n",
    "        ros = RandomOverSampler(random_state=42)\n",
    "        X_train_resampled, y_train_resampled = ros.fit_resample(X_train, y_train)\n",
    "\n",
    "        rf = RandomForestClassifier(max_depth=5, max_features=15)\n",
    "        rf.fit(X_train_resampled,y_train_resampled)\n",
    "        y_pred = rf.predict_proba(X_val)[:,1]\n",
    "\n",
    "        roc_auc_list.append(roc_auc_score(y_val, y_pred))\n",
    "        \n",
    "    mean_roc = sum(roc_auc_list)/len(roc_auc_list)\n",
    "    if mean_roc > best_roc:\n",
    "        best = feature_test\n",
    "        best_roc = mean_roc\n",
    "\n",
    "print(best, best_roc)"
   ]
  },
  {
   "cell_type": "code",
   "execution_count": 10,
   "metadata": {},
   "outputs": [],
   "source": [
    "## Max Depth 5, Max Features 5"
   ]
  },
  {
   "cell_type": "code",
   "execution_count": 11,
   "metadata": {},
   "outputs": [
    {
     "name": "stdout",
     "output_type": "stream",
     "text": [
      "0.6057174341234758\n"
     ]
    }
   ],
   "source": [
    "df = pickle.load(open('../data/pickles/df_full.pickle', 'rb'))\n",
    "df = df_maker.conv_type(df)\n",
    "X = df[0]\n",
    "y = df[1]\n",
    "\n",
    "X_train, X_test, y_train, y_test = train_test_split(X,y, test_size = .2, random_state=42)\n",
    "roc_auc_list = []\n",
    "\n",
    "\n",
    "kf = StratifiedKFold(n_splits=5, random_state=42)\n",
    "roc_auc_list = []\n",
    "for train_ind, val_ind in kf.split(X_train, y_train):\n",
    "\n",
    "    X_train, X_val = X.iloc[train_ind], X.iloc[val_ind]\n",
    "    y_train, y_val = y.iloc[train_ind], y.iloc[val_ind]\n",
    "\n",
    "    ros = RandomOverSampler(random_state=42)\n",
    "    X_train_resampled, y_train_resampled = ros.fit_resample(X_train, y_train)\n",
    "\n",
    "    rf = RandomForestClassifier(max_depth=5, max_features=5)\n",
    "    rf.fit(X_train_resampled,y_train_resampled)\n",
    "    y_pred = rf.predict_proba(X_val)[:,1]\n",
    "\n",
    "    roc_auc_list.append(roc_auc_score(y_val, y_pred))\n",
    "\n",
    "mean_roc = sum(roc_auc_list)/len(roc_auc_list)\n",
    "print(mean_roc)"
   ]
  },
  {
   "cell_type": "code",
   "execution_count": null,
   "metadata": {},
   "outputs": [],
   "source": []
  },
  {
   "cell_type": "code",
   "execution_count": null,
   "metadata": {},
   "outputs": [],
   "source": []
  },
  {
   "cell_type": "code",
   "execution_count": null,
   "metadata": {},
   "outputs": [],
   "source": []
  },
  {
   "cell_type": "markdown",
   "metadata": {},
   "source": [
    "# Manual Feature Explore"
   ]
  },
  {
   "cell_type": "markdown",
   "metadata": {},
   "source": [
    "## All Features"
   ]
  },
  {
   "cell_type": "code",
   "execution_count": 4,
   "metadata": {},
   "outputs": [],
   "source": [
    "df = pickle.load(open('../data/pickles/df_full.pickle', 'rb'))"
   ]
  },
  {
   "cell_type": "code",
   "execution_count": 5,
   "metadata": {},
   "outputs": [],
   "source": [
    "best_mean_roc_auc = {}"
   ]
  },
  {
   "cell_type": "code",
   "execution_count": 6,
   "metadata": {},
   "outputs": [],
   "source": [
    "X = df.drop(columns = ['recid_flag'])\n",
    "y = df['recid_flag']"
   ]
  },
  {
   "cell_type": "code",
   "execution_count": 7,
   "metadata": {},
   "outputs": [
    {
     "name": "stdout",
     "output_type": "stream",
     "text": [
      "0.5317897266879001\n"
     ]
    }
   ],
   "source": [
    "X_train, X_test, y_train, y_test = train_test_split(X,y, test_size = .2, random_state=42)\n",
    "from imblearn.over_sampling import RandomOverSampler\n",
    "roc_auc_list = []\n",
    "kf = StratifiedKFold(n_splits=5, random_state=42)\n",
    "\n",
    "for train_ind, val_ind in kf.split(X_train, y_train):\n",
    "\n",
    "    X_ktrain, X_kval = X.iloc[train_ind], X.iloc[val_ind]\n",
    "    y_ktrain, y_kval = y.iloc[train_ind], y.iloc[val_ind]\n",
    "    \n",
    "    ros = RandomOverSampler(random_state=42)\n",
    "    X_train_resampled, y_train_resampled = ros.fit_resample(X_ktrain, y_ktrain)\n",
    "    \n",
    "    rf = RandomForestClassifier()\n",
    "    rf.fit(X_train_resampled,y_train_resampled)\n",
    "    y_pred = rf.predict(X_kval)\n",
    "    score = roc_auc_score(y_kval, y_pred)\n",
    "    \n",
    "    roc_auc_list.append(score)\n",
    "\n",
    "best_mean_roc_auc['full_feature'] = sum(roc_auc_list)/len(roc_auc_list)\n",
    "print(sum(roc_auc_list)/len(roc_auc_list))"
   ]
  },
  {
   "cell_type": "code",
   "execution_count": 8,
   "metadata": {},
   "outputs": [
    {
     "data": {
      "text/plain": [
       "[('year_released_2015', 0.0),\n",
       " ('reporting_year_2018', 0.0),\n",
       " ('conviction_class_Other Felony (Old Code)', 2.336513780725313e-05),\n",
       " ('conviction_class_A Felony', 2.7916757359059834e-05),\n",
       " ('conviction_class_Simple Misdemeanor', 3.1981626383400434e-05),\n",
       " ('conviction_class_Sexual Predator Community Supervision',\n",
       "  4.4894684806085164e-05),\n",
       " ('conviction_subtype_Animals', 0.00013419221975966483),\n",
       " ('conviction_class_Other Felony', 0.00013618400204200943),\n",
       " ('conviction_class_Felony - Mandatory Minimum', 0.0001563308570251822),\n",
       " ('reporting_year_2017', 0.0003074782229089708),\n",
       " ('year_released_2014', 0.0003714936947475633),\n",
       " ('conviction_subtype_Special Sentence Revocation', 0.000810921973361567),\n",
       " ('release_type_Paroled to Detainer - U.S. Marshall', 0.00099857096917253),\n",
       " ('conviction_subtype_Prostitution/Pimping', 0.0010815046789366422),\n",
       " ('conviction_subtype_Stolen Property', 0.0011921523749036595),\n",
       " ('conviction_class_Special Sentence 2005', 0.0012895611649751612),\n",
       " ('release_type_Paroled to Detainer - Out of State', 0.0013769680769550984),\n",
       " ('release_type_Paroled to Detainer - Iowa', 0.0013771494594130046),\n",
       " ('conviction_subtype_Kidnap', 0.0015146949309656473),\n",
       " ('release_type_Discharged - Expiration of Sentence', 0.001568277529105586),\n",
       " ('conviction_subtype_Flight/Escape', 0.0024806589153317316),\n",
       " ('release_type_Paroled to Detainer - INS', 0.0027720570229738126),\n",
       " ('conviction_subtype_Other Criminal', 0.0028026013338482017),\n",
       " ('conviction_subtype_Sex Offender Registry/Residency', 0.002995762190766987),\n",
       " ('release_type_Released to Special Sentence', 0.003028790002479603),\n",
       " ('conviction_class_Serious Misdemeanor', 0.0036545001252146518),\n",
       " ('conviction_subtype_Arson', 0.003825929951129978),\n",
       " ('conviction_subtype_Alcohol', 0.0040121189893460776),\n",
       " ('conviction_subtype_Robbery', 0.004136501770875292),\n",
       " ('release_type_Paroled w/Immediate Discharge', 0.004838582520828945),\n",
       " ('supervising_district_Interstate Compact', 0.00497683314411543),\n",
       " ('conviction_subtype_Other Public Order', 0.005164773496000393),\n",
       " ('conviction_subtype_Other Drug', 0.0055142877068758995),\n",
       " ('conviction_subtype_Weapons', 0.0055811675814712285),\n",
       " ('convicting_type_Other', 0.0057085296576994075),\n",
       " ('race_Asian or Pacific Islander - Non-Hispanic', 0.005732264343785694),\n",
       " ('conviction_class_Felony - Enhanced', 0.005773470140204858),\n",
       " ('year_released_2013', 0.005991490170942923),\n",
       " ('conviction_subtype_Traffic', 0.0065285247559857765),\n",
       " ('reporting_year_2016', 0.0067962752898078444),\n",
       " ('conviction_subtype_Vandalism', 0.007104923550240475),\n",
       " ('release_type_Parole Granted', 0.007233867261025764),\n",
       " ('conviction_subtype_Murder/Manslaughter', 0.007310365040059233),\n",
       " ('release_type_Special Sentence', 0.007390810836351525),\n",
       " ('release_type_Parole', 0.007506305626876271),\n",
       " ('conviction_subtype_Other Violent', 0.007506363112386828),\n",
       " ('conviction_subtype_Sex', 0.008481650958954149),\n",
       " ('release_type_Discharged – End of Sentence', 0.008525140263436478),\n",
       " ('conviction_subtype_Drug Possession', 0.009481536633167139),\n",
       " ('convicting_type_Public Order', 0.00964045800339372),\n",
       " ('conviction_subtype_Assault', 0.010580069462133893),\n",
       " ('supervising_district_ISC', 0.010819440483705988),\n",
       " ('conviction_subtype_Forgery/Fraud', 0.010983586411542895),\n",
       " ('race_American Indian or Alaska Native - Non-Hispanic',\n",
       "  0.011030046645910379),\n",
       " ('convicting_type_Drug', 0.011260873276798552),\n",
       " ('year_released_2010', 0.011310864338908395),\n",
       " ('conviction_subtype_OWI', 0.011579588557875813),\n",
       " ('year_released_2012', 0.011911130545480555),\n",
       " ('convicting_type_Property', 0.011960550649191987),\n",
       " ('year_released_2011', 0.012026293627887798),\n",
       " ('supervising_district_4JD', 0.012257549012075299),\n",
       " ('convicting_type_Violent', 0.012377580077896602),\n",
       " ('reporting_year_2014', 0.012396670301875823),\n",
       " ('reporting_year_2015', 0.012598634317214563),\n",
       " ('conviction_subtype_Burglary', 0.012795655313461853),\n",
       " ('reporting_year_2013', 0.013030051981945854),\n",
       " ('conviction_class_B Felony', 0.013477472722395346),\n",
       " ('conviction_subtype_Trafficking', 0.013499434936887877),\n",
       " ('conviction_class_Felony - Enhancement to Original Penalty',\n",
       "  0.013662898376479868),\n",
       " ('supervising_district_3JD', 0.016424824087181843),\n",
       " ('conviction_subtype_Theft', 0.016662096108643533),\n",
       " ('supervising_district_None-Discharged', 0.017920765233029542),\n",
       " ('supervising_district_6JD', 0.018047293692520356),\n",
       " ('supervising_district_8JD', 0.01816665003451916),\n",
       " ('supervising_district_2JD', 0.019796638928292712),\n",
       " ('age_at_release_55 and Older', 0.020245523728955717),\n",
       " ('race_White - Hispanic', 0.02175222512598686),\n",
       " ('supervising_district_7JD', 0.022599075681200922),\n",
       " ('supervising_district_5JD', 0.025621197406888507),\n",
       " ('supervising_district_1JD', 0.025724078712156297),\n",
       " ('conviction_class_Aggravated Misdemeanor', 0.02666679706018265),\n",
       " ('target_pop_flag', 0.028639110089617014),\n",
       " ('age_at_release_Under 25', 0.03003237774729848),\n",
       " ('conviction_class_C Felony', 0.0316815975197068),\n",
       " ('age_at_release_45-54', 0.032698249880983174),\n",
       " ('conviction_class_D Felony', 0.03651290971674887),\n",
       " ('age_at_release_35-44', 0.03932166461870602),\n",
       " ('race_Black - Non-Hispanic', 0.04251669655123848),\n",
       " ('age_at_release_25-34', 0.045987990501037926),\n",
       " ('race_White - Non-Hispanic', 0.048483667779231444)]"
      ]
     },
     "execution_count": 8,
     "metadata": {},
     "output_type": "execute_result"
    }
   ],
   "source": [
    "import operator\n",
    "\n",
    "df_feature_imp = {}\n",
    "\n",
    "for imp, feature in (zip(rf.feature_importances_, list(X))):\n",
    "    df_feature_imp[feature] = imp\n",
    "\n",
    "sorted_features = sorted(df_feature_imp.items(), key=operator.itemgetter(1)) \n",
    "sorted_features"
   ]
  },
  {
   "cell_type": "markdown",
   "metadata": {},
   "source": [
    "## No Dates"
   ]
  },
  {
   "cell_type": "code",
   "execution_count": 9,
   "metadata": {},
   "outputs": [],
   "source": [
    "df = df_maker.no_years(df)"
   ]
  },
  {
   "cell_type": "code",
   "execution_count": 10,
   "metadata": {},
   "outputs": [],
   "source": [
    "X = df[0]\n",
    "y = df[1]"
   ]
  },
  {
   "cell_type": "code",
   "execution_count": 11,
   "metadata": {},
   "outputs": [
    {
     "name": "stdout",
     "output_type": "stream",
     "text": [
      "0.5521282047650967\n"
     ]
    }
   ],
   "source": [
    "X_train, X_test, y_train, y_test = train_test_split(X,y, test_size = .2, random_state=42)\n",
    "from imblearn.over_sampling import RandomOverSampler\n",
    "roc_auc_list = []\n",
    "kf = StratifiedKFold(n_splits=5, random_state=42)\n",
    "\n",
    "for train_ind, val_ind in kf.split(X_train, y_train):\n",
    "\n",
    "    X_ktrain, X_kval = X.iloc[train_ind], X.iloc[val_ind]\n",
    "    y_ktrain, y_kval = y.iloc[train_ind], y.iloc[val_ind]\n",
    "    \n",
    "    ros = RandomOverSampler(random_state=42)\n",
    "    X_train_resampled, y_train_resampled = ros.fit_resample(X_ktrain, y_ktrain)\n",
    "    \n",
    "    rf = RandomForestClassifier()\n",
    "    rf.fit(X_train_resampled,y_train_resampled)\n",
    "    y_pred = rf.predict(X_kval)\n",
    "    score = roc_auc_score(y_kval, y_pred)\n",
    "    \n",
    "    roc_auc_list.append(score)\n",
    "\n",
    "best_mean_roc_auc['full_feature_no_years'] = sum(roc_auc_list)/len(roc_auc_list)\n",
    "print(sum(roc_auc_list)/len(roc_auc_list))"
   ]
  },
  {
   "cell_type": "code",
   "execution_count": 12,
   "metadata": {},
   "outputs": [
    {
     "data": {
      "text/plain": [
       "[('conviction_class_Other Felony (Old Code)', 1.3210271931708404e-06),\n",
       " ('conviction_class_A Felony', 1.5703713149512414e-05),\n",
       " ('conviction_class_Simple Misdemeanor', 8.78187557576308e-05),\n",
       " ('conviction_class_Sexual Predator Community Supervision',\n",
       "  0.00011622660524844633),\n",
       " ('conviction_subtype_Animals', 0.0002630613708386635),\n",
       " ('conviction_class_Other Felony', 0.0003015137201505825),\n",
       " ('conviction_class_Felony - Mandatory Minimum', 0.0003084555712183155),\n",
       " ('conviction_class_Special Sentence 2005', 0.001329270607826163),\n",
       " ('conviction_subtype_Stolen Property', 0.001432721283737547),\n",
       " ('release_type_Paroled to Detainer - Iowa', 0.0015580367146415955),\n",
       " ('release_type_Paroled to Detainer - INS', 0.0015727966263432952),\n",
       " ('release_type_Paroled to Detainer - U.S. Marshall', 0.0015894775382019224),\n",
       " ('conviction_subtype_Prostitution/Pimping', 0.0016799105036429964),\n",
       " ('release_type_Released to Special Sentence', 0.0018122669980846506),\n",
       " ('conviction_subtype_Special Sentence Revocation', 0.0018977833510044507),\n",
       " ('release_type_Paroled to Detainer - Out of State', 0.002003081681076286),\n",
       " ('conviction_subtype_Kidnap', 0.0024952343546633233),\n",
       " ('conviction_class_Serious Misdemeanor', 0.002977853028084141),\n",
       " ('conviction_subtype_Flight/Escape', 0.0029955447317554403),\n",
       " ('conviction_subtype_Arson', 0.0038578808558420697),\n",
       " ('conviction_subtype_Sex Offender Registry/Residency', 0.003894428155180951),\n",
       " ('conviction_subtype_Robbery', 0.004599428228931689),\n",
       " ('release_type_Paroled w/Immediate Discharge', 0.004813815460018887),\n",
       " ('conviction_subtype_Alcohol', 0.00508105533227818),\n",
       " ('conviction_subtype_Other Criminal', 0.00510215322530583),\n",
       " ('conviction_subtype_Other Drug', 0.00589703171825179),\n",
       " ('race_Asian or Pacific Islander - Non-Hispanic', 0.0059873750305453315),\n",
       " ('convicting_type_Other', 0.0060498441321246805),\n",
       " ('conviction_subtype_Other Public Order', 0.006063581131726636),\n",
       " ('conviction_subtype_Weapons', 0.006633793200120257),\n",
       " ('conviction_subtype_Murder/Manslaughter', 0.007548017082734837),\n",
       " ('conviction_subtype_Traffic', 0.008542233578182021),\n",
       " ('conviction_subtype_Other Violent', 0.008632263133797122),\n",
       " ('conviction_subtype_Vandalism', 0.00863542850043928),\n",
       " ('release_type_Discharged - Expiration of Sentence', 0.008911740592238732),\n",
       " ('convicting_type_Public Order', 0.009016234652348928),\n",
       " ('conviction_class_Felony - Enhanced', 0.009071579253194458),\n",
       " ('conviction_subtype_Drug Possession', 0.009182475523133652),\n",
       " ('supervising_district_Interstate Compact', 0.009700402466773008),\n",
       " ('release_type_Special Sentence', 0.010541984205752782),\n",
       " ('conviction_subtype_OWI', 0.01063033132660851),\n",
       " ('convicting_type_Drug', 0.010671266658564058),\n",
       " ('conviction_subtype_Sex', 0.010969708940101264),\n",
       " ('race_American Indian or Alaska Native - Non-Hispanic',\n",
       "  0.011231218291816503),\n",
       " ('conviction_subtype_Forgery/Fraud', 0.011379708156985168),\n",
       " ('supervising_district_4JD', 0.011701756166081986),\n",
       " ('convicting_type_Property', 0.011802768257901898),\n",
       " ('conviction_subtype_Assault', 0.012522894690961286),\n",
       " ('conviction_subtype_Trafficking', 0.013497065457017515),\n",
       " ('convicting_type_Violent', 0.014153708684031836),\n",
       " ('conviction_class_B Felony', 0.0143363424834996),\n",
       " ('conviction_subtype_Theft', 0.014923800212095283),\n",
       " ('release_type_Discharged – End of Sentence', 0.014990937942492242),\n",
       " ('supervising_district_ISC', 0.016140573662291702),\n",
       " ('conviction_subtype_Burglary', 0.016689257359488976),\n",
       " ('conviction_class_Felony - Enhancement to Original Penalty',\n",
       "  0.01714724181823359),\n",
       " ('race_White - Hispanic', 0.017462822228623734),\n",
       " ('release_type_Parole Granted', 0.01884230495179573),\n",
       " ('supervising_district_6JD', 0.019050748619715965),\n",
       " ('supervising_district_3JD', 0.01907278034955919),\n",
       " ('supervising_district_7JD', 0.019372708159843897),\n",
       " ('supervising_district_8JD', 0.021323918553470905),\n",
       " ('age_at_release_55 and Older', 0.022325969698926036),\n",
       " ('supervising_district_5JD', 0.023433973821013563),\n",
       " ('supervising_district_2JD', 0.023667157797892115),\n",
       " ('release_type_Parole', 0.02403748428613305),\n",
       " ('supervising_district_1JD', 0.0242300707028235),\n",
       " ('conviction_class_Aggravated Misdemeanor', 0.025442827083732234),\n",
       " ('supervising_district_None-Discharged', 0.028843388223429578),\n",
       " ('age_at_release_Under 25', 0.03292372825276744),\n",
       " ('age_at_release_45-54', 0.033304986440136145),\n",
       " ('conviction_class_D Felony', 0.03399382530310075),\n",
       " ('conviction_class_C Felony', 0.03415346217741986),\n",
       " ('target_pop_flag', 0.03423562260632897),\n",
       " ('race_Black - Non-Hispanic', 0.035658596162901034),\n",
       " ('age_at_release_35-44', 0.03902433436904433),\n",
       " ('race_White - Non-Hispanic', 0.04112174950697094),\n",
       " ('age_at_release_25-34', 0.043488136954660375)]"
      ]
     },
     "execution_count": 12,
     "metadata": {},
     "output_type": "execute_result"
    }
   ],
   "source": [
    "import operator\n",
    "\n",
    "df_feature_imp = {}\n",
    "\n",
    "for imp, feature in (zip(rf.feature_importances_, list(X))):\n",
    "    df_feature_imp[feature] = imp\n",
    "\n",
    "sorted_features = sorted(df_feature_imp.items(), key=operator.itemgetter(1)) \n",
    "sorted_features"
   ]
  },
  {
   "cell_type": "markdown",
   "metadata": {},
   "source": [
    "## No years no target pop flag"
   ]
  },
  {
   "cell_type": "code",
   "execution_count": 34,
   "metadata": {},
   "outputs": [
    {
     "name": "stdout",
     "output_type": "stream",
     "text": [
      "0.5675595011400788\n"
     ]
    }
   ],
   "source": [
    "df = pickle.load(open('../data/pickles/df_full.pickle', 'rb'))\n",
    "df = df_maker.no_years_no_target(df)\n",
    "X = df[0]\n",
    "y = df[1]\n",
    "\n",
    "X_train, X_test, y_train, y_test = train_test_split(X,y, test_size = .2, random_state=42)\n",
    "from imblearn.over_sampling import RandomOverSampler\n",
    "roc_auc_list = []\n",
    "kf = StratifiedKFold(n_splits=5, random_state=42)\n",
    "\n",
    "for train_ind, val_ind in kf.split(X_train, y_train):\n",
    "\n",
    "    X_ktrain, X_kval = X.iloc[train_ind], X.iloc[val_ind]\n",
    "    y_ktrain, y_kval = y.iloc[train_ind], y.iloc[val_ind]\n",
    "    \n",
    "    ros = RandomOverSampler(random_state=42)\n",
    "    X_train_resampled, y_train_resampled = ros.fit_resample(X_ktrain, y_ktrain)\n",
    "    \n",
    "    rf = RandomForestClassifier()\n",
    "    rf.fit(X_train_resampled,y_train_resampled)\n",
    "    y_pred = rf.predict_proba(X_kval)[:,1]\n",
    "    score = roc_auc_score(y_kval, y_pred)\n",
    "    \n",
    "    roc_auc_list.append(score)\n",
    "\n",
    "best_mean_roc_auc['no_years_no_target'] = sum(roc_auc_list)/len(roc_auc_list)\n",
    "\n",
    "print(sum(roc_auc_list)/len(roc_auc_list))"
   ]
  },
  {
   "cell_type": "markdown",
   "metadata": {},
   "source": [
    "## No Target Flag"
   ]
  },
  {
   "cell_type": "code",
   "execution_count": 14,
   "metadata": {},
   "outputs": [],
   "source": [
    "df = pickle.load(open('../data/pickles/df_full.pickle', 'rb'))\n",
    "df = df_maker.no_targ_pop(df)\n",
    "X = df[0]\n",
    "y = df[1]"
   ]
  },
  {
   "cell_type": "code",
   "execution_count": 15,
   "metadata": {},
   "outputs": [
    {
     "name": "stdout",
     "output_type": "stream",
     "text": [
      "0.5235114643020122\n"
     ]
    }
   ],
   "source": [
    "X_train, X_test, y_train, y_test = train_test_split(X,y, test_size = .2, random_state=42)\n",
    "from imblearn.over_sampling import RandomOverSampler\n",
    "roc_auc_list = []\n",
    "kf = StratifiedKFold(n_splits=5, random_state=42)\n",
    "\n",
    "for train_ind, val_ind in kf.split(X_train, y_train):\n",
    "\n",
    "    X_ktrain, X_kval = X.iloc[train_ind], X.iloc[val_ind]\n",
    "    y_ktrain, y_kval = y.iloc[train_ind], y.iloc[val_ind]\n",
    "    \n",
    "    ros = RandomOverSampler(random_state=42)\n",
    "    X_train_resampled, y_train_resampled = ros.fit_resample(X_ktrain, y_ktrain)\n",
    "    \n",
    "    rf = RandomForestClassifier()\n",
    "    rf.fit(X_train_resampled,y_train_resampled)\n",
    "    y_pred = rf.predict(X_kval)\n",
    "    score = roc_auc_score(y_kval, y_pred)\n",
    "    \n",
    "    roc_auc_list.append(score)\n",
    "    \n",
    "best_mean_roc_auc['full_feature_no_target'] = sum(roc_auc_list)/len(roc_auc_list)\n",
    "print(sum(roc_auc_list)/len(roc_auc_list))"
   ]
  },
  {
   "cell_type": "markdown",
   "metadata": {},
   "source": [
    "## Conviction Class"
   ]
  },
  {
   "cell_type": "code",
   "execution_count": 16,
   "metadata": {},
   "outputs": [
    {
     "name": "stdout",
     "output_type": "stream",
     "text": [
      "0.5672464741220502\n"
     ]
    }
   ],
   "source": [
    "df = pickle.load(open('../data/pickles/df_full.pickle', 'rb'))\n",
    "df = df_maker.conv_class(df)\n",
    "X = df[0]\n",
    "y = df[1]\n",
    "\n",
    "X_train, X_test, y_train, y_test = train_test_split(X,y, test_size = .2, random_state=42)\n",
    "from imblearn.over_sampling import RandomOverSampler\n",
    "roc_auc_list = []\n",
    "kf = StratifiedKFold(n_splits=5, random_state=42)\n",
    "\n",
    "for train_ind, val_ind in kf.split(X_train, y_train):\n",
    "\n",
    "    X_ktrain, X_kval = X.iloc[train_ind], X.iloc[val_ind]\n",
    "    y_ktrain, y_kval = y.iloc[train_ind], y.iloc[val_ind]\n",
    "    \n",
    "    ros = RandomOverSampler(random_state=42)\n",
    "    X_train_resampled, y_train_resampled = ros.fit_resample(X_ktrain, y_ktrain)\n",
    "    \n",
    "    rf = RandomForestClassifier()\n",
    "    rf.fit(X_train_resampled,y_train_resampled)\n",
    "    y_pred = rf.predict(X_kval)\n",
    "    score = roc_auc_score(y_kval, y_pred)\n",
    "    \n",
    "    roc_auc_list.append(score)\n",
    "\n",
    "best_mean_roc_auc['conv_class'] = sum(roc_auc_list)/len(roc_auc_list)\n",
    "\n",
    "print(sum(roc_auc_list)/len(roc_auc_list))"
   ]
  },
  {
   "cell_type": "markdown",
   "metadata": {},
   "source": [
    "## Conviction Class No Target Pop"
   ]
  },
  {
   "cell_type": "code",
   "execution_count": 17,
   "metadata": {},
   "outputs": [
    {
     "name": "stdout",
     "output_type": "stream",
     "text": [
      "0.5434516247364696\n"
     ]
    }
   ],
   "source": [
    "df = pickle.load(open('../data/pickles/df_full.pickle', 'rb'))\n",
    "df = df_maker.class_no_target(df)\n",
    "X = df[0]\n",
    "y = df[1]\n",
    "\n",
    "X_train, X_test, y_train, y_test = train_test_split(X,y, test_size = .2, random_state=42)\n",
    "from imblearn.over_sampling import RandomOverSampler\n",
    "roc_auc_list = []\n",
    "kf = StratifiedKFold(n_splits=5, random_state=42)\n",
    "\n",
    "for train_ind, val_ind in kf.split(X_train, y_train):\n",
    "\n",
    "    X_ktrain, X_kval = X.iloc[train_ind], X.iloc[val_ind]\n",
    "    y_ktrain, y_kval = y.iloc[train_ind], y.iloc[val_ind]\n",
    "    \n",
    "    ros = RandomOverSampler(random_state=42)\n",
    "    X_train_resampled, y_train_resampled = ros.fit_resample(X_ktrain, y_ktrain)\n",
    "    \n",
    "    rf = RandomForestClassifier()\n",
    "    rf.fit(X_train_resampled,y_train_resampled)\n",
    "    y_pred = rf.predict(X_kval)\n",
    "    score = roc_auc_score(y_kval, y_pred)\n",
    "    \n",
    "    roc_auc_list.append(score)\n",
    "    \n",
    "best_mean_roc_auc['con_class_no_target'] = sum(roc_auc_list)/len(roc_auc_list)\n",
    "print(sum(roc_auc_list)/len(roc_auc_list))"
   ]
  },
  {
   "cell_type": "markdown",
   "metadata": {},
   "source": [
    "## Conviction Type"
   ]
  },
  {
   "cell_type": "code",
   "execution_count": 18,
   "metadata": {},
   "outputs": [
    {
     "name": "stdout",
     "output_type": "stream",
     "text": [
      "0.5720941803718126\n"
     ]
    }
   ],
   "source": [
    "df = pickle.load(open('../data/pickles/df_full.pickle', 'rb'))\n",
    "df = df_maker.conv_type(df)\n",
    "X = df[0]\n",
    "y = df[1]\n",
    "\n",
    "X_train, X_test, y_train, y_test = train_test_split(X,y, test_size = .2, random_state=42)\n",
    "from imblearn.over_sampling import RandomOverSampler\n",
    "roc_auc_list = []\n",
    "kf = StratifiedKFold(n_splits=5, random_state=42)\n",
    "\n",
    "for train_ind, val_ind in kf.split(X_train, y_train):\n",
    "\n",
    "    X_ktrain, X_kval = X.iloc[train_ind], X.iloc[val_ind]\n",
    "    y_ktrain, y_kval = y.iloc[train_ind], y.iloc[val_ind]\n",
    "    \n",
    "    ros = RandomOverSampler(random_state=42)\n",
    "    X_train_resampled, y_train_resampled = ros.fit_resample(X_ktrain, y_ktrain)\n",
    "    \n",
    "    rf = RandomForestClassifier()\n",
    "    rf.fit(X_train_resampled,y_train_resampled)\n",
    "    y_pred = rf.predict(X_kval)\n",
    "    score = roc_auc_score(y_kval, y_pred)\n",
    "    \n",
    "    roc_auc_list.append(score)\n",
    "    \n",
    "best_mean_roc_auc['con_type'] = sum(roc_auc_list)/len(roc_auc_list)\n",
    "print(sum(roc_auc_list)/len(roc_auc_list))"
   ]
  },
  {
   "cell_type": "markdown",
   "metadata": {},
   "source": [
    "## Conviction Type No Target"
   ]
  },
  {
   "cell_type": "code",
   "execution_count": 19,
   "metadata": {},
   "outputs": [
    {
     "name": "stdout",
     "output_type": "stream",
     "text": [
      "0.5657696473657061\n"
     ]
    }
   ],
   "source": [
    "df = pickle.load(open('../data/pickles/df_full.pickle', 'rb'))\n",
    "df = df_maker.type_no_target(df)\n",
    "X = df[0]\n",
    "y = df[1]\n",
    "\n",
    "X_train, X_test, y_train, y_test = train_test_split(X,y, test_size = .2, random_state=42)\n",
    "from imblearn.over_sampling import RandomOverSampler\n",
    "roc_auc_list = []\n",
    "kf = StratifiedKFold(n_splits=5, random_state=42)\n",
    "\n",
    "for train_ind, val_ind in kf.split(X_train, y_train):\n",
    "\n",
    "    X_ktrain, X_kval = X.iloc[train_ind], X.iloc[val_ind]\n",
    "    y_ktrain, y_kval = y.iloc[train_ind], y.iloc[val_ind]\n",
    "    \n",
    "    ros = RandomOverSampler(random_state=42)\n",
    "    X_train_resampled, y_train_resampled = ros.fit_resample(X_ktrain, y_ktrain)\n",
    "    \n",
    "    rf = RandomForestClassifier()\n",
    "    rf.fit(X_train_resampled,y_train_resampled)\n",
    "    y_pred = rf.predict(X_kval)\n",
    "    score = roc_auc_score(y_kval, y_pred)\n",
    "    \n",
    "    roc_auc_list.append(score)\n",
    "\n",
    "best_mean_roc_auc['con_type_no_target'] = sum(roc_auc_list)/len(roc_auc_list)\n",
    "\n",
    "print(sum(roc_auc_list)/len(roc_auc_list))"
   ]
  },
  {
   "cell_type": "markdown",
   "metadata": {},
   "source": [
    "## Conviction Subtype"
   ]
  },
  {
   "cell_type": "code",
   "execution_count": 20,
   "metadata": {},
   "outputs": [
    {
     "name": "stdout",
     "output_type": "stream",
     "text": [
      "0.5381432928250558\n"
     ]
    }
   ],
   "source": [
    "df = pickle.load(open('../data/pickles/df_full.pickle', 'rb'))\n",
    "df = df_maker.conv_subt(df)\n",
    "X = df[0]\n",
    "y = df[1]\n",
    "\n",
    "X_train, X_test, y_train, y_test = train_test_split(X,y, test_size = .2, random_state=42)\n",
    "from imblearn.over_sampling import RandomOverSampler\n",
    "roc_auc_list = []\n",
    "kf = StratifiedKFold(n_splits=5, random_state=42)\n",
    "\n",
    "for train_ind, val_ind in kf.split(X_train, y_train):\n",
    "\n",
    "    X_ktrain, X_kval = X.iloc[train_ind], X.iloc[val_ind]\n",
    "    y_ktrain, y_kval = y.iloc[train_ind], y.iloc[val_ind]\n",
    "    \n",
    "    ros = RandomOverSampler(random_state=42)\n",
    "    X_train_resampled, y_train_resampled = ros.fit_resample(X_ktrain, y_ktrain)\n",
    "    \n",
    "    rf = RandomForestClassifier()\n",
    "    rf.fit(X_train_resampled,y_train_resampled)\n",
    "    y_pred = rf.predict(X_kval)\n",
    "    score = roc_auc_score(y_kval, y_pred)\n",
    "    \n",
    "    roc_auc_list.append(score)\n",
    "\n",
    "best_mean_roc_auc['con_subtype'] = sum(roc_auc_list)/len(roc_auc_list)\n",
    "\n",
    "print(sum(roc_auc_list)/len(roc_auc_list))"
   ]
  },
  {
   "cell_type": "markdown",
   "metadata": {},
   "source": [
    "### Subtype no target"
   ]
  },
  {
   "cell_type": "code",
   "execution_count": 21,
   "metadata": {},
   "outputs": [
    {
     "name": "stdout",
     "output_type": "stream",
     "text": [
      "0.5436915491682518\n"
     ]
    }
   ],
   "source": [
    "df = pickle.load(open('../data/pickles/df_full.pickle', 'rb'))\n",
    "df = df_maker.subt_no_target(df)\n",
    "X = df[0]\n",
    "y = df[1]\n",
    "\n",
    "X_train, X_test, y_train, y_test = train_test_split(X,y, test_size = .2, random_state=42)\n",
    "from imblearn.over_sampling import RandomOverSampler\n",
    "roc_auc_list = []\n",
    "kf = StratifiedKFold(n_splits=5, random_state=42)\n",
    "\n",
    "for train_ind, val_ind in kf.split(X_train, y_train):\n",
    "\n",
    "    X_ktrain, X_kval = X.iloc[train_ind], X.iloc[val_ind]\n",
    "    y_ktrain, y_kval = y.iloc[train_ind], y.iloc[val_ind]\n",
    "    \n",
    "    ros = RandomOverSampler(random_state=42)\n",
    "    X_train_resampled, y_train_resampled = ros.fit_resample(X_ktrain, y_ktrain)\n",
    "    \n",
    "    rf = RandomForestClassifier()\n",
    "    rf.fit(X_train_resampled,y_train_resampled)\n",
    "    y_pred = rf.predict_proba(X_kval)[:,1]\n",
    "    score = roc_auc_score(y_kval, y_pred)\n",
    "    \n",
    "    roc_auc_list.append(score)\n",
    "\n",
    "best_mean_roc_auc['con_subtype_no_target'] = sum(roc_auc_list)/len(roc_auc_list)\n",
    "\n",
    "print(sum(roc_auc_list)/len(roc_auc_list))"
   ]
  },
  {
   "cell_type": "code",
   "execution_count": 22,
   "metadata": {},
   "outputs": [
    {
     "data": {
      "text/plain": [
       "[('year_released_2015', 0.0),\n",
       " ('reporting_year_2018', 0.0),\n",
       " ('reporting_year_2017', 0.001270367926129876),\n",
       " ('conviction_subtype_Animals', 0.0019305160559775158),\n",
       " ('year_released_2014', 0.001958179940856661),\n",
       " ('conviction_subtype_Stolen Property', 0.0023706248059725764),\n",
       " ('conviction_subtype_Sex Offender Registry/Residency', 0.005347742657265268),\n",
       " ('conviction_subtype_Prostitution/Pimping', 0.0055606932915679905),\n",
       " ('conviction_subtype_Special Sentence Revocation', 0.008680675596665986),\n",
       " ('conviction_subtype_Kidnap', 0.008995023858870858),\n",
       " ('year_released_2013', 0.013051234879954679),\n",
       " ('conviction_subtype_Flight/Escape', 0.013305070230256186),\n",
       " ('reporting_year_2014', 0.013430417476172948),\n",
       " ('reporting_year_2013', 0.013455676233496522),\n",
       " ('conviction_subtype_Robbery', 0.014569418824757024),\n",
       " ('year_released_2010', 0.01461553335465647),\n",
       " ('year_released_2011', 0.014780984773111105),\n",
       " ('reporting_year_2016', 0.015027337644162295),\n",
       " ('conviction_subtype_Other Public Order', 0.015491273729482747),\n",
       " ('year_released_2012', 0.015678951836785446),\n",
       " ('conviction_subtype_Arson', 0.016721027100893165),\n",
       " ('conviction_subtype_Weapons', 0.017459173726277994),\n",
       " ('reporting_year_2015', 0.01818773629402118),\n",
       " ('race_Asian or Pacific Islander - Non-Hispanic', 0.01822163280884442),\n",
       " ('conviction_subtype_Vandalism', 0.01853361156916533),\n",
       " ('conviction_subtype_Other Drug', 0.01860824009928832),\n",
       " ('conviction_subtype_Forgery/Fraud', 0.020763315252809573),\n",
       " ('conviction_subtype_Other Criminal', 0.021207250184830547),\n",
       " ('conviction_subtype_Drug Possession', 0.024561736330467977),\n",
       " ('conviction_subtype_Other Violent', 0.025403004105851456),\n",
       " ('conviction_subtype_Traffic', 0.025736378629045965),\n",
       " ('conviction_subtype_Murder/Manslaughter', 0.026510882024800692),\n",
       " ('conviction_subtype_Alcohol', 0.026985489333631145),\n",
       " ('conviction_subtype_Assault', 0.02750138976480917),\n",
       " ('age_at_release_Under 25', 0.027744789889438393),\n",
       " ('conviction_subtype_Theft', 0.029080131151868333),\n",
       " ('age_at_release_55 and Older', 0.029659588428082213),\n",
       " ('race_American Indian or Alaska Native - Non-Hispanic',\n",
       "  0.030723521530791515),\n",
       " ('conviction_subtype_Trafficking', 0.03077704070538178),\n",
       " ('conviction_subtype_OWI', 0.03098206320166117),\n",
       " ('conviction_subtype_Sex', 0.03294342750741995),\n",
       " ('conviction_subtype_Burglary', 0.03417480920484309),\n",
       " ('age_at_release_35-44', 0.03617719621674489),\n",
       " ('age_at_release_45-54', 0.03851016584126881),\n",
       " ('age_at_release_25-34', 0.04144121663967494),\n",
       " ('race_White - Hispanic', 0.042064311759831774),\n",
       " ('race_Black - Non-Hispanic', 0.04890352775127748),\n",
       " ('race_White - Non-Hispanic', 0.06089761983083656)]"
      ]
     },
     "execution_count": 22,
     "metadata": {},
     "output_type": "execute_result"
    }
   ],
   "source": [
    "import operator\n",
    "\n",
    "df_feature_imp = {}\n",
    "\n",
    "for imp, feature in (zip(rf.feature_importances_, list(X))):\n",
    "    df_feature_imp[feature] = imp\n",
    "\n",
    "sorted_features = sorted(df_feature_imp.items(), key=operator.itemgetter(1)) \n",
    "sorted_features"
   ]
  },
  {
   "cell_type": "markdown",
   "metadata": {},
   "source": [
    "## Subtype no target no years"
   ]
  },
  {
   "cell_type": "code",
   "execution_count": 32,
   "metadata": {},
   "outputs": [
    {
     "name": "stdout",
     "output_type": "stream",
     "text": [
      "0.535833175704734\n"
     ]
    }
   ],
   "source": [
    "df = pickle.load(open('../data/pickles/df_full.pickle', 'rb'))\n",
    "df = df_maker.subt_no_target(df)\n",
    "X = df[0]\n",
    "y = df[1]\n",
    "\n",
    "X_train, X_test, y_train, y_test = train_test_split(X,y, test_size = .2, random_state=42)\n",
    "from imblearn.over_sampling import RandomOverSampler\n",
    "roc_auc_list = []\n",
    "kf = StratifiedKFold(n_splits=5, random_state=42)\n",
    "\n",
    "for train_ind, val_ind in kf.split(X_train, y_train):\n",
    "\n",
    "    X_ktrain, X_kval = X.iloc[train_ind], X.iloc[val_ind]\n",
    "    y_ktrain, y_kval = y.iloc[train_ind], y.iloc[val_ind]\n",
    "    \n",
    "    ros = RandomOverSampler(random_state=42)\n",
    "    X_train_resampled, y_train_resampled = ros.fit_resample(X_ktrain, y_ktrain)\n",
    "    \n",
    "    rf = RandomForestClassifier()\n",
    "    rf.fit(X_train_resampled,y_train_resampled)\n",
    "    y_pred = rf.predict_proba(X_kval)[:,1]\n",
    "    score = roc_auc_score(y_kval, y_pred)\n",
    "    \n",
    "    roc_auc_list.append(score)\n",
    "\n",
    "best_mean_roc_auc['subt_no_targ_no_years'] = sum(roc_auc_list)/len(roc_auc_list)\n",
    "\n",
    "print(sum(roc_auc_list)/len(roc_auc_list))"
   ]
  },
  {
   "cell_type": "code",
   "execution_count": 24,
   "metadata": {},
   "outputs": [
    {
     "data": {
      "text/plain": [
       "[('year_released_2015', 0.0),\n",
       " ('reporting_year_2018', 0.0),\n",
       " ('year_released_2014', 0.0008371153766856744),\n",
       " ('reporting_year_2017', 0.0014432825356373018),\n",
       " ('conviction_subtype_Animals', 0.0018301843934731762),\n",
       " ('conviction_subtype_Stolen Property', 0.0021476250766961284),\n",
       " ('conviction_subtype_Prostitution/Pimping', 0.006183501785678435),\n",
       " ('conviction_subtype_Sex Offender Registry/Residency', 0.0071909524580127514),\n",
       " ('conviction_subtype_Special Sentence Revocation', 0.007247564950289105),\n",
       " ('conviction_subtype_Kidnap', 0.009477805675708963),\n",
       " ('year_released_2012', 0.01095574896596921),\n",
       " ('year_released_2013', 0.01129336602691543),\n",
       " ('year_released_2010', 0.011878886721861664),\n",
       " ('year_released_2011', 0.012100931091844161),\n",
       " ('reporting_year_2014', 0.012198956452125851),\n",
       " ('conviction_subtype_Flight/Escape', 0.012934283949309436),\n",
       " ('reporting_year_2013', 0.01294498228518141),\n",
       " ('reporting_year_2015', 0.013194369813335369),\n",
       " ('reporting_year_2016', 0.01368334841619365),\n",
       " ('conviction_subtype_Robbery', 0.015880464638793314),\n",
       " ('conviction_subtype_Arson', 0.016706865593224943),\n",
       " ('conviction_subtype_Other Drug', 0.016866960789785175),\n",
       " ('race_Asian or Pacific Islander - Non-Hispanic', 0.0171319507621572),\n",
       " ('conviction_subtype_Other Public Order', 0.017906699165956354),\n",
       " ('conviction_subtype_Vandalism', 0.01794824353965218),\n",
       " ('conviction_subtype_Weapons', 0.020489939358600898),\n",
       " ('conviction_subtype_Drug Possession', 0.024519761904996388),\n",
       " ('conviction_subtype_Forgery/Fraud', 0.024657441523617672),\n",
       " ('conviction_subtype_Other Criminal', 0.024736261466622715),\n",
       " ('conviction_subtype_Other Violent', 0.026045887846714473),\n",
       " ('conviction_subtype_Murder/Manslaughter', 0.02660414817081814),\n",
       " ('conviction_subtype_Traffic', 0.026932955745183434),\n",
       " ('conviction_subtype_Burglary', 0.028521044489896778),\n",
       " ('conviction_subtype_Theft', 0.028909543549871918),\n",
       " ('race_American Indian or Alaska Native - Non-Hispanic',\n",
       "  0.029008841300107585),\n",
       " ('conviction_subtype_Alcohol', 0.030166157065711324),\n",
       " ('age_at_release_55 and Older', 0.030796598017126912),\n",
       " ('conviction_subtype_Sex', 0.03142549121720362),\n",
       " ('conviction_subtype_Assault', 0.03203413803123016),\n",
       " ('age_at_release_45-54', 0.03250441584107931),\n",
       " ('conviction_subtype_Trafficking', 0.032740657052057025),\n",
       " ('age_at_release_35-44', 0.03314756203311177),\n",
       " ('age_at_release_Under 25', 0.033715801354298976),\n",
       " ('age_at_release_25-34', 0.03854023963375478),\n",
       " ('conviction_subtype_OWI', 0.03912545893120322),\n",
       " ('race_White - Hispanic', 0.04167609779707431),\n",
       " ('race_Black - Non-Hispanic', 0.05404253372526615),\n",
       " ('race_White - Non-Hispanic', 0.05967493347996559)]"
      ]
     },
     "execution_count": 24,
     "metadata": {},
     "output_type": "execute_result"
    }
   ],
   "source": [
    "import operator\n",
    "\n",
    "df_feature_imp = {}\n",
    "\n",
    "for imp, feature in (zip(rf.feature_importances_, list(X))):\n",
    "    df_feature_imp[feature] = imp\n",
    "\n",
    "sorted_features = sorted(df_feature_imp.items(), key=operator.itemgetter(1)) \n",
    "sorted_features"
   ]
  },
  {
   "cell_type": "code",
   "execution_count": 25,
   "metadata": {},
   "outputs": [
    {
     "data": {
      "text/plain": [
       "{'full_feature': 0.5317897266879001,\n",
       " 'full_feature_no_years': 0.5521282047650967,\n",
       " 'no_years_no_target': 0.5568718996885214,\n",
       " 'full_feature_no_target': 0.5235114643020122,\n",
       " 'conv_class': 0.5672464741220502,\n",
       " 'con_class_no_target': 0.5434516247364696,\n",
       " 'con_type': 0.5720941803718126,\n",
       " 'con_type_no_target': 0.5657696473657061,\n",
       " 'con_subtype': 0.5381432928250558,\n",
       " 'con_subtype_no_target': 0.5436915491682518,\n",
       " 'subt_no_targ_no_years': 0.5302292751934168}"
      ]
     },
     "execution_count": 25,
     "metadata": {},
     "output_type": "execute_result"
    }
   ],
   "source": [
    "best_mean_roc_auc"
   ]
  },
  {
   "cell_type": "markdown",
   "metadata": {},
   "source": [
    "# With subtype no target no years, iterate through RF depth"
   ]
  },
  {
   "cell_type": "code",
   "execution_count": 26,
   "metadata": {},
   "outputs": [
    {
     "name": "stdout",
     "output_type": "stream",
     "text": [
      "4 0.5829068761390509\n"
     ]
    }
   ],
   "source": [
    "df = pickle.load(open('../data/pickles/df_full.pickle', 'rb'))\n",
    "df = df_maker.conv_subt(df)\n",
    "X = df[0]\n",
    "y = df[1]\n",
    "\n",
    "X_train, X_test, y_train, y_test = train_test_split(X,y, test_size = .2, random_state=42)\n",
    "roc_auc_list = []\n",
    "\n",
    "best_depth = 0\n",
    "best_depth_roc = 0\n",
    "for depth in range(2,20):\n",
    "    kf = StratifiedKFold(n_splits=5, random_state=42)\n",
    "    roc_auc_list = []\n",
    "    for train_ind, val_ind in kf.split(X_train, y_train):\n",
    "\n",
    "        X_train, X_val = X.iloc[train_ind], X.iloc[val_ind]\n",
    "        y_train, y_val = y.iloc[train_ind], y.iloc[val_ind]\n",
    "\n",
    "        ros = RandomOverSampler(random_state=42)\n",
    "        X_train_resampled, y_train_resampled = ros.fit_resample(X_train, y_train)\n",
    "\n",
    "        rf = RandomForestClassifier(max_depth=depth)\n",
    "        rf.fit(X_train_resampled,y_train_resampled)\n",
    "        y_pred = rf.predict(X_val)\n",
    "\n",
    "        roc_auc_list.append(roc_auc_score(y_val, y_pred))\n",
    "        \n",
    "    mean_roc = sum(roc_auc_list)/len(roc_auc_list)\n",
    "    if mean_roc > best_depth_roc:\n",
    "        best_depth = depth\n",
    "        best_depth_roc = mean_roc\n",
    "\n",
    "print(best_depth, best_depth_roc)"
   ]
  },
  {
   "cell_type": "code",
   "execution_count": null,
   "metadata": {},
   "outputs": [],
   "source": []
  },
  {
   "cell_type": "markdown",
   "metadata": {},
   "source": [
    "# Random Forest Trim unimportant features"
   ]
  },
  {
   "cell_type": "code",
   "execution_count": null,
   "metadata": {},
   "outputs": [],
   "source": []
  },
  {
   "cell_type": "code",
   "execution_count": 27,
   "metadata": {},
   "outputs": [],
   "source": [
    "df = pickle.load(open('../data/pickles/df_full.pickle', 'rb'))\n",
    "df = df.drop(columns = ['release_type_Discharged - Expiration of Sentence',\n",
    " 'release_type_Parole Granted',\n",
    " 'release_type_Paroled to Detainer - INS',\n",
    " 'release_type_Paroled to Detainer - Iowa',\n",
    " 'release_type_Paroled to Detainer - Out of State',\n",
    " 'release_type_Paroled to Detainer - U.S. Marshall',\n",
    " 'release_type_Paroled w/Immediate Discharge',\n",
    " 'release_type_Released to Special Sentence',\n",
    " 'supervising_district_ISC'])"
   ]
  },
  {
   "cell_type": "code",
   "execution_count": 28,
   "metadata": {},
   "outputs": [],
   "source": [
    "X = df.drop('recid_flag', axis = 1)\n",
    "y= df['recid_flag']\n",
    "X_train, X_test, y_train, y_test = train_test_split(X,y, test_size = .2, random_state=42)\n"
   ]
  },
  {
   "cell_type": "code",
   "execution_count": 29,
   "metadata": {},
   "outputs": [
    {
     "name": "stdout",
     "output_type": "stream",
     "text": [
      "[0.5657270388218403, 0.5211698956709406, 0.5250119887648148, 0.5026952431763145, 0.5050404864613174]\n",
      "0.5239289305790455\n"
     ]
    }
   ],
   "source": [
    "roc_auc_list = []\n",
    "for train_ind, val_ind in kf.split(X_train, y_train):\n",
    "\n",
    "    X_train, X_val = X.iloc[train_ind], X.iloc[val_ind]\n",
    "    y_train, y_val = y.iloc[train_ind], y.iloc[val_ind]\n",
    "    \n",
    "    ros = RandomOverSampler(random_state=42)\n",
    "    X_train_resampled, y_train_resampled = ros.fit_resample(X_train, y_train)\n",
    "    \n",
    "    rf = RandomForestClassifier()\n",
    "    rf.fit(X_train_resampled,y_train_resampled)\n",
    "    y_pred = rf.predict(X_val)\n",
    "    roc_auc_list.append(roc_auc_score(y_val, y_pred))\n",
    "\n",
    "print(roc_auc_list)\n",
    "print(sum(roc_auc_list)/len(roc_auc_list))"
   ]
  },
  {
   "cell_type": "code",
   "execution_count": 30,
   "metadata": {},
   "outputs": [
    {
     "data": {
      "text/plain": [
       "[('year_released_2015', 0.0),\n",
       " ('reporting_year_2018', 0.0),\n",
       " ('conviction_class_A Felony', 0.0),\n",
       " ('conviction_class_Sexual Predator Community Supervision',\n",
       "  4.663409089258192e-06),\n",
       " ('conviction_class_Other Felony (Old Code)', 1.1873848943455245e-05),\n",
       " ('conviction_class_Simple Misdemeanor', 7.81853300512634e-05),\n",
       " ('conviction_class_Felony - Mandatory Minimum', 0.00015381075909536162),\n",
       " ('conviction_class_Other Felony', 0.000154524102823699),\n",
       " ('conviction_subtype_Animals', 0.00018949486681110717),\n",
       " ('year_released_2014', 0.00030869335020244123),\n",
       " ('reporting_year_2017', 0.00047916668468760484),\n",
       " ('conviction_subtype_Special Sentence Revocation', 0.0007340929066488851),\n",
       " ('conviction_subtype_Stolen Property', 0.0012780158336033055),\n",
       " ('conviction_subtype_Prostitution/Pimping', 0.001405186791133628),\n",
       " ('conviction_class_Special Sentence 2005', 0.001626746442258532),\n",
       " ('conviction_subtype_Kidnap', 0.0016902746390038542),\n",
       " ('conviction_subtype_Flight/Escape', 0.0026742562099379154),\n",
       " ('conviction_subtype_Sex Offender Registry/Residency', 0.003182401666114067),\n",
       " ('conviction_subtype_Other Criminal', 0.0033334361901424152),\n",
       " ('conviction_class_Serious Misdemeanor', 0.003413078744425429),\n",
       " ('conviction_subtype_Arson', 0.004040517257803713),\n",
       " ('conviction_subtype_Alcohol', 0.004355065801544055),\n",
       " ('convicting_type_Other', 0.0045666421637039255),\n",
       " ('conviction_subtype_Other Drug', 0.004663326671054021),\n",
       " ('conviction_subtype_Other Public Order', 0.004932296730045653),\n",
       " ('release_type_Special Sentence', 0.00510904472255312),\n",
       " ('conviction_subtype_Robbery', 0.005549218576720489),\n",
       " ('supervising_district_Interstate Compact', 0.005690581356682212),\n",
       " ('race_Asian or Pacific Islander - Non-Hispanic', 0.005772656979511992),\n",
       " ('conviction_subtype_Weapons', 0.0057796534399235065),\n",
       " ('conviction_subtype_Murder/Manslaughter', 0.00666823605704026),\n",
       " ('conviction_class_Felony - Enhanced', 0.0073588724482717876),\n",
       " ('conviction_subtype_Vandalism', 0.007458655624021672),\n",
       " ('year_released_2013', 0.007761485130375649),\n",
       " ('conviction_subtype_Traffic', 0.008069212239139395),\n",
       " ('conviction_subtype_Drug Possession', 0.008071134065844813),\n",
       " ('conviction_subtype_Other Violent', 0.00830055419756287),\n",
       " ('reporting_year_2016', 0.008481398640926284),\n",
       " ('conviction_subtype_Sex', 0.008524920428448267),\n",
       " ('convicting_type_Property', 0.009117029775270593),\n",
       " ('release_type_Discharged – End of Sentence', 0.009168290445283505),\n",
       " ('convicting_type_Drug', 0.009584761700699423),\n",
       " ('convicting_type_Public Order', 0.009841907517846884),\n",
       " ('conviction_subtype_Assault', 0.01021459253401872),\n",
       " ('conviction_subtype_OWI', 0.010542334724286987),\n",
       " ('race_American Indian or Alaska Native - Non-Hispanic',\n",
       "  0.010609911888066603),\n",
       " ('conviction_subtype_Forgery/Fraud', 0.010959626003185768),\n",
       " ('conviction_class_Felony - Enhancement to Original Penalty',\n",
       "  0.01119614227641357),\n",
       " ('convicting_type_Violent', 0.012661815850343924),\n",
       " ('year_released_2010', 0.012829241565804696),\n",
       " ('year_released_2012', 0.012877740304404412),\n",
       " ('reporting_year_2013', 0.012985736374364282),\n",
       " ('release_type_Parole', 0.012994194171566841),\n",
       " ('conviction_subtype_Trafficking', 0.013197025758996176),\n",
       " ('year_released_2011', 0.013442110196719148),\n",
       " ('conviction_subtype_Theft', 0.013840958889499108),\n",
       " ('reporting_year_2014', 0.013863591816028082),\n",
       " ('conviction_subtype_Burglary', 0.014176677547827112),\n",
       " ('supervising_district_4JD', 0.01447755189689627),\n",
       " ('conviction_class_B Felony', 0.014986048655973333),\n",
       " ('reporting_year_2015', 0.015396004606523243),\n",
       " ('supervising_district_6JD', 0.018848675330773966),\n",
       " ('supervising_district_3JD', 0.01895734712742527),\n",
       " ('age_at_release_55 and Older', 0.01907972369089813),\n",
       " ('race_White - Hispanic', 0.019338367057217722),\n",
       " ('supervising_district_8JD', 0.02046889006737291),\n",
       " ('supervising_district_None-Discharged', 0.02067002878947903),\n",
       " ('supervising_district_7JD', 0.022731290168850674),\n",
       " ('age_at_release_45-54', 0.02645873831708253),\n",
       " ('supervising_district_2JD', 0.02646824762169312),\n",
       " ('conviction_class_Aggravated Misdemeanor', 0.027250048015841744),\n",
       " ('supervising_district_1JD', 0.029446281077346297),\n",
       " ('supervising_district_5JD', 0.03079103586865939),\n",
       " ('age_at_release_Under 25', 0.031553353001159),\n",
       " ('conviction_class_C Felony', 0.033182523854375034),\n",
       " ('target_pop_flag', 0.03756180008228348),\n",
       " ('conviction_class_D Felony', 0.038681785624088375),\n",
       " ('age_at_release_35-44', 0.0389160409398589),\n",
       " ('race_Black - Non-Hispanic', 0.0390013547772737),\n",
       " ('age_at_release_25-34', 0.04433359189507231),\n",
       " ('race_White - Non-Hispanic', 0.04542620788708383)]"
      ]
     },
     "execution_count": 30,
     "metadata": {},
     "output_type": "execute_result"
    }
   ],
   "source": [
    "import operator\n",
    "\n",
    "df_feature_imp = {}\n",
    "\n",
    "for imp, feature in (zip(rf.feature_importances_, list(X))):\n",
    "    df_feature_imp[feature] = imp\n",
    "\n",
    "sorted_features = sorted(df_feature_imp.items(), key=operator.itemgetter(1)) \n",
    "sorted_features"
   ]
  },
  {
   "cell_type": "code",
   "execution_count": null,
   "metadata": {},
   "outputs": [],
   "source": []
  },
  {
   "cell_type": "markdown",
   "metadata": {},
   "source": [
    "## Tune depth"
   ]
  },
  {
   "cell_type": "code",
   "execution_count": 31,
   "metadata": {},
   "outputs": [
    {
     "ename": "NameError",
     "evalue": "name 'accuracy' is not defined",
     "output_type": "error",
     "traceback": [
      "\u001b[0;31m---------------------------------------------------------------------------\u001b[0m",
      "\u001b[0;31mNameError\u001b[0m                                 Traceback (most recent call last)",
      "\u001b[0;32m<ipython-input-31-4ae76a2b0cf8>\u001b[0m in \u001b[0;36m<module>\u001b[0;34m\u001b[0m\n\u001b[1;32m      4\u001b[0m     \u001b[0mkf\u001b[0m \u001b[0;34m=\u001b[0m \u001b[0mStratifiedKFold\u001b[0m\u001b[0;34m(\u001b[0m\u001b[0mn_splits\u001b[0m\u001b[0;34m=\u001b[0m\u001b[0;36m5\u001b[0m\u001b[0;34m,\u001b[0m \u001b[0mrandom_state\u001b[0m\u001b[0;34m=\u001b[0m\u001b[0;36m42\u001b[0m\u001b[0;34m)\u001b[0m\u001b[0;34m\u001b[0m\u001b[0;34m\u001b[0m\u001b[0m\n\u001b[1;32m      5\u001b[0m     \u001b[0mroc_auc_list\u001b[0m \u001b[0;34m=\u001b[0m \u001b[0;34m[\u001b[0m\u001b[0;34m]\u001b[0m\u001b[0;34m\u001b[0m\u001b[0;34m\u001b[0m\u001b[0m\n\u001b[0;32m----> 6\u001b[0;31m     \u001b[0mmetric_list\u001b[0m \u001b[0;34m=\u001b[0m \u001b[0;34m[\u001b[0m\u001b[0maccuracy\u001b[0m\u001b[0;34m,\u001b[0m \u001b[0mprecision\u001b[0m\u001b[0;34m,\u001b[0m\u001b[0mrecall\u001b[0m\u001b[0;34m,\u001b[0m  \u001b[0mf1_scores\u001b[0m\u001b[0;34m]\u001b[0m\u001b[0;34m\u001b[0m\u001b[0;34m\u001b[0m\u001b[0m\n\u001b[0m\u001b[1;32m      7\u001b[0m     \u001b[0;32mfor\u001b[0m \u001b[0mtrain_ind\u001b[0m\u001b[0;34m,\u001b[0m \u001b[0mval_ind\u001b[0m \u001b[0;32min\u001b[0m \u001b[0mkf\u001b[0m\u001b[0;34m.\u001b[0m\u001b[0msplit\u001b[0m\u001b[0;34m(\u001b[0m\u001b[0mX_train\u001b[0m\u001b[0;34m,\u001b[0m \u001b[0my_train\u001b[0m\u001b[0;34m)\u001b[0m\u001b[0;34m:\u001b[0m\u001b[0;34m\u001b[0m\u001b[0;34m\u001b[0m\u001b[0m\n\u001b[1;32m      8\u001b[0m \u001b[0;34m\u001b[0m\u001b[0m\n",
      "\u001b[0;31mNameError\u001b[0m: name 'accuracy' is not defined"
     ]
    }
   ],
   "source": [
    "best_depth = 0\n",
    "best_depth_roc = 0\n",
    "for depth in range(2,20):\n",
    "    kf = StratifiedKFold(n_splits=5, random_state=42)\n",
    "    roc_auc_list = []\n",
    "    metric_list = [accuracy, precision,recall,  f1_scores]\n",
    "    for train_ind, val_ind in kf.split(X_train, y_train):\n",
    "\n",
    "        X_train, X_val = X.iloc[train_ind], X.iloc[val_ind]\n",
    "        y_train, y_val = y.iloc[train_ind], y.iloc[val_ind]\n",
    "\n",
    "        ros = RandomOverSampler(random_state=42)\n",
    "        X_train_resampled, y_train_resampled = ros.fit_resample(X_train, y_train)\n",
    "\n",
    "        rf = RandomForestClassifier(max_depth=depth)\n",
    "        rf.fit(X_train_resampled,y_train_resampled)\n",
    "        y_pred = rf.predict(X_val)\n",
    "\n",
    "        roc_auc_list.append(roc_auc_score(y_val, y_pred))\n",
    "        \n",
    "    mean_roc = sum(roc_auc_list)/len(roc_auc_list)\n",
    "    if mean_roc > best_depth_roc:\n",
    "        best_depth = depth\n",
    "        best_depth_roc = mean_roc"
   ]
  },
  {
   "cell_type": "code",
   "execution_count": null,
   "metadata": {},
   "outputs": [],
   "source": [
    "print(best_depth, best_depth_roc)"
   ]
  },
  {
   "cell_type": "markdown",
   "metadata": {},
   "source": [
    "## Run with Best Depth of "
   ]
  },
  {
   "cell_type": "code",
   "execution_count": null,
   "metadata": {},
   "outputs": [],
   "source": [
    "X_train, X_test, y_train, y_test = train_test_split(X,y, test_size = .2, random_state=42)\n",
    "\n",
    "roc_auc_list = []\n",
    "for train_ind, val_ind in kf.split(X_train, y_train):\n",
    "\n",
    "    X_train, X_val = X.iloc[train_ind], X.iloc[val_ind]\n",
    "    y_train, y_val = y.iloc[train_ind], y.iloc[val_ind]\n",
    "    \n",
    "    ros = RandomOverSampler(random_state=42)\n",
    "    X_train_resampled, y_train_resampled = ros.fit_resample(X_train, y_train)\n",
    "    print(len(X_train_resampled))\n",
    "    rf = RandomForestClassifier(max_depth=best_depth)\n",
    "    rf.fit(X_train_resampled,y_train_resampled)\n",
    "    y_pred = rf.predict(X_val)\n",
    "    roc_auc_list.append(roc_auc_score(y_val, y_pred))\n",
    "\n",
    "print(roc_auc_list)\n",
    "print(sum(roc_auc_list)/len(roc_auc_list))"
   ]
  },
  {
   "cell_type": "code",
   "execution_count": null,
   "metadata": {},
   "outputs": [],
   "source": [
    "X_train, X_test, y_train, y_test = train_test_split(X,y, test_size = .2, random_state=42)\n",
    "ros = RandomOverSampler(random_state=42)\n",
    "X_train_resampled, y_train_resampled = ros.fit_resample(X_train, y_train)\n",
    "\n",
    "rf = RandomForestClassifier(max_depth = 4)\n",
    "rf.fit(X_train_resampled, y_train_resampled)\n",
    "y_pred = rf.predict(X_test)\n",
    "print(roc_auc_score(y_test, y_pred))"
   ]
  },
  {
   "cell_type": "code",
   "execution_count": null,
   "metadata": {},
   "outputs": [],
   "source": [
    "from sklearn.metrics import confusion_matrix\n",
    "import seaborn as sns\n",
    "rf_confusion = confusion_matrix(y_test, y_pred)\n",
    "\n",
    "plt.figure(dpi=100)\n",
    "\n",
    "target_names = ['no_recid', 'recid']\n",
    "sns.heatmap(rf_confusion, cmap=plt.cm.Blues, annot=True, square=True,\n",
    "           xticklabels=target_names,\n",
    "           yticklabels=target_names,\n",
    "           fmt='d')\n",
    "\n",
    "plt.xlabel('Predicted recidivism')\n",
    "plt.ylabel('Actual recidivism')"
   ]
  },
  {
   "cell_type": "code",
   "execution_count": null,
   "metadata": {},
   "outputs": [],
   "source": [
    "import operator\n",
    "\n",
    "df_feature_imp = {}\n",
    "\n",
    "for imp, feature in (zip(rf.feature_importances_, list(X))):\n",
    "    df_feature_imp[feature] = imp\n",
    "\n",
    "sorted_features = sorted(df_feature_imp.items(), key=operator.itemgetter(1)) \n",
    "sorted_features"
   ]
  },
  {
   "cell_type": "markdown",
   "metadata": {},
   "source": [
    "# DF Sparse pickle with subtypes"
   ]
  },
  {
   "cell_type": "code",
   "execution_count": null,
   "metadata": {},
   "outputs": [],
   "source": [
    "df = pickle.load(open('../data/pickles/df_sparse_con_subtype.pickle', 'rb'))"
   ]
  },
  {
   "cell_type": "code",
   "execution_count": null,
   "metadata": {},
   "outputs": [],
   "source": [
    "X = df.drop('recid_flag', axis = 1)\n",
    "y = df.recid_flag"
   ]
  },
  {
   "cell_type": "code",
   "execution_count": null,
   "metadata": {},
   "outputs": [],
   "source": [
    "X_train, X_test, y_train, y_test = train_test_split(X,y, test_size = .2, random_state=42)\n",
    "\n",
    "best_depth = 0\n",
    "best_depth_roc = 0\n",
    "for depth in range(2,20):\n",
    "    kf = StratifiedKFold(n_splits=5, random_state=42)\n",
    "    roc_auc_list = []\n",
    "    metric_list = [accuracy, precision,recall,  f1_scores]\n",
    "    for train_ind, val_ind in kf.split(X_train, y_train):\n",
    "\n",
    "        X_train, X_val = X.iloc[train_ind], X.iloc[val_ind]\n",
    "        y_train, y_val = y.iloc[train_ind], y.iloc[val_ind]\n",
    "\n",
    "        ros = RandomOverSampler(random_state=42)\n",
    "        X_train_resampled, y_train_resampled = ros.fit_resample(X_train, y_train)\n",
    "\n",
    "        rf = RandomForestClassifier(max_depth=depth)\n",
    "        rf.fit(X_train_resampled,y_train_resampled)\n",
    "        y_pred = rf.predict(X_val)\n",
    "\n",
    "        roc_auc_list.append(roc_auc_score(y_val, y_pred))\n",
    "        \n",
    "    mean_roc = sum(roc_auc_list)/len(roc_auc_list)\n",
    "    if mean_roc > best_depth_roc:\n",
    "        best_depth = depth\n",
    "        best_depth_roc = mean_roc"
   ]
  },
  {
   "cell_type": "code",
   "execution_count": null,
   "metadata": {},
   "outputs": [],
   "source": [
    "print(best_depth, best_depth_roc)"
   ]
  },
  {
   "cell_type": "code",
   "execution_count": null,
   "metadata": {},
   "outputs": [],
   "source": [
    "X_train, X_test, y_train, y_test = train_test_split(X,y, test_size = .2, random_state=42)\n",
    "ros = RandomOverSampler(random_state=42)\n",
    "X_train_resampled, y_train_resampled = ros.fit_resample(X_train, y_train)\n",
    "\n",
    "rf = RandomForestClassifier(max_depth = 3)\n",
    "rf.fit(X_train_resampled, y_train_resampled)\n",
    "y_pred = rf.predict(X_test)\n",
    "print(roc_auc_score(y_test, y_pred))"
   ]
  },
  {
   "cell_type": "code",
   "execution_count": null,
   "metadata": {},
   "outputs": [],
   "source": [
    "import operator\n",
    "\n",
    "df_feature_imp = {}\n",
    "\n",
    "for imp, feature in (zip(rf.feature_importances_, list(X))):\n",
    "    df_feature_imp[feature] = imp\n",
    "\n",
    "sorted_features = sorted(df_feature_imp.items(), key=operator.itemgetter(1)) \n",
    "sorted_features"
   ]
  },
  {
   "cell_type": "markdown",
   "metadata": {},
   "source": [
    "## Cull with unimportant features"
   ]
  },
  {
   "cell_type": "code",
   "execution_count": null,
   "metadata": {},
   "outputs": [],
   "source": [
    "X = df.drop(columns = ['recid_flag',\n",
    "                       'race_American Indian or Alaska Native - Non-Hispanic', \n",
    "                         'conviction_subtype_Animals',\n",
    "                         'conviction_subtype_Arson',\n",
    "                         'conviction_subtype_Drug Possession', \n",
    "                         'conviction_subtype_Forgery/Fraud', \n",
    "                         'conviction_subtype_Other Drug', \n",
    "                         'conviction_subtype_Other Violent', \n",
    "                         'conviction_subtype_Prostitution/Pimping', \n",
    "                         'conviction_subtype_Sex Offender Registry/Residency', \n",
    "                         'conviction_subtype_Special Sentence Revocation', \n",
    "                         'conviction_subtype_Stolen Property', \n",
    "                         'conviction_subtype_Theft', \n",
    "                         'conviction_subtype_Traffic', \n",
    "                         'conviction_subtype_Vandalism', \n",
    "                         'conviction_subtype_Weapons',\n",
    "                          'target_pop_flag'])\n",
    "y = df.recid_flag"
   ]
  },
  {
   "cell_type": "code",
   "execution_count": null,
   "metadata": {},
   "outputs": [],
   "source": [
    "X_train, X_test, y_train, y_test = train_test_split(X,y, test_size = .2, random_state=42)\n",
    "\n",
    "best_depth = 0\n",
    "best_depth_roc = 0\n",
    "for depth in range(2,20):\n",
    "    kf = StratifiedKFold(n_splits=5, random_state=42)\n",
    "    roc_auc_list = []\n",
    "    metric_list = [accuracy, precision,recall,  f1_scores]\n",
    "    for train_ind, val_ind in kf.split(X_train, y_train):\n",
    "\n",
    "        X_train, X_val = X.iloc[train_ind], X.iloc[val_ind]\n",
    "        y_train, y_val = y.iloc[train_ind], y.iloc[val_ind]\n",
    "\n",
    "        ros = RandomOverSampler(random_state=42)\n",
    "        X_train_resampled, y_train_resampled = ros.fit_resample(X_train, y_train)\n",
    "\n",
    "        rf = RandomForestClassifier(max_depth=depth)\n",
    "        rf.fit(X_train_resampled,y_train_resampled)\n",
    "        y_pred = rf.predict(X_val)\n",
    "\n",
    "        roc_auc_list.append(roc_auc_score(y_val, y_pred))\n",
    "        \n",
    "    mean_roc = sum(roc_auc_list)/len(roc_auc_list)\n",
    "    if mean_roc > best_depth_roc:\n",
    "        best_depth = depth\n",
    "        best_depth_roc = mean_roc"
   ]
  },
  {
   "cell_type": "code",
   "execution_count": null,
   "metadata": {},
   "outputs": [],
   "source": [
    "print(best_depth, best_depth_roc)"
   ]
  },
  {
   "cell_type": "code",
   "execution_count": null,
   "metadata": {},
   "outputs": [],
   "source": [
    "X_train, X_test, y_train, y_test = train_test_split(X,y, test_size = .2, random_state=42)\n",
    "ros = RandomOverSampler(random_state=42)\n",
    "X_train_resampled, y_train_resampled = ros.fit_resample(X_train, y_train)\n",
    "\n",
    "rf = RandomForestClassifier(max_depth = best_depth)\n",
    "rf.fit(X_train_resampled, y_train_resampled)\n",
    "y_pred = rf.predict(X_test)\n",
    "print(roc_auc_score(y_test, y_pred))"
   ]
  },
  {
   "cell_type": "code",
   "execution_count": null,
   "metadata": {
    "scrolled": true
   },
   "outputs": [],
   "source": [
    "import operator\n",
    "\n",
    "df_feature_imp = {}\n",
    "\n",
    "for imp, feature in (zip(rf.feature_importances_, list(X))):\n",
    "    df_feature_imp[feature] = imp\n",
    "\n",
    "sorted_features = sorted(df_feature_imp.items(), key=operator.itemgetter(1)) \n",
    "for x in sorted_features:\n",
    "    print(x)\n",
    "    \n",
    "print(\"\\nROC_AUC_Score: %s\" %roc_auc_score(y_test, y_pred))"
   ]
  },
  {
   "cell_type": "code",
   "execution_count": null,
   "metadata": {},
   "outputs": [],
   "source": [
    "rf_confusion = confusion_matrix(y_test, y_pred)\n",
    "\n",
    "plt.figure(dpi=100)\n",
    "\n",
    "target_names = ['no_recid', 'recid']\n",
    "sns.heatmap(rf_confusion, cmap=plt.cm.Blues, annot=True, square=True,\n",
    "           xticklabels=target_names,\n",
    "           yticklabels=target_names,\n",
    "           fmt='d')\n",
    "\n",
    "plt.xlabel('Predicted recidivism')\n",
    "plt.ylabel('Actual recidivism')"
   ]
  },
  {
   "cell_type": "markdown",
   "metadata": {},
   "source": [
    "# For Flask"
   ]
  },
  {
   "cell_type": "code",
   "execution_count": null,
   "metadata": {},
   "outputs": [],
   "source": [
    "X = df.drop(columns = ['recid_flag'])\n",
    "y = df['recid_flag']"
   ]
  },
  {
   "cell_type": "code",
   "execution_count": null,
   "metadata": {},
   "outputs": [],
   "source": [
    "X = X[['race_Black - Non-Hispanic',\n",
    " 'race_White - Hispanic',\n",
    " 'race_White - Non-Hispanic',\n",
    " 'age_at_release_25-34',\n",
    " 'age_at_release_35-44',\n",
    " 'age_at_release_45-54',\n",
    " 'age_at_release_55 and Older',\n",
    " 'age_at_release_Under 25',]]"
   ]
  },
  {
   "cell_type": "code",
   "execution_count": null,
   "metadata": {},
   "outputs": [],
   "source": [
    "X_train, X_test, y_train, y_test = train_test_split(X,y, test_size = .2, random_state=42)\n",
    "ros = RandomOverSampler(random_state=42)\n",
    "X_train_resampled, y_train_resampled = ros.fit_resample(X_train, y_train)\n",
    "\n",
    "rf = RandomForestClassifier(max_depth = 4)\n",
    "rf.fit(X_train_resampled, y_train_resampled)\n",
    "y_pred = rf.predict(X_test)\n",
    "print(roc_auc_score(y_test, y_pred))"
   ]
  },
  {
   "cell_type": "code",
   "execution_count": null,
   "metadata": {},
   "outputs": [],
   "source": [
    "import pickle\n",
    "with open('flask_test.pickle', 'wb') as write_file:\n",
    "    pickle.dump(rf, write_file)"
   ]
  },
  {
   "cell_type": "code",
   "execution_count": null,
   "metadata": {},
   "outputs": [],
   "source": [
    "!ls"
   ]
  },
  {
   "cell_type": "code",
   "execution_count": null,
   "metadata": {},
   "outputs": [],
   "source": [
    "list(X)"
   ]
  },
  {
   "cell_type": "code",
   "execution_count": null,
   "metadata": {},
   "outputs": [],
   "source": []
  }
 ],
 "metadata": {
  "kernelspec": {
   "display_name": "Python 3",
   "language": "python",
   "name": "python3"
  },
  "language_info": {
   "codemirror_mode": {
    "name": "ipython",
    "version": 3
   },
   "file_extension": ".py",
   "mimetype": "text/x-python",
   "name": "python",
   "nbconvert_exporter": "python",
   "pygments_lexer": "ipython3",
   "version": "3.6.7"
  },
  "toc": {
   "base_numbering": 1,
   "nav_menu": {},
   "number_sections": true,
   "sideBar": true,
   "skip_h1_title": false,
   "title_cell": "Table of Contents",
   "title_sidebar": "Contents",
   "toc_cell": false,
   "toc_position": {
    "height": "calc(100% - 180px)",
    "left": "10px",
    "top": "150px",
    "width": "259.631px"
   },
   "toc_section_display": true,
   "toc_window_display": true
  },
  "varInspector": {
   "cols": {
    "lenName": 16,
    "lenType": 16,
    "lenVar": 40
   },
   "kernels_config": {
    "python": {
     "delete_cmd_postfix": "",
     "delete_cmd_prefix": "del ",
     "library": "var_list.py",
     "varRefreshCmd": "print(var_dic_list())"
    },
    "r": {
     "delete_cmd_postfix": ") ",
     "delete_cmd_prefix": "rm(",
     "library": "var_list.r",
     "varRefreshCmd": "cat(var_dic_list()) "
    }
   },
   "types_to_exclude": [
    "module",
    "function",
    "builtin_function_or_method",
    "instance",
    "_Feature"
   ],
   "window_display": false
  }
 },
 "nbformat": 4,
 "nbformat_minor": 2
}
