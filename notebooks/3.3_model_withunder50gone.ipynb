{
 "cells": [
  {
   "cell_type": "code",
   "execution_count": 47,
   "metadata": {},
   "outputs": [],
   "source": [
    "import pandas as pd\n",
    "import matplotlib.pyplot as plt\n",
    "import numpy as np\n",
    "from imblearn.over_sampling import RandomOverSampler\n",
    "\n",
    "from sklearn.linear_model import LogisticRegression\n",
    "from sklearn.neighbors import KNeighborsClassifier\n",
    "from sklearn.ensemble import RandomForestClassifier\n",
    "from sklearn.model_selection import train_test_split, StratifiedKFold\n",
    "from sklearn.metrics import roc_auc_score\n",
    "from sklearn import naive_bayes\n",
    "from sklearn import svm\n",
    "\n",
    "\n",
    "import warnings\n",
    "warnings.filterwarnings('ignore')\n",
    "pd.options.display.max_columns = None\n",
    "\n",
    "\n",
    "import pickle\n",
    "import df_trimmer\n"
   ]
  },
  {
   "cell_type": "code",
   "execution_count": 5,
   "metadata": {},
   "outputs": [
    {
     "data": {
      "text/plain": [
       "(24150, 91)"
      ]
     },
     "execution_count": 5,
     "metadata": {},
     "output_type": "execute_result"
    }
   ],
   "source": [
    "df = pickle.load(open('../data/pickles/df_full.pickle', 'rb'))\n",
    "df.shape"
   ]
  },
  {
   "cell_type": "markdown",
   "metadata": {},
   "source": [
    "# function for testing"
   ]
  },
  {
   "cell_type": "code",
   "execution_count": 6,
   "metadata": {},
   "outputs": [],
   "source": [
    "# for key, value in df_dict.items(model_function):\n",
    "    \n",
    "#     df = value\n",
    "#     X = df[0]\n",
    "#     y = df[1]\n",
    "\n",
    "def model_trainer(model_function, X, y):\n",
    "    roc_auc_list = []\n",
    "    X_train, X_test, y_train, y_test = train_test_split(X,y, test_size = .2, random_state=42)\n",
    "\n",
    "    kf = StratifiedKFold(n_splits=5, random_state=42)\n",
    "\n",
    "    for train_ind, val_ind in kf.split(X_train, y_train):\n",
    "\n",
    "        X_ktrain, X_kval = X.iloc[train_ind], X.iloc[val_ind]\n",
    "        y_ktrain, y_kval = y.iloc[train_ind], y.iloc[val_ind]\n",
    "\n",
    "        ros = RandomOverSampler(random_state=42)\n",
    "        X_train_resampled, y_train_resampled = ros.fit_resample(X_ktrain, y_ktrain)\n",
    "\n",
    "        reg = model_function\n",
    "        reg.fit(X_train_resampled,y_train_resampled)\n",
    "        y_pred = reg.predict_proba(X_kval)[:,1]\n",
    "        score = roc_auc_score(y_kval, y_pred)\n",
    "\n",
    "        roc_auc_list.append(score)\n",
    "\n",
    "    mean_roc_auc = sum(roc_auc_list)/len(roc_auc_list)\n",
    "\n",
    "    #print(sum(roc_auc_list)/len(roc_auc_list))\n",
    "    print(mean_roc_auc)\n",
    "    return mean_roc_auc"
   ]
  },
  {
   "cell_type": "markdown",
   "metadata": {},
   "source": [
    "# Logistic"
   ]
  },
  {
   "cell_type": "code",
   "execution_count": 7,
   "metadata": {},
   "outputs": [],
   "source": [
    "df = pickle.load(open('../data/pickles/df_full.pickle', 'rb'))\n",
    "mask =[feature  for feature in list(df) if df[feature].sum() > 50]\n",
    "df = df[mask]\n",
    "df_dict = {'all_features':df_trimmer.all_features(df),\n",
    "           'no_targ_pop':df_trimmer.no_targ_pop(df),\n",
    "           'no_years':df_trimmer.no_years(df), \n",
    "           'no_years_no_target': df_trimmer.no_years_no_target(df),\n",
    "           'subtype':df_trimmer.conv_subt(df), 'subtype_no_targ':df_trimmer.subt_no_target(df), \n",
    "           'subt_no_tar_no_year':df_trimmer.subt_no_targ_no_years(df),\n",
    "           'class':df_trimmer.conv_class(df), 'class_no_target':df_trimmer.class_no_target(df),\n",
    "           'type':df_trimmer.conv_type(df), 'type_no_target':df_trimmer.type_no_target(df)}\n",
    "best_mean_roc_auc = {}\n",
    "roc_auc_list = []\n"
   ]
  },
  {
   "cell_type": "code",
   "execution_count": 8,
   "metadata": {},
   "outputs": [
    {
     "name": "stdout",
     "output_type": "stream",
     "text": [
      "0.6259167683387536\n",
      "0.6248704534789425\n",
      "0.6379582801257285\n",
      "0.6443278160165826\n",
      "0.6002769169748345\n",
      "0.5725938557208643\n",
      "0.5933486277198468\n",
      "0.6018820260385105\n",
      "0.5739736503552244\n",
      "0.6059579542159873\n",
      "0.5865689904118204\n"
     ]
    }
   ],
   "source": [
    "best_mean_roc = {}\n",
    "\n",
    "for key, value in df_dict.items():\n",
    "    \n",
    "    df = value\n",
    "    X = df[0]\n",
    "    y = df[1]\n",
    "    best_mean_roc[key] = model_trainer(LogisticRegression(), X, y)"
   ]
  },
  {
   "cell_type": "code",
   "execution_count": 9,
   "metadata": {},
   "outputs": [
    {
     "data": {
      "text/plain": [
       "{'all_features': 0.6259167683387536,\n",
       " 'no_targ_pop': 0.6248704534789425,\n",
       " 'no_years': 0.6379582801257285,\n",
       " 'no_years_no_target': 0.6443278160165826,\n",
       " 'subtype': 0.6002769169748345,\n",
       " 'subtype_no_targ': 0.5725938557208643,\n",
       " 'subt_no_tar_no_year': 0.5933486277198468,\n",
       " 'class': 0.6018820260385105,\n",
       " 'class_no_target': 0.5739736503552244,\n",
       " 'type': 0.6059579542159873,\n",
       " 'type_no_target': 0.5865689904118204}"
      ]
     },
     "execution_count": 9,
     "metadata": {},
     "output_type": "execute_result"
    }
   ],
   "source": [
    "best_mean_roc"
   ]
  },
  {
   "cell_type": "markdown",
   "metadata": {},
   "source": [
    "### with no years no target"
   ]
  },
  {
   "cell_type": "code",
   "execution_count": 10,
   "metadata": {},
   "outputs": [
    {
     "name": "stdout",
     "output_type": "stream",
     "text": [
      "0.6443278160165826\n",
      "0.6443236482259702\n",
      "0.6443279691612015\n",
      "0.6443358315845537\n",
      "0.644342671034164\n",
      "0.6443255680860364\n",
      "0.6443315595413109\n",
      "0.6443237212451052\n",
      "0.64432148055841\n",
      "0.6443263271461331\n",
      "0.644332840938242\n",
      "0.6443273325077964\n",
      "0.6443256317647841\n",
      "0.6443228751724331\n",
      "0.6443223832139157\n",
      "0.6443118389532796\n",
      "0.6443021555757904\n",
      "0.6442999363866675\n",
      "0.6442930678663069\n",
      "0.644294561083254\n",
      "1.2105263157894737 0.644342671034164\n"
     ]
    }
   ],
   "source": [
    "df = pickle.load(open('../data/pickles/df_full.pickle', 'rb'))\n",
    "mask =[feature  for feature in list(df) if df[feature].sum() > 50]\n",
    "df = df[mask]\n",
    "\n",
    "df = df_trimmer.no_years_no_target(df)\n",
    "X = df[0]\n",
    "y = df[1]\n",
    "\n",
    "# C_range = np.linspace(1,20,50)\n",
    "C_range = np.linspace(1,2,20)\n",
    "best_C = 0\n",
    "best_roc = 0\n",
    "for C in C_range:\n",
    "    model_roc = model_trainer(LogisticRegression(C=C), X, y)\n",
    "    if model_roc > best_roc:\n",
    "        best_C = C\n",
    "        best_roc = model_roc\n",
    "print(best_C, best_roc)"
   ]
  },
  {
   "cell_type": "code",
   "execution_count": 11,
   "metadata": {},
   "outputs": [
    {
     "name": "stdout",
     "output_type": "stream",
     "text": [
      "1.2105263157894737\n"
     ]
    }
   ],
   "source": [
    "print(best_C)"
   ]
  },
  {
   "cell_type": "markdown",
   "metadata": {},
   "source": [
    "# Knn"
   ]
  },
  {
   "cell_type": "code",
   "execution_count": 12,
   "metadata": {},
   "outputs": [],
   "source": [
    "df = pickle.load(open('../data/pickles/df_full.pickle', 'rb'))\n",
    "mask =[feature  for feature in list(df) if df[feature].sum() > 50]\n",
    "df = df[mask]\n",
    "df_dict = {'all_features':df_trimmer.all_features(df),\n",
    "           'no_targ_pop':df_trimmer.no_targ_pop(df),\n",
    "           'no_years':df_trimmer.no_years(df), \n",
    "           'no_years_no_target': df_trimmer.no_years_no_target(df),\n",
    "           'subtype':df_trimmer.conv_subt(df), 'subtype_no_targ':df_trimmer.subt_no_target(df), \n",
    "           'subt_no_tar_no_year':df_trimmer.subt_no_targ_no_years(df),\n",
    "           'class':df_trimmer.conv_class(df), 'class_no_target':df_trimmer.class_no_target(df),\n",
    "           'type':df_trimmer.conv_type(df), 'type_no_target':df_trimmer.type_no_target(df)}\n",
    "best_mean_roc_auc = {}\n",
    "roc_auc_list = []"
   ]
  },
  {
   "cell_type": "code",
   "execution_count": 26,
   "metadata": {},
   "outputs": [
    {
     "ename": "KeyboardInterrupt",
     "evalue": "",
     "output_type": "error",
     "traceback": [
      "\u001b[0;31m---------------------------------------------------------------------------\u001b[0m",
      "\u001b[0;31mKeyboardInterrupt\u001b[0m                         Traceback (most recent call last)",
      "\u001b[0;32m<ipython-input-26-8e2d0459a22a>\u001b[0m in \u001b[0;36m<module>\u001b[0;34m\u001b[0m\n\u001b[1;32m      6\u001b[0m     \u001b[0mX\u001b[0m \u001b[0;34m=\u001b[0m \u001b[0mdf\u001b[0m\u001b[0;34m[\u001b[0m\u001b[0;36m0\u001b[0m\u001b[0;34m]\u001b[0m\u001b[0;34m\u001b[0m\u001b[0;34m\u001b[0m\u001b[0m\n\u001b[1;32m      7\u001b[0m     \u001b[0my\u001b[0m \u001b[0;34m=\u001b[0m \u001b[0mdf\u001b[0m\u001b[0;34m[\u001b[0m\u001b[0;36m1\u001b[0m\u001b[0;34m]\u001b[0m\u001b[0;34m\u001b[0m\u001b[0;34m\u001b[0m\u001b[0m\n\u001b[0;32m----> 8\u001b[0;31m     \u001b[0mbest_mean_roc\u001b[0m\u001b[0;34m[\u001b[0m\u001b[0mkey\u001b[0m\u001b[0;34m]\u001b[0m \u001b[0;34m=\u001b[0m \u001b[0mmodel_trainer\u001b[0m\u001b[0;34m(\u001b[0m\u001b[0mKNeighborsClassifier\u001b[0m\u001b[0;34m(\u001b[0m\u001b[0;34m)\u001b[0m\u001b[0;34m,\u001b[0m \u001b[0mX\u001b[0m\u001b[0;34m,\u001b[0m \u001b[0my\u001b[0m\u001b[0;34m)\u001b[0m\u001b[0;34m\u001b[0m\u001b[0;34m\u001b[0m\u001b[0m\n\u001b[0m",
      "\u001b[0;32m<ipython-input-6-2bfe0a7a9a24>\u001b[0m in \u001b[0;36mmodel_trainer\u001b[0;34m(model_function, X, y)\u001b[0m\n\u001b[1;32m     21\u001b[0m         \u001b[0mreg\u001b[0m \u001b[0;34m=\u001b[0m \u001b[0mmodel_function\u001b[0m\u001b[0;34m\u001b[0m\u001b[0;34m\u001b[0m\u001b[0m\n\u001b[1;32m     22\u001b[0m         \u001b[0mreg\u001b[0m\u001b[0;34m.\u001b[0m\u001b[0mfit\u001b[0m\u001b[0;34m(\u001b[0m\u001b[0mX_train_resampled\u001b[0m\u001b[0;34m,\u001b[0m\u001b[0my_train_resampled\u001b[0m\u001b[0;34m)\u001b[0m\u001b[0;34m\u001b[0m\u001b[0;34m\u001b[0m\u001b[0m\n\u001b[0;32m---> 23\u001b[0;31m         \u001b[0my_pred\u001b[0m \u001b[0;34m=\u001b[0m \u001b[0mreg\u001b[0m\u001b[0;34m.\u001b[0m\u001b[0mpredict_proba\u001b[0m\u001b[0;34m(\u001b[0m\u001b[0mX_kval\u001b[0m\u001b[0;34m)\u001b[0m\u001b[0;34m[\u001b[0m\u001b[0;34m:\u001b[0m\u001b[0;34m,\u001b[0m\u001b[0;36m1\u001b[0m\u001b[0;34m]\u001b[0m\u001b[0;34m\u001b[0m\u001b[0;34m\u001b[0m\u001b[0m\n\u001b[0m\u001b[1;32m     24\u001b[0m         \u001b[0mscore\u001b[0m \u001b[0;34m=\u001b[0m \u001b[0mroc_auc_score\u001b[0m\u001b[0;34m(\u001b[0m\u001b[0my_kval\u001b[0m\u001b[0;34m,\u001b[0m \u001b[0my_pred\u001b[0m\u001b[0;34m)\u001b[0m\u001b[0;34m\u001b[0m\u001b[0;34m\u001b[0m\u001b[0m\n\u001b[1;32m     25\u001b[0m \u001b[0;34m\u001b[0m\u001b[0m\n",
      "\u001b[0;32m/anaconda3/lib/python3.6/site-packages/sklearn/neighbors/classification.py\u001b[0m in \u001b[0;36mpredict_proba\u001b[0;34m(self, X)\u001b[0m\n\u001b[1;32m    191\u001b[0m         \u001b[0mX\u001b[0m \u001b[0;34m=\u001b[0m \u001b[0mcheck_array\u001b[0m\u001b[0;34m(\u001b[0m\u001b[0mX\u001b[0m\u001b[0;34m,\u001b[0m \u001b[0maccept_sparse\u001b[0m\u001b[0;34m=\u001b[0m\u001b[0;34m'csr'\u001b[0m\u001b[0;34m)\u001b[0m\u001b[0;34m\u001b[0m\u001b[0;34m\u001b[0m\u001b[0m\n\u001b[1;32m    192\u001b[0m \u001b[0;34m\u001b[0m\u001b[0m\n\u001b[0;32m--> 193\u001b[0;31m         \u001b[0mneigh_dist\u001b[0m\u001b[0;34m,\u001b[0m \u001b[0mneigh_ind\u001b[0m \u001b[0;34m=\u001b[0m \u001b[0mself\u001b[0m\u001b[0;34m.\u001b[0m\u001b[0mkneighbors\u001b[0m\u001b[0;34m(\u001b[0m\u001b[0mX\u001b[0m\u001b[0;34m)\u001b[0m\u001b[0;34m\u001b[0m\u001b[0;34m\u001b[0m\u001b[0m\n\u001b[0m\u001b[1;32m    194\u001b[0m \u001b[0;34m\u001b[0m\u001b[0m\n\u001b[1;32m    195\u001b[0m         \u001b[0mclasses_\u001b[0m \u001b[0;34m=\u001b[0m \u001b[0mself\u001b[0m\u001b[0;34m.\u001b[0m\u001b[0mclasses_\u001b[0m\u001b[0;34m\u001b[0m\u001b[0;34m\u001b[0m\u001b[0m\n",
      "\u001b[0;32m/anaconda3/lib/python3.6/site-packages/sklearn/neighbors/base.py\u001b[0m in \u001b[0;36mkneighbors\u001b[0;34m(self, X, n_neighbors, return_distance)\u001b[0m\n\u001b[1;32m    453\u001b[0m                 delayed_query(\n\u001b[1;32m    454\u001b[0m                     self._tree, X[s], n_neighbors, return_distance)\n\u001b[0;32m--> 455\u001b[0;31m                 \u001b[0;32mfor\u001b[0m \u001b[0ms\u001b[0m \u001b[0;32min\u001b[0m \u001b[0mgen_even_slices\u001b[0m\u001b[0;34m(\u001b[0m\u001b[0mX\u001b[0m\u001b[0;34m.\u001b[0m\u001b[0mshape\u001b[0m\u001b[0;34m[\u001b[0m\u001b[0;36m0\u001b[0m\u001b[0;34m]\u001b[0m\u001b[0;34m,\u001b[0m \u001b[0mn_jobs\u001b[0m\u001b[0;34m)\u001b[0m\u001b[0;34m\u001b[0m\u001b[0;34m\u001b[0m\u001b[0m\n\u001b[0m\u001b[1;32m    456\u001b[0m             )\n\u001b[1;32m    457\u001b[0m         \u001b[0;32melse\u001b[0m\u001b[0;34m:\u001b[0m\u001b[0;34m\u001b[0m\u001b[0;34m\u001b[0m\u001b[0m\n",
      "\u001b[0;32m/anaconda3/lib/python3.6/site-packages/sklearn/externals/joblib/parallel.py\u001b[0m in \u001b[0;36m__call__\u001b[0;34m(self, iterable)\u001b[0m\n\u001b[1;32m    915\u001b[0m             \u001b[0;31m# remaining jobs.\u001b[0m\u001b[0;34m\u001b[0m\u001b[0;34m\u001b[0m\u001b[0;34m\u001b[0m\u001b[0m\n\u001b[1;32m    916\u001b[0m             \u001b[0mself\u001b[0m\u001b[0;34m.\u001b[0m\u001b[0m_iterating\u001b[0m \u001b[0;34m=\u001b[0m \u001b[0;32mFalse\u001b[0m\u001b[0;34m\u001b[0m\u001b[0;34m\u001b[0m\u001b[0m\n\u001b[0;32m--> 917\u001b[0;31m             \u001b[0;32mif\u001b[0m \u001b[0mself\u001b[0m\u001b[0;34m.\u001b[0m\u001b[0mdispatch_one_batch\u001b[0m\u001b[0;34m(\u001b[0m\u001b[0miterator\u001b[0m\u001b[0;34m)\u001b[0m\u001b[0;34m:\u001b[0m\u001b[0;34m\u001b[0m\u001b[0;34m\u001b[0m\u001b[0m\n\u001b[0m\u001b[1;32m    918\u001b[0m                 \u001b[0mself\u001b[0m\u001b[0;34m.\u001b[0m\u001b[0m_iterating\u001b[0m \u001b[0;34m=\u001b[0m \u001b[0mself\u001b[0m\u001b[0;34m.\u001b[0m\u001b[0m_original_iterator\u001b[0m \u001b[0;32mis\u001b[0m \u001b[0;32mnot\u001b[0m \u001b[0;32mNone\u001b[0m\u001b[0;34m\u001b[0m\u001b[0;34m\u001b[0m\u001b[0m\n\u001b[1;32m    919\u001b[0m \u001b[0;34m\u001b[0m\u001b[0m\n",
      "\u001b[0;32m/anaconda3/lib/python3.6/site-packages/sklearn/externals/joblib/parallel.py\u001b[0m in \u001b[0;36mdispatch_one_batch\u001b[0;34m(self, iterator)\u001b[0m\n\u001b[1;32m    757\u001b[0m                 \u001b[0;32mreturn\u001b[0m \u001b[0;32mFalse\u001b[0m\u001b[0;34m\u001b[0m\u001b[0;34m\u001b[0m\u001b[0m\n\u001b[1;32m    758\u001b[0m             \u001b[0;32melse\u001b[0m\u001b[0;34m:\u001b[0m\u001b[0;34m\u001b[0m\u001b[0;34m\u001b[0m\u001b[0m\n\u001b[0;32m--> 759\u001b[0;31m                 \u001b[0mself\u001b[0m\u001b[0;34m.\u001b[0m\u001b[0m_dispatch\u001b[0m\u001b[0;34m(\u001b[0m\u001b[0mtasks\u001b[0m\u001b[0;34m)\u001b[0m\u001b[0;34m\u001b[0m\u001b[0;34m\u001b[0m\u001b[0m\n\u001b[0m\u001b[1;32m    760\u001b[0m                 \u001b[0;32mreturn\u001b[0m \u001b[0;32mTrue\u001b[0m\u001b[0;34m\u001b[0m\u001b[0;34m\u001b[0m\u001b[0m\n\u001b[1;32m    761\u001b[0m \u001b[0;34m\u001b[0m\u001b[0m\n",
      "\u001b[0;32m/anaconda3/lib/python3.6/site-packages/sklearn/externals/joblib/parallel.py\u001b[0m in \u001b[0;36m_dispatch\u001b[0;34m(self, batch)\u001b[0m\n\u001b[1;32m    714\u001b[0m         \u001b[0;32mwith\u001b[0m \u001b[0mself\u001b[0m\u001b[0;34m.\u001b[0m\u001b[0m_lock\u001b[0m\u001b[0;34m:\u001b[0m\u001b[0;34m\u001b[0m\u001b[0;34m\u001b[0m\u001b[0m\n\u001b[1;32m    715\u001b[0m             \u001b[0mjob_idx\u001b[0m \u001b[0;34m=\u001b[0m \u001b[0mlen\u001b[0m\u001b[0;34m(\u001b[0m\u001b[0mself\u001b[0m\u001b[0;34m.\u001b[0m\u001b[0m_jobs\u001b[0m\u001b[0;34m)\u001b[0m\u001b[0;34m\u001b[0m\u001b[0;34m\u001b[0m\u001b[0m\n\u001b[0;32m--> 716\u001b[0;31m             \u001b[0mjob\u001b[0m \u001b[0;34m=\u001b[0m \u001b[0mself\u001b[0m\u001b[0;34m.\u001b[0m\u001b[0m_backend\u001b[0m\u001b[0;34m.\u001b[0m\u001b[0mapply_async\u001b[0m\u001b[0;34m(\u001b[0m\u001b[0mbatch\u001b[0m\u001b[0;34m,\u001b[0m \u001b[0mcallback\u001b[0m\u001b[0;34m=\u001b[0m\u001b[0mcb\u001b[0m\u001b[0;34m)\u001b[0m\u001b[0;34m\u001b[0m\u001b[0;34m\u001b[0m\u001b[0m\n\u001b[0m\u001b[1;32m    717\u001b[0m             \u001b[0;31m# A job can complete so quickly than its callback is\u001b[0m\u001b[0;34m\u001b[0m\u001b[0;34m\u001b[0m\u001b[0;34m\u001b[0m\u001b[0m\n\u001b[1;32m    718\u001b[0m             \u001b[0;31m# called before we get here, causing self._jobs to\u001b[0m\u001b[0;34m\u001b[0m\u001b[0;34m\u001b[0m\u001b[0;34m\u001b[0m\u001b[0m\n",
      "\u001b[0;32m/anaconda3/lib/python3.6/site-packages/sklearn/externals/joblib/_parallel_backends.py\u001b[0m in \u001b[0;36mapply_async\u001b[0;34m(self, func, callback)\u001b[0m\n\u001b[1;32m    180\u001b[0m     \u001b[0;32mdef\u001b[0m \u001b[0mapply_async\u001b[0m\u001b[0;34m(\u001b[0m\u001b[0mself\u001b[0m\u001b[0;34m,\u001b[0m \u001b[0mfunc\u001b[0m\u001b[0;34m,\u001b[0m \u001b[0mcallback\u001b[0m\u001b[0;34m=\u001b[0m\u001b[0;32mNone\u001b[0m\u001b[0;34m)\u001b[0m\u001b[0;34m:\u001b[0m\u001b[0;34m\u001b[0m\u001b[0;34m\u001b[0m\u001b[0m\n\u001b[1;32m    181\u001b[0m         \u001b[0;34m\"\"\"Schedule a func to be run\"\"\"\u001b[0m\u001b[0;34m\u001b[0m\u001b[0;34m\u001b[0m\u001b[0m\n\u001b[0;32m--> 182\u001b[0;31m         \u001b[0mresult\u001b[0m \u001b[0;34m=\u001b[0m \u001b[0mImmediateResult\u001b[0m\u001b[0;34m(\u001b[0m\u001b[0mfunc\u001b[0m\u001b[0;34m)\u001b[0m\u001b[0;34m\u001b[0m\u001b[0;34m\u001b[0m\u001b[0m\n\u001b[0m\u001b[1;32m    183\u001b[0m         \u001b[0;32mif\u001b[0m \u001b[0mcallback\u001b[0m\u001b[0;34m:\u001b[0m\u001b[0;34m\u001b[0m\u001b[0;34m\u001b[0m\u001b[0m\n\u001b[1;32m    184\u001b[0m             \u001b[0mcallback\u001b[0m\u001b[0;34m(\u001b[0m\u001b[0mresult\u001b[0m\u001b[0;34m)\u001b[0m\u001b[0;34m\u001b[0m\u001b[0;34m\u001b[0m\u001b[0m\n",
      "\u001b[0;32m/anaconda3/lib/python3.6/site-packages/sklearn/externals/joblib/_parallel_backends.py\u001b[0m in \u001b[0;36m__init__\u001b[0;34m(self, batch)\u001b[0m\n\u001b[1;32m    547\u001b[0m         \u001b[0;31m# Don't delay the application, to avoid keeping the input\u001b[0m\u001b[0;34m\u001b[0m\u001b[0;34m\u001b[0m\u001b[0;34m\u001b[0m\u001b[0m\n\u001b[1;32m    548\u001b[0m         \u001b[0;31m# arguments in memory\u001b[0m\u001b[0;34m\u001b[0m\u001b[0;34m\u001b[0m\u001b[0;34m\u001b[0m\u001b[0m\n\u001b[0;32m--> 549\u001b[0;31m         \u001b[0mself\u001b[0m\u001b[0;34m.\u001b[0m\u001b[0mresults\u001b[0m \u001b[0;34m=\u001b[0m \u001b[0mbatch\u001b[0m\u001b[0;34m(\u001b[0m\u001b[0;34m)\u001b[0m\u001b[0;34m\u001b[0m\u001b[0;34m\u001b[0m\u001b[0m\n\u001b[0m\u001b[1;32m    550\u001b[0m \u001b[0;34m\u001b[0m\u001b[0m\n\u001b[1;32m    551\u001b[0m     \u001b[0;32mdef\u001b[0m \u001b[0mget\u001b[0m\u001b[0;34m(\u001b[0m\u001b[0mself\u001b[0m\u001b[0;34m)\u001b[0m\u001b[0;34m:\u001b[0m\u001b[0;34m\u001b[0m\u001b[0;34m\u001b[0m\u001b[0m\n",
      "\u001b[0;32m/anaconda3/lib/python3.6/site-packages/sklearn/externals/joblib/parallel.py\u001b[0m in \u001b[0;36m__call__\u001b[0;34m(self)\u001b[0m\n\u001b[1;32m    223\u001b[0m         \u001b[0;32mwith\u001b[0m \u001b[0mparallel_backend\u001b[0m\u001b[0;34m(\u001b[0m\u001b[0mself\u001b[0m\u001b[0;34m.\u001b[0m\u001b[0m_backend\u001b[0m\u001b[0;34m,\u001b[0m \u001b[0mn_jobs\u001b[0m\u001b[0;34m=\u001b[0m\u001b[0mself\u001b[0m\u001b[0;34m.\u001b[0m\u001b[0m_n_jobs\u001b[0m\u001b[0;34m)\u001b[0m\u001b[0;34m:\u001b[0m\u001b[0;34m\u001b[0m\u001b[0;34m\u001b[0m\u001b[0m\n\u001b[1;32m    224\u001b[0m             return [func(*args, **kwargs)\n\u001b[0;32m--> 225\u001b[0;31m                     for func, args, kwargs in self.items]\n\u001b[0m\u001b[1;32m    226\u001b[0m \u001b[0;34m\u001b[0m\u001b[0m\n\u001b[1;32m    227\u001b[0m     \u001b[0;32mdef\u001b[0m \u001b[0m__len__\u001b[0m\u001b[0;34m(\u001b[0m\u001b[0mself\u001b[0m\u001b[0;34m)\u001b[0m\u001b[0;34m:\u001b[0m\u001b[0;34m\u001b[0m\u001b[0;34m\u001b[0m\u001b[0m\n",
      "\u001b[0;32m/anaconda3/lib/python3.6/site-packages/sklearn/externals/joblib/parallel.py\u001b[0m in \u001b[0;36m<listcomp>\u001b[0;34m(.0)\u001b[0m\n\u001b[1;32m    223\u001b[0m         \u001b[0;32mwith\u001b[0m \u001b[0mparallel_backend\u001b[0m\u001b[0;34m(\u001b[0m\u001b[0mself\u001b[0m\u001b[0;34m.\u001b[0m\u001b[0m_backend\u001b[0m\u001b[0;34m,\u001b[0m \u001b[0mn_jobs\u001b[0m\u001b[0;34m=\u001b[0m\u001b[0mself\u001b[0m\u001b[0;34m.\u001b[0m\u001b[0m_n_jobs\u001b[0m\u001b[0;34m)\u001b[0m\u001b[0;34m:\u001b[0m\u001b[0;34m\u001b[0m\u001b[0;34m\u001b[0m\u001b[0m\n\u001b[1;32m    224\u001b[0m             return [func(*args, **kwargs)\n\u001b[0;32m--> 225\u001b[0;31m                     for func, args, kwargs in self.items]\n\u001b[0m\u001b[1;32m    226\u001b[0m \u001b[0;34m\u001b[0m\u001b[0m\n\u001b[1;32m    227\u001b[0m     \u001b[0;32mdef\u001b[0m \u001b[0m__len__\u001b[0m\u001b[0;34m(\u001b[0m\u001b[0mself\u001b[0m\u001b[0;34m)\u001b[0m\u001b[0;34m:\u001b[0m\u001b[0;34m\u001b[0m\u001b[0;34m\u001b[0m\u001b[0m\n",
      "\u001b[0;32m/anaconda3/lib/python3.6/site-packages/sklearn/neighbors/base.py\u001b[0m in \u001b[0;36m_tree_query_parallel_helper\u001b[0;34m(tree, data, n_neighbors, return_distance)\u001b[0m\n\u001b[1;32m    290\u001b[0m     \u001b[0munder\u001b[0m \u001b[0mPyPy\u001b[0m\u001b[0;34m.\u001b[0m\u001b[0;34m\u001b[0m\u001b[0;34m\u001b[0m\u001b[0m\n\u001b[1;32m    291\u001b[0m     \"\"\"\n\u001b[0;32m--> 292\u001b[0;31m     \u001b[0;32mreturn\u001b[0m \u001b[0mtree\u001b[0m\u001b[0;34m.\u001b[0m\u001b[0mquery\u001b[0m\u001b[0;34m(\u001b[0m\u001b[0mdata\u001b[0m\u001b[0;34m,\u001b[0m \u001b[0mn_neighbors\u001b[0m\u001b[0;34m,\u001b[0m \u001b[0mreturn_distance\u001b[0m\u001b[0;34m)\u001b[0m\u001b[0;34m\u001b[0m\u001b[0;34m\u001b[0m\u001b[0m\n\u001b[0m\u001b[1;32m    293\u001b[0m \u001b[0;34m\u001b[0m\u001b[0m\n\u001b[1;32m    294\u001b[0m \u001b[0;34m\u001b[0m\u001b[0m\n",
      "\u001b[0;31mKeyboardInterrupt\u001b[0m: "
     ]
    }
   ],
   "source": [
    "best_mean_roc = {}\n",
    "\n",
    "for key, value in df_dict.items():\n",
    "    \n",
    "    df = value\n",
    "    X = df[0]\n",
    "    y = df[1]\n",
    "    best_mean_roc[key] = model_trainer(KNeighborsClassifier(), X, y)"
   ]
  },
  {
   "cell_type": "code",
   "execution_count": 15,
   "metadata": {},
   "outputs": [
    {
     "name": "stdout",
     "output_type": "stream",
     "text": [
      "{'all_features': 0.5354161341668107, 'no_targ_pop': 0.5284160872234279, 'no_years': 0.5522638525262046, 'no_years_no_target': 0.5561281759461746, 'subtype': 0.5294825870060366, 'subtype_no_targ': 0.5283930533722117, 'subt_no_tar_no_year': 0.5331259389853924, 'class': 0.5410128334160916, 'class_no_target': 0.5321189301405483, 'type': 0.539497805602971, 'type_no_target': 0.5377030937025655}\n"
     ]
    }
   ],
   "source": [
    "print(best_mean_roc)"
   ]
  },
  {
   "cell_type": "code",
   "execution_count": 25,
   "metadata": {},
   "outputs": [
    {
     "name": "stdout",
     "output_type": "stream",
     "text": [
      "0.5691029524588626\n",
      "12\n",
      "0.5718331510788159\n",
      "13\n",
      "0.5732292842549969\n",
      "14\n",
      "0.5755092751995405\n",
      "15\n",
      "15 0.5755092751995405\n"
     ]
    }
   ],
   "source": [
    "df = pickle.load(open('../data/pickles/df_full.pickle', 'rb'))\n",
    "mask =[feature  for feature in list(df) if df[feature].sum() > 50]\n",
    "df = df[mask]\n",
    "\n",
    "df = df_trimmer.no_years_no_target(df)\n",
    "X = df[0]\n",
    "y = df[1]\n",
    "\n",
    "# C_range = np.linspace(1,20,50)\n",
    "K_range = np.linspace(2,12,10)\n",
    "best_K = 0\n",
    "best_roc = 0\n",
    "for K in range(12,16):\n",
    "    model_roc = model_trainer(KNeighborsClassifier(n_neighbors=K), X, y)\n",
    "    if model_roc > best_roc:\n",
    "        best_K = K\n",
    "        best_roc = model_roc\n",
    "    print(K)\n",
    "print(best_K, best_roc)"
   ]
  },
  {
   "cell_type": "markdown",
   "metadata": {
    "heading_collapsed": true
   },
   "source": [
    "# Naive-Bayes Bernouli"
   ]
  },
  {
   "cell_type": "code",
   "execution_count": 29,
   "metadata": {
    "hidden": true
   },
   "outputs": [],
   "source": [
    "df = pickle.load(open('../data/pickles/df_full.pickle', 'rb'))\n",
    "mask =[feature  for feature in list(df) if df[feature].sum() > 50]\n",
    "df = df[mask]\n",
    "df_dict = {'all_features':df_trimmer.all_features(df),\n",
    "           'no_targ_pop':df_trimmer.no_targ_pop(df),\n",
    "           'no_years':df_trimmer.no_years(df), \n",
    "           'no_years_no_target': df_trimmer.no_years_no_target(df),\n",
    "           'subtype':df_trimmer.conv_subt(df), 'subtype_no_targ':df_trimmer.subt_no_target(df), \n",
    "           'subt_no_tar_no_year':df_trimmer.subt_no_targ_no_years(df),\n",
    "           'class':df_trimmer.conv_class(df), 'class_no_target':df_trimmer.class_no_target(df),\n",
    "           'type':df_trimmer.conv_type(df), 'type_no_target':df_trimmer.type_no_target(df)}\n",
    "best_mean_roc_auc = {}\n",
    "roc_auc_list = []"
   ]
  },
  {
   "cell_type": "code",
   "execution_count": 30,
   "metadata": {
    "hidden": true
   },
   "outputs": [
    {
     "name": "stdout",
     "output_type": "stream",
     "text": [
      "0.6056066876918941\n",
      "0.605280110219917\n",
      "0.6254983141718499\n",
      "0.6266309993864152\n",
      "0.5933795318582685\n",
      "0.5699823964756435\n",
      "0.5917707345050085\n",
      "0.5988526098424409\n",
      "0.5724899123976942\n",
      "0.60524009066357\n",
      "0.5854191628758054\n"
     ]
    }
   ],
   "source": [
    "best_mean_roc = {}\n",
    "\n",
    "for key, value in df_dict.items():\n",
    "    \n",
    "    df = value\n",
    "    X = df[0]\n",
    "    y = df[1]\n",
    "    best_mean_roc[key] = model_trainer(naive_bayes.BernoulliNB(), X, y)"
   ]
  },
  {
   "cell_type": "code",
   "execution_count": 31,
   "metadata": {
    "hidden": true
   },
   "outputs": [
    {
     "name": "stdout",
     "output_type": "stream",
     "text": [
      "{'all_features': 0.6056066876918941, 'no_targ_pop': 0.605280110219917, 'no_years': 0.6254983141718499, 'no_years_no_target': 0.6266309993864152, 'subtype': 0.5933795318582685, 'subtype_no_targ': 0.5699823964756435, 'subt_no_tar_no_year': 0.5917707345050085, 'class': 0.5988526098424409, 'class_no_target': 0.5724899123976942, 'type': 0.60524009066357, 'type_no_target': 0.5854191628758054}\n"
     ]
    }
   ],
   "source": [
    "print(best_mean_roc)"
   ]
  },
  {
   "cell_type": "markdown",
   "metadata": {},
   "source": [
    "# Random Forest"
   ]
  },
  {
   "cell_type": "code",
   "execution_count": 32,
   "metadata": {},
   "outputs": [],
   "source": [
    "df = pickle.load(open('../data/pickles/df_full.pickle', 'rb'))\n",
    "mask =[feature  for feature in list(df) if df[feature].sum() > 50]\n",
    "df = df[mask]\n",
    "df_dict = {'all_features':df_trimmer.all_features(df),\n",
    "           'no_targ_pop':df_trimmer.no_targ_pop(df),\n",
    "           'no_years':df_trimmer.no_years(df), \n",
    "           'no_years_no_target': df_trimmer.no_years_no_target(df),\n",
    "           'subtype':df_trimmer.conv_subt(df), 'subtype_no_targ':df_trimmer.subt_no_target(df), \n",
    "           'subt_no_tar_no_year':df_trimmer.subt_no_targ_no_years(df),\n",
    "           'class':df_trimmer.conv_class(df), 'class_no_target':df_trimmer.class_no_target(df),\n",
    "           'type':df_trimmer.conv_type(df), 'type_no_target':df_trimmer.type_no_target(df)}\n",
    "best_mean_roc_auc = {}\n",
    "roc_auc_list = []"
   ]
  },
  {
   "cell_type": "code",
   "execution_count": 41,
   "metadata": {},
   "outputs": [
    {
     "name": "stdout",
     "output_type": "stream",
     "text": [
      "0.5966010126956296\n",
      "0.6015327858834154\n",
      "0.6045550967607431\n",
      "0.5995798013870897\n",
      "0.5971718028835198\n",
      "0.5500250765312408\n",
      "0.5753479634812726\n",
      "0.5935199238270876\n",
      "0.5642603569418706\n",
      "0.5998086858506093\n",
      "0.57779522038374\n",
      "0.6039068199273888\n",
      "0.6043522445381673\n",
      "0.6130081790817146\n",
      "0.6100228425156236\n",
      "0.6005477844922369\n",
      "0.5611847189111394\n",
      "0.5809431970277409\n",
      "0.5990630240075212\n",
      "0.571076397493634\n",
      "0.6046760088811979\n",
      "0.5848430272036687\n",
      "0.6128204912183601\n",
      "0.6090729762729976\n",
      "0.6130541303283235\n",
      "0.6128600336290108\n",
      "0.6007288374226545\n",
      "0.5674435927571201\n",
      "0.5847148813312997\n",
      "0.5984442738824575\n",
      "0.5727707893022772\n",
      "0.603676727764973\n",
      "0.5891841275753886\n",
      "0.6077474444046146\n",
      "0.6137424218460538\n",
      "0.6112186556272787\n",
      "0.6175793584549873\n",
      "0.591658281929837\n",
      "0.5632007048051879\n",
      "0.5894793434924857\n",
      "0.596993605393153\n",
      "0.5738205831793506\n",
      "0.6036389751436106\n",
      "0.5889233704491584\n",
      "0.6186334131408536\n",
      "0.6146041015955326\n",
      "0.6165266037118019\n",
      "0.6213273679485929\n",
      "0.6018979517751786\n",
      "0.5619975371864883\n",
      "0.5914563501031935\n",
      "0.5975668028867339\n",
      "0.5721585316852453\n",
      "0.6064789380537421\n",
      "0.5895026983706522\n",
      "0.6206804646041189\n",
      "0.6128450591307473\n",
      "0.6206219481398462\n",
      "0.6233562980519023\n",
      "0.5942762513494693\n",
      "0.565123697574008\n",
      "0.5898496541133154\n",
      "0.5956943269991302\n",
      "0.5737620844873517\n",
      "0.6055795098575399\n",
      "0.5873582571576496\n",
      "0.6218289296466849\n",
      "0.6110764182347965\n",
      "0.6244697630614718\n",
      "0.6275627952126596\n",
      "0.6065432843361138\n",
      "0.5581712308521896\n",
      "0.5923224608075499\n",
      "0.5970485292060946\n",
      "0.5719176535652823\n",
      "0.6046753453385408\n",
      "0.5867150253804361\n",
      "0.6118446955297172\n",
      "0.6162696796506287\n",
      "0.6238330433682452\n",
      "0.6251030403710551\n",
      "0.5928387198962562\n",
      "0.5557203363979724\n",
      "0.5923292942842604\n",
      "0.5946563400594678\n",
      "0.5700346335996753\n",
      "0.6044254858675371\n",
      "0.5844105137321585\n"
     ]
    }
   ],
   "source": [
    "best_mean_roc = {}\n",
    "for depth in range(2,10):\n",
    "    for key, value in df_dict.items():\n",
    "\n",
    "        df = value\n",
    "        X = df[0]\n",
    "        y = df[1]\n",
    "        dict_str = str(key)+str(depth)\n",
    "        best_mean_roc[dict_str] = [model_trainer(RandomForestClassifier(max_depth=depth), X, y)]"
   ]
  },
  {
   "cell_type": "code",
   "execution_count": 42,
   "metadata": {},
   "outputs": [
    {
     "name": "stdout",
     "output_type": "stream",
     "text": [
      "{'all_features2': [0.5966010126956296], 'no_targ_pop2': [0.6015327858834154], 'no_years2': [0.6045550967607431], 'no_years_no_target2': [0.5995798013870897], 'subtype2': [0.5971718028835198], 'subtype_no_targ2': [0.5500250765312408], 'subt_no_tar_no_year2': [0.5753479634812726], 'class2': [0.5935199238270876], 'class_no_target2': [0.5642603569418706], 'type2': [0.5998086858506093], 'type_no_target2': [0.57779522038374], 'all_features3': [0.6039068199273888], 'no_targ_pop3': [0.6043522445381673], 'no_years3': [0.6130081790817146], 'no_years_no_target3': [0.6100228425156236], 'subtype3': [0.6005477844922369], 'subtype_no_targ3': [0.5611847189111394], 'subt_no_tar_no_year3': [0.5809431970277409], 'class3': [0.5990630240075212], 'class_no_target3': [0.571076397493634], 'type3': [0.6046760088811979], 'type_no_target3': [0.5848430272036687], 'all_features4': [0.6128204912183601], 'no_targ_pop4': [0.6090729762729976], 'no_years4': [0.6130541303283235], 'no_years_no_target4': [0.6128600336290108], 'subtype4': [0.6007288374226545], 'subtype_no_targ4': [0.5674435927571201], 'subt_no_tar_no_year4': [0.5847148813312997], 'class4': [0.5984442738824575], 'class_no_target4': [0.5727707893022772], 'type4': [0.603676727764973], 'type_no_target4': [0.5891841275753886], 'all_features5': [0.6077474444046146], 'no_targ_pop5': [0.6137424218460538], 'no_years5': [0.6112186556272787], 'no_years_no_target5': [0.6175793584549873], 'subtype5': [0.591658281929837], 'subtype_no_targ5': [0.5632007048051879], 'subt_no_tar_no_year5': [0.5894793434924857], 'class5': [0.596993605393153], 'class_no_target5': [0.5738205831793506], 'type5': [0.6036389751436106], 'type_no_target5': [0.5889233704491584], 'all_features6': [0.6186334131408536], 'no_targ_pop6': [0.6146041015955326], 'no_years6': [0.6165266037118019], 'no_years_no_target6': [0.6213273679485929], 'subtype6': [0.6018979517751786], 'subtype_no_targ6': [0.5619975371864883], 'subt_no_tar_no_year6': [0.5914563501031935], 'class6': [0.5975668028867339], 'class_no_target6': [0.5721585316852453], 'type6': [0.6064789380537421], 'type_no_target6': [0.5895026983706522], 'all_features7': [0.6206804646041189], 'no_targ_pop7': [0.6128450591307473], 'no_years7': [0.6206219481398462], 'no_years_no_target7': [0.6233562980519023], 'subtype7': [0.5942762513494693], 'subtype_no_targ7': [0.565123697574008], 'subt_no_tar_no_year7': [0.5898496541133154], 'class7': [0.5956943269991302], 'class_no_target7': [0.5737620844873517], 'type7': [0.6055795098575399], 'type_no_target7': [0.5873582571576496], 'all_features8': [0.6218289296466849], 'no_targ_pop8': [0.6110764182347965], 'no_years8': [0.6244697630614718], 'no_years_no_target8': [0.6275627952126596], 'subtype8': [0.6065432843361138], 'subtype_no_targ8': [0.5581712308521896], 'subt_no_tar_no_year8': [0.5923224608075499], 'class8': [0.5970485292060946], 'class_no_target8': [0.5719176535652823], 'type8': [0.6046753453385408], 'type_no_target8': [0.5867150253804361], 'all_features9': [0.6118446955297172], 'no_targ_pop9': [0.6162696796506287], 'no_years9': [0.6238330433682452], 'no_years_no_target9': [0.6251030403710551], 'subtype9': [0.5928387198962562], 'subtype_no_targ9': [0.5557203363979724], 'subt_no_tar_no_year9': [0.5923292942842604], 'class9': [0.5946563400594678], 'class_no_target9': [0.5700346335996753], 'type9': [0.6044254858675371], 'type_no_target9': [0.5844105137321585]}\n"
     ]
    }
   ],
   "source": [
    "print(best_mean_roc)"
   ]
  },
  {
   "cell_type": "code",
   "execution_count": 45,
   "metadata": {},
   "outputs": [
    {
     "name": "stdout",
     "output_type": "stream",
     "text": [
      "[0.6275627952126596] no_years_no_target8\n"
     ]
    }
   ],
   "source": [
    "max_rf = 0\n",
    "max_dep_comb = 0\n",
    "for key, value in best_mean_roc.items():\n",
    "    if best_mean_roc[key][0] > max_rf:\n",
    "        max_rf = value\n",
    "        max_dep_comb = key\n",
    "print(max_rf, max_dep_comb)"
   ]
  },
  {
   "cell_type": "markdown",
   "metadata": {
    "heading_collapsed": true
   },
   "source": [
    "# SVM"
   ]
  },
  {
   "cell_type": "code",
   "execution_count": 51,
   "metadata": {
    "hidden": true
   },
   "outputs": [],
   "source": [
    "def model_trainer_for_svm(model_function, X, y):\n",
    "    roc_auc_list = []\n",
    "    X_train, X_test, y_train, y_test = train_test_split(X,y, test_size = .2, random_state=42)\n",
    "\n",
    "    kf = StratifiedKFold(n_splits=5, random_state=42)\n",
    "\n",
    "    for train_ind, val_ind in kf.split(X_train, y_train):\n",
    "\n",
    "        X_ktrain, X_kval = X.iloc[train_ind], X.iloc[val_ind]\n",
    "        y_ktrain, y_kval = y.iloc[train_ind], y.iloc[val_ind]\n",
    "\n",
    "        ros = RandomOverSampler(random_state=42)\n",
    "        X_train_resampled, y_train_resampled = ros.fit_resample(X_ktrain, y_ktrain)\n",
    "\n",
    "        reg = model_function\n",
    "        reg.fit(X_train_resampled,y_train_resampled)\n",
    "        y_pred = reg.predict(X_kval)\n",
    "        score = roc_auc_score(y_kval, y_pred)\n",
    "\n",
    "        roc_auc_list.append(score)\n",
    "\n",
    "    mean_roc_auc = sum(roc_auc_list)/len(roc_auc_list)\n",
    "\n",
    "    #print(sum(roc_auc_list)/len(roc_auc_list))\n",
    "    print(mean_roc_auc)\n",
    "    return mean_roc_auc"
   ]
  },
  {
   "cell_type": "code",
   "execution_count": 52,
   "metadata": {
    "hidden": true
   },
   "outputs": [],
   "source": [
    "df = pickle.load(open('../data/pickles/df_full.pickle', 'rb'))\n",
    "mask =[feature  for feature in list(df) if df[feature].sum() > 50]\n",
    "df = df[mask]\n",
    "df_dict = {'all_features':df_trimmer.all_features(df),\n",
    "           'no_targ_pop':df_trimmer.no_targ_pop(df),\n",
    "           'no_years':df_trimmer.no_years(df), \n",
    "           'no_years_no_target': df_trimmer.no_years_no_target(df),\n",
    "           'subtype':df_trimmer.conv_subt(df), 'subtype_no_targ':df_trimmer.subt_no_target(df), \n",
    "           'subt_no_tar_no_year':df_trimmer.subt_no_targ_no_years(df),\n",
    "           'class':df_trimmer.conv_class(df), 'class_no_target':df_trimmer.class_no_target(df),\n",
    "           'type':df_trimmer.conv_type(df), 'type_no_target':df_trimmer.type_no_target(df)}\n",
    "best_mean_roc_auc = {}\n",
    "roc_auc_list = []"
   ]
  },
  {
   "cell_type": "code",
   "execution_count": 54,
   "metadata": {
    "hidden": true
   },
   "outputs": [
    {
     "name": "stdout",
     "output_type": "stream",
     "text": [
      "0.5810982612300724\n"
     ]
    }
   ],
   "source": [
    "best_mean_roc = {}\n",
    "\n",
    "df = pickle.load(open('../data/pickles/df_full.pickle', 'rb'))\n",
    "mask =[feature  for feature in list(df) if df[feature].sum() > 50]\n",
    "df = df_trimmer.no_years_no_target(df)\n",
    "X = df[0]\n",
    "y = df[1]\n",
    "best_mean_roc[key] = model_trainer_for_svm(svm.SVC(kernel='linear'), X, y)"
   ]
  },
  {
   "cell_type": "code",
   "execution_count": 55,
   "metadata": {
    "hidden": true
   },
   "outputs": [
    {
     "name": "stdout",
     "output_type": "stream",
     "text": [
      "0.5669331200423507\n"
     ]
    }
   ],
   "source": [
    "best_mean_roc = {}\n",
    "\n",
    "df = pickle.load(open('../data/pickles/df_full.pickle', 'rb'))\n",
    "mask =[feature  for feature in list(df) if df[feature].sum() > 50]\n",
    "df = df_trimmer.no_years_no_target(df)\n",
    "X = df[0]\n",
    "y = df[1]\n",
    "best_mean_roc[key] = model_trainer_for_svm(svm.SVC(kernel='rbf', gamma=.001), X, y)"
   ]
  },
  {
   "cell_type": "code",
   "execution_count": null,
   "metadata": {
    "hidden": true
   },
   "outputs": [],
   "source": []
  }
 ],
 "metadata": {
  "kernelspec": {
   "display_name": "Python 3",
   "language": "python",
   "name": "python3"
  },
  "language_info": {
   "codemirror_mode": {
    "name": "ipython",
    "version": 3
   },
   "file_extension": ".py",
   "mimetype": "text/x-python",
   "name": "python",
   "nbconvert_exporter": "python",
   "pygments_lexer": "ipython3",
   "version": "3.6.7"
  },
  "toc": {
   "base_numbering": 1,
   "nav_menu": {},
   "number_sections": true,
   "sideBar": true,
   "skip_h1_title": false,
   "title_cell": "Table of Contents",
   "title_sidebar": "Contents",
   "toc_cell": false,
   "toc_position": {
    "height": "calc(100% - 180px)",
    "left": "10px",
    "top": "150px",
    "width": "226.179px"
   },
   "toc_section_display": true,
   "toc_window_display": true
  },
  "varInspector": {
   "cols": {
    "lenName": 16,
    "lenType": 16,
    "lenVar": 40
   },
   "kernels_config": {
    "python": {
     "delete_cmd_postfix": "",
     "delete_cmd_prefix": "del ",
     "library": "var_list.py",
     "varRefreshCmd": "print(var_dic_list())"
    },
    "r": {
     "delete_cmd_postfix": ") ",
     "delete_cmd_prefix": "rm(",
     "library": "var_list.r",
     "varRefreshCmd": "cat(var_dic_list()) "
    }
   },
   "types_to_exclude": [
    "module",
    "function",
    "builtin_function_or_method",
    "instance",
    "_Feature"
   ],
   "window_display": false
  }
 },
 "nbformat": 4,
 "nbformat_minor": 2
}
