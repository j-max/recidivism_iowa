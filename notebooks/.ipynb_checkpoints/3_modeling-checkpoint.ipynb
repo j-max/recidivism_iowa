{
 "cells": [
  {
   "cell_type": "code",
   "execution_count": 2,
   "metadata": {},
   "outputs": [],
   "source": [
    "import pandas as pd\n",
    "import matplotlib.pyplot as plt\n",
    "import numpy as np\n",
    "from imblearn.over_sampling import RandomOverSampler\n",
    "\n",
    "from sklearn.linear_model import LogisticRegression\n",
    "from sklearn.neighbors import KNeighborsClassifier\n",
    "from sklearn.ensemble import RandomForestClassifier\n",
    "from sklearn.model_selection import train_test_split, StratifiedKFold\n",
    "from sklearn.metrics import roc_auc_score, roc_curve\n",
    "from sklearn import naive_bayes\n",
    "from sklearn import svm\n",
    "\n",
    "\n",
    "import warnings\n",
    "warnings.filterwarnings('ignore')\n",
    "pd.options.display.max_columns = None\n",
    "\n",
    "\n",
    "import pickle\n",
    "import df_trimmer\n"
   ]
  },
  {
   "cell_type": "code",
   "execution_count": 3,
   "metadata": {},
   "outputs": [
    {
     "data": {
      "text/plain": [
       "(24150, 91)"
      ]
     },
     "execution_count": 3,
     "metadata": {},
     "output_type": "execute_result"
    }
   ],
   "source": [
    "df = pickle.load(open('../data/pickles/df_full.pickle', 'rb'))\n",
    "df.shape"
   ]
  },
  {
   "cell_type": "markdown",
   "metadata": {},
   "source": [
    "# function for testing"
   ]
  },
  {
   "cell_type": "code",
   "execution_count": 6,
   "metadata": {},
   "outputs": [],
   "source": [
    "def model_trainer(model_function, X, y):\n",
    "    '''\n",
    "    \n",
    "    Fits a model to a dataframe's features and target values.\n",
    "    \n",
    "    Splits the data into train test values, then splits training\n",
    "    with a stratified k_fold to account for class imbalance, \n",
    "    which is approx. 1-recidivist: 2-non-recidivist. \n",
    "    \n",
    "    In k-fold, oversamples to even out class imbalance.\n",
    "    \n",
    "    Returns a mean roc_auc_score, which is the average\n",
    "    of the roc_auc_scores of the k-fold validation sets.\n",
    "    \n",
    "    Parameters\n",
    "    -------\n",
    "    model_function = model to perform the fit with.  \n",
    "    Include whichever hyperparamters deemed necessary.\n",
    "    \n",
    "    X = The features of the data set. \n",
    "    y = the target values of the data set. \n",
    "    X and y must be of the same length.\n",
    "    \n",
    "    \n",
    "    '''\n",
    "    roc_auc_list = []\n",
    "    X_train, X_test, y_train, y_test = train_test_split(X,y, test_size = .2, random_state=42)\n",
    "\n",
    "    kf = StratifiedKFold(n_splits=5, random_state=42)\n",
    "\n",
    "    for train_ind, val_ind in kf.split(X_train, y_train):\n",
    "\n",
    "        X_ktrain, X_kval = X.iloc[train_ind], X.iloc[val_ind]\n",
    "        y_ktrain, y_kval = y.iloc[train_ind], y.iloc[val_ind]\n",
    "\n",
    "        ros = RandomOverSampler(random_state=42)\n",
    "        X_train_resampled, y_train_resampled = ros.fit_resample(X_ktrain, y_ktrain)\n",
    "\n",
    "        reg = model_function\n",
    "        reg.fit(X_train_resampled,y_train_resampled)\n",
    "        y_pred = reg.predict_proba(X_kval)[:,1]\n",
    "        score = roc_auc_score(y_kval, y_pred)\n",
    "\n",
    "        roc_auc_list.append(score)\n",
    "\n",
    "    mean_roc_auc = sum(roc_auc_list)/len(roc_auc_list)\n",
    "\n",
    "    #print(sum(roc_auc_list)/len(roc_auc_list))\n",
    "    return mean_roc_auc"
   ]
  },
  {
   "cell_type": "markdown",
   "metadata": {},
   "source": [
    "# Logistic"
   ]
  },
  {
   "cell_type": "markdown",
   "metadata": {},
   "source": [
    "In order to make the results more interpretable, I defined the df_trimmer function in an external .py file.  The methods in df_trimmer creates sub-dataframes.  For eample, teh df_conv_subt method includes only conviction subtype, filtering out the broader categories of conviction class and type. \n",
    "\n",
    "The no_years_no_target method performed consistently well. The no_years_no_target method filters out all 'year_released' and 'reporting_year' fields, as well as the target population field. The target population field represents a choice by the designers of the original study to focus on certain released ex-offenders.\n",
    "\n",
    "The logistic model ended up performing the best out of all the  models. Below, I will cycle through the various subsets of data prepared by the df_trimmer function.  "
   ]
  },
  {
   "cell_type": "code",
   "execution_count": 7,
   "metadata": {},
   "outputs": [],
   "source": [
    "df = pickle.load(open('../data/pickles/df_full.pickle', 'rb'))\n",
    "mask =[feature  for feature in list(df) if df[feature].sum() > 50]\n",
    "df = df[mask]\n",
    "df_dict = {'all_features':df_trimmer.all_features(df),\n",
    "           'no_targ_pop':df_trimmer.no_targ_pop(df),\n",
    "           'no_years':df_trimmer.no_years(df), \n",
    "           'no_years_no_target': df_trimmer.no_years_no_target(df),\n",
    "           'subtype':df_trimmer.conv_subt(df), 'subtype_no_targ':df_trimmer.subt_no_target(df), \n",
    "           'subt_no_tar_no_year':df_trimmer.subt_no_targ_no_years(df),\n",
    "           'class':df_trimmer.conv_class(df), 'class_no_target':df_trimmer.class_no_target(df),\n",
    "           'type':df_trimmer.conv_type(df), 'type_no_target':df_trimmer.type_no_target(df)}\n",
    "\n"
   ]
  },
  {
   "cell_type": "code",
   "execution_count": 10,
   "metadata": {},
   "outputs": [],
   "source": [
    "roc_auc_list = []\n",
    "best_mean_roc = {}\n",
    "\n",
    "for key, value in df_dict.items():\n",
    "    \n",
    "    df = value\n",
    "    X = df[0]\n",
    "    y = df[1]\n",
    "    best_mean_roc[key] = model_trainer(LogisticRegression(), X, y)"
   ]
  },
  {
   "cell_type": "code",
   "execution_count": 11,
   "metadata": {},
   "outputs": [
    {
     "data": {
      "text/plain": [
       "{'all_features': 0.6259167683387536,\n",
       " 'no_targ_pop': 0.6248704534789425,\n",
       " 'no_years': 0.6379582801257285,\n",
       " 'no_years_no_target': 0.6443278160165826,\n",
       " 'subtype': 0.6002769169748345,\n",
       " 'subtype_no_targ': 0.5725938557208643,\n",
       " 'subt_no_tar_no_year': 0.5933486277198468,\n",
       " 'class': 0.6018820260385105,\n",
       " 'class_no_target': 0.5739736503552244,\n",
       " 'type': 0.6059579542159873,\n",
       " 'type_no_target': 0.5865689904118204}"
      ]
     },
     "execution_count": 11,
     "metadata": {},
     "output_type": "execute_result"
    }
   ],
   "source": [
    "best_mean_roc"
   ]
  },
  {
   "cell_type": "markdown",
   "metadata": {},
   "source": [
    "### with no years no target"
   ]
  },
  {
   "cell_type": "markdown",
   "metadata": {},
   "source": [
    "The no years, no target subset performed the best.  \n",
    "Below, I will find the best C value for the subset."
   ]
  },
  {
   "cell_type": "code",
   "execution_count": 14,
   "metadata": {},
   "outputs": [],
   "source": [
    "df = pickle.load(open('../data/pickles/df_full.pickle', 'rb'))\n",
    "mask =[feature  for feature in list(df) if df[feature].sum() > 50]\n",
    "df = df[mask]\n",
    "\n",
    "df = df_trimmer.no_years_no_target(df)\n",
    "X = df[0]\n",
    "y = df[1]\n",
    "\n",
    "# C_range = np.linspace(1,20,50)\n",
    "C_range = np.linspace(1,2,20)\n",
    "best_C = 0\n",
    "best_roc = 0\n",
    "for C in C_range:\n",
    "    model_roc = model_trainer(LogisticRegression(C=C), X, y)\n",
    "    if model_roc > best_roc:\n",
    "        best_C = C\n",
    "        best_roc = model_roc\n"
   ]
  },
  {
   "cell_type": "code",
   "execution_count": 13,
   "metadata": {},
   "outputs": [
    {
     "name": "stdout",
     "output_type": "stream",
     "text": [
      "1.2105263157894737 0.644342671034164\n"
     ]
    }
   ],
   "source": [
    "print(best_C, best_roc)"
   ]
  },
  {
   "cell_type": "markdown",
   "metadata": {
    "heading_collapsed": true
   },
   "source": [
    "# Knn"
   ]
  },
  {
   "cell_type": "markdown",
   "metadata": {
    "hidden": true
   },
   "source": [
    "KNN does not perform as well as logistic."
   ]
  },
  {
   "cell_type": "code",
   "execution_count": 11,
   "metadata": {
    "hidden": true
   },
   "outputs": [],
   "source": [
    "df = pickle.load(open('../data/pickles/df_full.pickle', 'rb'))\n",
    "mask =[feature  for feature in list(df) if df[feature].sum() > 50]\n",
    "df = df[mask]\n",
    "df_dict = {'all_features':df_trimmer.all_features(df),\n",
    "           'no_targ_pop':df_trimmer.no_targ_pop(df),\n",
    "           'no_years':df_trimmer.no_years(df), \n",
    "           'no_years_no_target': df_trimmer.no_years_no_target(df),\n",
    "           'subtype':df_trimmer.conv_subt(df), 'subtype_no_targ':df_trimmer.subt_no_target(df), \n",
    "           'subt_no_tar_no_year':df_trimmer.subt_no_targ_no_years(df),\n",
    "           'class':df_trimmer.conv_class(df), 'class_no_target':df_trimmer.class_no_target(df),\n",
    "           'type':df_trimmer.conv_type(df), 'type_no_target':df_trimmer.type_no_target(df)}\n",
    "best_mean_roc_auc = {}\n",
    "roc_auc_list = []"
   ]
  },
  {
   "cell_type": "code",
   "execution_count": 15,
   "metadata": {
    "hidden": true
   },
   "outputs": [],
   "source": [
    "best_mean_roc = {}\n",
    "\n",
    "for key, value in df_dict.items():\n",
    "    \n",
    "    df = value\n",
    "    X = df[0]\n",
    "    y = df[1]\n",
    "    best_mean_roc[key] = model_trainer(KNeighborsClassifier(), X, y)"
   ]
  },
  {
   "cell_type": "code",
   "execution_count": 16,
   "metadata": {
    "hidden": true
   },
   "outputs": [
    {
     "name": "stdout",
     "output_type": "stream",
     "text": [
      "{'all_features': 0.5354161341668107, 'no_targ_pop': 0.5284160872234279, 'no_years': 0.5522638525262046, 'no_years_no_target': 0.5561281759461746, 'subtype': 0.5294825870060366, 'subtype_no_targ': 0.5283930533722117, 'subt_no_tar_no_year': 0.5331259389853924, 'class': 0.5410128334160916, 'class_no_target': 0.5321189301405483, 'type': 0.539497805602971, 'type_no_target': 0.5377030937025655}\n"
     ]
    }
   ],
   "source": [
    "print(best_mean_roc)"
   ]
  },
  {
   "cell_type": "code",
   "execution_count": 14,
   "metadata": {
    "hidden": true
   },
   "outputs": [
    {
     "name": "stdout",
     "output_type": "stream",
     "text": [
      "0.5691029524588626\n",
      "12\n",
      "0.5718331510788159\n",
      "13\n",
      "0.5732292842549969\n",
      "14\n",
      "0.5755092751995405\n",
      "15\n",
      "15 0.5755092751995405\n"
     ]
    }
   ],
   "source": [
    "df = pickle.load(open('../data/pickles/df_full.pickle', 'rb'))\n",
    "mask =[feature  for feature in list(df) if df[feature].sum() > 50]\n",
    "df = df[mask]\n",
    "\n",
    "df = df_trimmer.no_years_no_target(df)\n",
    "X = df[0]\n",
    "y = df[1]\n",
    "\n",
    "# C_range = np.linspace(1,20,50)\n",
    "K_range = np.linspace(2,12,10)\n",
    "best_K = 0\n",
    "best_roc = 0\n",
    "for K in range(12,16):\n",
    "    model_roc = model_trainer(KNeighborsClassifier(n_neighbors=K), X, y)\n",
    "    if model_roc > best_roc:\n",
    "        best_K = K\n",
    "        best_roc = model_roc\n",
    "    print(K)\n",
    "print(best_K, best_roc)"
   ]
  },
  {
   "cell_type": "markdown",
   "metadata": {},
   "source": [
    "# Naive-Bayes Bernouli"
   ]
  },
  {
   "cell_type": "code",
   "execution_count": 17,
   "metadata": {},
   "outputs": [],
   "source": [
    "df = pickle.load(open('../data/pickles/df_full.pickle', 'rb'))\n",
    "mask =[feature  for feature in list(df) if df[feature].sum() > 50]\n",
    "df = df[mask]\n",
    "df_dict = {'all_features':df_trimmer.all_features(df),\n",
    "           'no_targ_pop':df_trimmer.no_targ_pop(df),\n",
    "           'no_years':df_trimmer.no_years(df), \n",
    "           'no_years_no_target': df_trimmer.no_years_no_target(df),\n",
    "           'subtype':df_trimmer.conv_subt(df), 'subtype_no_targ':df_trimmer.subt_no_target(df), \n",
    "           'subt_no_tar_no_year':df_trimmer.subt_no_targ_no_years(df),\n",
    "           'class':df_trimmer.conv_class(df), 'class_no_target':df_trimmer.class_no_target(df),\n",
    "           'type':df_trimmer.conv_type(df), 'type_no_target':df_trimmer.type_no_target(df)}\n",
    "best_mean_roc_auc = {}\n",
    "roc_auc_list = []"
   ]
  },
  {
   "cell_type": "code",
   "execution_count": 16,
   "metadata": {},
   "outputs": [
    {
     "name": "stdout",
     "output_type": "stream",
     "text": [
      "all_features\n",
      "0.6056066876918941\n",
      "no_targ_pop\n",
      "0.605280110219917\n",
      "no_years\n",
      "0.6254983141718499\n",
      "no_years_no_target\n",
      "0.6266309993864152\n",
      "subtype\n",
      "0.5933795318582685\n",
      "subtype_no_targ\n",
      "0.5699823964756435\n",
      "subt_no_tar_no_year\n",
      "0.5917707345050085\n",
      "class\n",
      "0.5988526098424409\n",
      "class_no_target\n",
      "0.5724899123976942\n",
      "type\n",
      "0.60524009066357\n",
      "type_no_target\n",
      "0.5854191628758054\n"
     ]
    }
   ],
   "source": [
    "best_mean_roc = {}\n",
    "\n",
    "for key, value in df_dict.items():\n",
    "    \n",
    "    df = value\n",
    "    X = df[0]\n",
    "    y = df[1]\n",
    "    print(key)\n",
    "    best_mean_roc[key] = model_trainer(naive_bayes.BernoulliNB(), X, y)"
   ]
  },
  {
   "cell_type": "code",
   "execution_count": 17,
   "metadata": {
    "collapsed": true
   },
   "outputs": [
    {
     "name": "stdout",
     "output_type": "stream",
     "text": [
      "{'all_features': 0.6056066876918941, 'no_targ_pop': 0.605280110219917, 'no_years': 0.6254983141718499, 'no_years_no_target': 0.6266309993864152, 'subtype': 0.5933795318582685, 'subtype_no_targ': 0.5699823964756435, 'subt_no_tar_no_year': 0.5917707345050085, 'class': 0.5988526098424409, 'class_no_target': 0.5724899123976942, 'type': 0.60524009066357, 'type_no_target': 0.5854191628758054}\n"
     ]
    }
   ],
   "source": [
    "print(best_mean_roc)"
   ]
  },
  {
   "cell_type": "code",
   "execution_count": 58,
   "metadata": {},
   "outputs": [],
   "source": [
    "df = pickle.load(open('../data/pickles/df_full.pickle', 'rb'))\n",
    "mask =[feature  for feature in list(df) if df[feature].sum() > 50]\n",
    "df = df[mask]\n",
    "df=df_trimmer.no_years_no_target(df)\n",
    "X = df[0]\n",
    "y = df[1]\n"
   ]
  },
  {
   "cell_type": "code",
   "execution_count": 59,
   "metadata": {},
   "outputs": [],
   "source": [
    "X_train, X_test, y_train, y_test = train_test_split(X, y, test_size=.2, random_state = 42)\n",
    "ros = RandomOverSampler(random_state=42)\n",
    "X_train_resampled, y_train_resampled = ros.fit_resample(X_train, y_train)\n",
    "\n",
    "reg = naive_bayes.BernoulliNB()\n",
    "reg.fit(X_train_resampled,y_train_resampled)\n",
    "y_pred = reg.predict_proba(X_test)[:,1]\n",
    "score = roc_auc_score(y_test, y_pred)\n",
    "nb_fpr, nb_tpr, nb_roc = roc_curve(y_test, y_pred)"
   ]
  },
  {
   "cell_type": "code",
   "execution_count": 60,
   "metadata": {},
   "outputs": [
    {
     "data": {
      "text/plain": [
       "0.6463419356947212"
      ]
     },
     "execution_count": 60,
     "metadata": {},
     "output_type": "execute_result"
    }
   ],
   "source": [
    "score"
   ]
  },
  {
   "cell_type": "markdown",
   "metadata": {},
   "source": [
    "# Random Forest"
   ]
  },
  {
   "cell_type": "code",
   "execution_count": 18,
   "metadata": {},
   "outputs": [],
   "source": [
    "df = pickle.load(open('../data/pickles/df_full.pickle', 'rb'))\n",
    "mask =[feature  for feature in list(df) if df[feature].sum() > 50]\n",
    "df = df[mask]\n",
    "df_dict = {'all_features':df_trimmer.all_features(df),\n",
    "           'no_targ_pop':df_trimmer.no_targ_pop(df),\n",
    "           'no_years':df_trimmer.no_years(df), \n",
    "           'no_years_no_target': df_trimmer.no_years_no_target(df),\n",
    "           'subtype':df_trimmer.conv_subt(df), 'subtype_no_targ':df_trimmer.subt_no_target(df), \n",
    "           'subt_no_tar_no_year':df_trimmer.subt_no_targ_no_years(df),\n",
    "           'class':df_trimmer.conv_class(df), 'class_no_target':df_trimmer.class_no_target(df),\n",
    "           'type':df_trimmer.conv_type(df), 'type_no_target':df_trimmer.type_no_target(df)}\n",
    "best_mean_roc_auc = {}\n",
    "roc_auc_list = []"
   ]
  },
  {
   "cell_type": "code",
   "execution_count": 19,
   "metadata": {
    "scrolled": true
   },
   "outputs": [],
   "source": [
    "best_mean_roc = {}\n",
    "for depth in range(2,10):\n",
    "    for key, value in df_dict.items():\n",
    "\n",
    "        df = value\n",
    "        X = df[0]\n",
    "        y = df[1]\n",
    "        dict_str = str(key)+str(depth)\n",
    "        best_mean_roc[dict_str] = [model_trainer(RandomForestClassifier(max_depth=depth), X, y)]"
   ]
  },
  {
   "cell_type": "code",
   "execution_count": 20,
   "metadata": {
    "collapsed": true
   },
   "outputs": [
    {
     "name": "stdout",
     "output_type": "stream",
     "text": [
      "{'all_features2': [0.595150450816971], 'no_targ_pop2': [0.602950709027464], 'no_years2': [0.6119758442260681], 'no_years_no_target2': [0.5988482311392598], 'subtype2': [0.5896565477759005], 'subtype_no_targ2': [0.5609192019299483], 'subt_no_tar_no_year2': [0.5778243002725765], 'class2': [0.5943761018549572], 'class_no_target2': [0.5636843502728924], 'type2': [0.6021089866949675], 'type_no_target2': [0.577800462730592], 'all_features3': [0.6100712287753399], 'no_targ_pop3': [0.6017422656695613], 'no_years3': [0.6057850454291065], 'no_years_no_target3': [0.6083694943447439], 'subtype3': [0.5986559525135543], 'subtype_no_targ3': [0.5671736492920461], 'subt_no_tar_no_year3': [0.5758354352231893], 'class3': [0.5984374335783694], 'class_no_target3': [0.5728981935168177], 'type3': [0.5983705798406802], 'type_no_target3': [0.586838775909684], 'all_features4': [0.6153302136305789], 'no_targ_pop4': [0.6138133673236724], 'no_years4': [0.6110389000897468], 'no_years_no_target4': [0.6218978759436061], 'subtype4': [0.594330786303256], 'subtype_no_targ4': [0.5543214707165399], 'subt_no_tar_no_year4': [0.5866551468344042], 'class4': [0.5984829205750541], 'class_no_target4': [0.5744198379118606], 'type4': [0.6039913367379276], 'type_no_target4': [0.5875455599093623], 'all_features5': [0.6179210921988896], 'no_targ_pop5': [0.6112934217991531], 'no_years5': [0.6178444961845265], 'no_years_no_target5': [0.6175034275811866], 'subtype5': [0.5916189804987569], 'subtype_no_targ5': [0.5694140947623949], 'subt_no_tar_no_year5': [0.5921155228145395], 'class5': [0.5989973880646662], 'class_no_target5': [0.5732157023084518], 'type5': [0.6012448316396657], 'type_no_target5': [0.5904390950964349], 'all_features6': [0.6209661538743982], 'no_targ_pop6': [0.6119038505889386], 'no_years6': [0.6179336577347617], 'no_years_no_target6': [0.6218916410537269], 'subtype6': [0.5917725233388028], 'subtype_no_targ6': [0.5522324853387681], 'subt_no_tar_no_year6': [0.5905010530892458], 'class6': [0.6010925879687614], 'class_no_target6': [0.5761227948997425], 'type6': [0.6048518084952711], 'type_no_target6': [0.587043762673398], 'all_features7': [0.613856292964156], 'no_targ_pop7': [0.6170301043329859], 'no_years7': [0.6212282259290759], 'no_years_no_target7': [0.6291340080809587], 'subtype7': [0.6016219216522785], 'subtype_no_targ7': [0.5569719431530654], 'subt_no_tar_no_year7': [0.593294960866839], 'class7': [0.6008332942121888], 'class_no_target7': [0.5736553196465206], 'type7': [0.6057014482206744], 'type_no_target7': [0.5878331661095224], 'all_features8': [0.6097593851674566], 'no_targ_pop8': [0.6138390302256523], 'no_years8': [0.6187666868554347], 'no_years_no_target8': [0.6228591146607593], 'subtype8': [0.5945563472723442], 'subtype_no_targ8': [0.5554188663769123], 'subt_no_tar_no_year8': [0.5918143103864221], 'class8': [0.597607651597049], 'class_no_target8': [0.5718154933010817], 'type8': [0.6033244011665577], 'type_no_target8': [0.5849876763291535], 'all_features9': [0.6131370650866094], 'no_targ_pop9': [0.6184051746167093], 'no_years9': [0.622794113432201], 'no_years_no_target9': [0.6254406236714969], 'subtype9': [0.5897049315618379], 'subtype_no_targ9': [0.5658242765310115], 'subt_no_tar_no_year9': [0.592784674924876], 'class9': [0.5965806326687998], 'class_no_target9': [0.5719536611179612], 'type9': [0.6015660491260354], 'type_no_target9': [0.5864507185492452]}\n"
     ]
    }
   ],
   "source": [
    "print(best_mean_roc)"
   ]
  },
  {
   "cell_type": "code",
   "execution_count": 21,
   "metadata": {},
   "outputs": [
    {
     "name": "stdout",
     "output_type": "stream",
     "text": [
      "[0.6291340080809587] no_years_no_target7\n"
     ]
    }
   ],
   "source": [
    "max_rf = 0\n",
    "max_dep_comb = 0\n",
    "for key, value in best_mean_roc.items():\n",
    "    if best_mean_roc[key][0] > max_rf:\n",
    "        max_rf = value\n",
    "        max_dep_comb = key\n",
    "print(max_rf, max_dep_comb)"
   ]
  },
  {
   "cell_type": "markdown",
   "metadata": {},
   "source": [
    "## Random Forest run with best depth"
   ]
  },
  {
   "cell_type": "code",
   "execution_count": 25,
   "metadata": {},
   "outputs": [],
   "source": [
    "df = pickle.load(open('../data/pickles/df_full.pickle', 'rb'))\n",
    "mask =[feature  for feature in list(df) if df[feature].sum() > 50]\n",
    "df = df[mask]\n",
    "df = df_trimmer.no_years(df)\n",
    "X = df[0]\n",
    "y = df[1]\n",
    "X_train, X_test, y_train, y_test = train_test_split(X,y, test_size = .2, random_state=42)"
   ]
  },
  {
   "cell_type": "code",
   "execution_count": 23,
   "metadata": {},
   "outputs": [
    {
     "data": {
      "text/plain": [
       "0.6584734887462267"
      ]
     },
     "execution_count": 23,
     "metadata": {},
     "output_type": "execute_result"
    }
   ],
   "source": [
    "rf = RandomForestClassifier(max_depth=7)\n",
    "ros = RandomOverSampler(random_state=42)\n",
    "X_train_resampled, y_train_resampled = ros.fit_resample(X_train, y_train)\n",
    "rf.fit(X_train_resampled, y_train_resampled)\n",
    "y_pred = rf.predict_proba(X_test)[:,1]\n",
    "roc_auc_score(y_test, y_pred)"
   ]
  },
  {
   "cell_type": "code",
   "execution_count": 26,
   "metadata": {},
   "outputs": [],
   "source": [
    "#Create variables for roc curve.\n",
    "rf_fpr, rf_tpr, rf_log_roc = roc_curve(y_test, y_pred)"
   ]
  },
  {
   "cell_type": "markdown",
   "metadata": {},
   "source": [
    "## Random Forest Feature Importances"
   ]
  },
  {
   "cell_type": "code",
   "execution_count": 27,
   "metadata": {
    "scrolled": true
   },
   "outputs": [
    {
     "data": {
      "text/plain": [
       "[('conviction_subtype_Sex Offender Registry/Residency',\n",
       "  0.00013468923820442327),\n",
       " ('release_type_Paroled to Detainer - U.S. Marshall', 0.00023590308900794452),\n",
       " ('conviction_subtype_Kidnap', 0.00025938102191985),\n",
       " ('conviction_subtype_Forgery/Fraud', 0.0002961114358354426),\n",
       " ('conviction_subtype_Weapons', 0.00046066519337019287),\n",
       " ('conviction_class_Serious Misdemeanor', 0.00047552276000190796),\n",
       " ('conviction_subtype_Vandalism', 0.0006452191475147929),\n",
       " ('conviction_subtype_Other Drug', 0.0008236482488283139),\n",
       " ('conviction_subtype_Arson', 0.0009124459981400795),\n",
       " ('conviction_class_Felony - Enhanced', 0.0011218606389911492),\n",
       " ('conviction_subtype_Special Sentence Revocation', 0.0011572477255320489),\n",
       " ('release_type_Paroled to Detainer - Out of State', 0.0011768737309175684),\n",
       " ('release_type_Paroled to Detainer - Iowa', 0.0012416169564737714),\n",
       " ('conviction_subtype_Flight/Escape', 0.0012935696944585),\n",
       " ('conviction_subtype_Other Violent', 0.0014756770406905888),\n",
       " ('conviction_class_Special Sentence 2005', 0.0016163148683693445),\n",
       " ('conviction_subtype_Other Public Order', 0.0016330995556206943),\n",
       " ('race_Asian or Pacific Islander - Non-Hispanic', 0.001860961107938403),\n",
       " ('conviction_subtype_Traffic', 0.001987041277555113),\n",
       " ('conviction_subtype_Robbery', 0.002064007669364979),\n",
       " ('release_type_Paroled to Detainer - INS', 0.002186311055926445),\n",
       " ('supervising_district_6JD', 0.0024754014034878173),\n",
       " ('supervising_district_4JD', 0.0026829092688347815),\n",
       " ('race_American Indian or Alaska Native - Non-Hispanic',\n",
       "  0.002878817641861118),\n",
       " ('conviction_subtype_Trafficking', 0.002906491682672125),\n",
       " ('convicting_type_Drug', 0.0029676054892974766),\n",
       " ('release_type_Paroled w/Immediate Discharge', 0.003020830835840607),\n",
       " ('supervising_district_8JD', 0.0033222486932185007),\n",
       " ('conviction_subtype_Drug Possession', 0.0034268821582461805),\n",
       " ('supervising_district_7JD', 0.00355946551697199),\n",
       " ('conviction_subtype_Alcohol', 0.003970347402709363),\n",
       " ('conviction_subtype_Assault', 0.0040345507531533),\n",
       " ('race_White - Non-Hispanic', 0.004162509847231612),\n",
       " ('supervising_district_3JD', 0.004349208153245203),\n",
       " ('convicting_type_Other', 0.004512227750446745),\n",
       " ('conviction_subtype_Theft', 0.004605512261685431),\n",
       " ('conviction_subtype_Sex', 0.004674769249059317),\n",
       " ('conviction_class_B Felony', 0.005662445371421391),\n",
       " ('convicting_type_Public Order', 0.005936807724326696),\n",
       " ('conviction_subtype_OWI', 0.006079551903970369),\n",
       " ('age_at_release_25-34', 0.0067681974211375425),\n",
       " ('supervising_district_1JD', 0.0076758959330999),\n",
       " ('conviction_class_Felony - Enhancement to Original Penalty',\n",
       "  0.007744496967775109),\n",
       " ('race_Black - Non-Hispanic', 0.008203246995111758),\n",
       " ('release_type_Parole Granted', 0.008343713455574964),\n",
       " ('age_at_release_35-44', 0.008749735309915147),\n",
       " ('conviction_subtype_Burglary', 0.008826455256701105),\n",
       " ('supervising_district_2JD', 0.008839923753334181),\n",
       " ('release_type_Released to Special Sentence', 0.010154542842167807),\n",
       " ('release_type_Parole', 0.010932630912443893),\n",
       " ('release_type_Special Sentence', 0.011473536445986464),\n",
       " ('convicting_type_Property', 0.011682134471132536),\n",
       " ('age_at_release_Under 25', 0.011796803885261583),\n",
       " ('conviction_class_Aggravated Misdemeanor', 0.011964605702107061),\n",
       " ('conviction_subtype_Murder/Manslaughter', 0.012365287364140071),\n",
       " ('race_White - Hispanic', 0.012748048747849147),\n",
       " ('conviction_class_D Felony', 0.014293419978006136),\n",
       " ('conviction_class_C Felony', 0.018895181019624563),\n",
       " ('conviction_subtype_Other Criminal', 0.01950885707389986),\n",
       " ('age_at_release_45-54', 0.019576872520381074),\n",
       " ('release_type_Discharged - Expiration of Sentence', 0.019667219969850665),\n",
       " ('supervising_district_ISC', 0.020989083277894276),\n",
       " ('convicting_type_Violent', 0.037965417693761765),\n",
       " ('age_at_release_55 and Older', 0.05261194508574831),\n",
       " ('supervising_district_Interstate Compact', 0.06170815270956324),\n",
       " ('release_type_Discharged – End of Sentence', 0.06544910549347394),\n",
       " ('supervising_district_5JD', 0.07099644724281441),\n",
       " ('target_pop_flag', 0.09022037812467176),\n",
       " ('supervising_district_None-Discharged', 0.2515619137842301)]"
      ]
     },
     "execution_count": 27,
     "metadata": {},
     "output_type": "execute_result"
    }
   ],
   "source": [
    "import operator\n",
    "\n",
    "df_feature_imp = {}\n",
    "\n",
    "for imp, feature in (zip(rf.feature_importances_, list(X))):\n",
    "    df_feature_imp[feature] = imp\n",
    "\n",
    "sorted_features = sorted(df_feature_imp.items(), key=operator.itemgetter(1)) \n",
    "sorted_features"
   ]
  },
  {
   "cell_type": "markdown",
   "metadata": {},
   "source": [
    "## Feature Importance Subtype"
   ]
  },
  {
   "cell_type": "code",
   "execution_count": 31,
   "metadata": {},
   "outputs": [],
   "source": [
    "df = pickle.load(open('../data/pickles/df_full.pickle', 'rb'))"
   ]
  },
  {
   "cell_type": "code",
   "execution_count": 34,
   "metadata": {},
   "outputs": [],
   "source": [
    "#Comment out subtypes which random forest deemed unnecessary.\n",
    "subtype_list = [ 'conviction_subtype_Alcohol',\n",
    "# 'conviction_subtype_Animals',\n",
    " 'conviction_subtype_Arson',\n",
    " 'conviction_subtype_Assault',\n",
    " 'conviction_subtype_Burglary',\n",
    " 'conviction_subtype_Drug Possession',\n",
    " 'conviction_subtype_Flight/Escape',\n",
    " 'conviction_subtype_Forgery/Fraud',\n",
    " 'conviction_subtype_Kidnap',\n",
    " 'conviction_subtype_Murder/Manslaughter',\n",
    " 'conviction_subtype_OWI',\n",
    " 'conviction_subtype_Other Criminal',\n",
    " 'conviction_subtype_Other Drug',\n",
    " 'conviction_subtype_Other Public Order',\n",
    " 'conviction_subtype_Other Violent',\n",
    "# 'conviction_subtype_Prostitution/Pimping',\n",
    " 'conviction_subtype_Robbery',\n",
    " 'conviction_subtype_Sex',\n",
    " 'conviction_subtype_Sex Offender Registry/Residency',\n",
    " 'conviction_subtype_Special Sentence Revocation',\n",
    "# 'conviction_subtype_Stolen Property',\n",
    " 'conviction_subtype_Theft',\n",
    " 'conviction_subtype_Traffic',\n",
    " 'conviction_subtype_Trafficking',\n",
    " 'conviction_subtype_Vandalism',\n",
    " 'conviction_subtype_Weapons']"
   ]
  },
  {
   "cell_type": "code",
   "execution_count": 38,
   "metadata": {},
   "outputs": [
    {
     "name": "stdout",
     "output_type": "stream",
     "text": [
      "conviction_subtype_Other Criminal 0.01950885707389986\n",
      "conviction_subtype_Murder/Manslaughter 0.012365287364140071\n",
      "conviction_subtype_Burglary 0.008826455256701105\n",
      "conviction_subtype_OWI 0.006079551903970369\n",
      "conviction_subtype_Sex 0.004674769249059317\n",
      "conviction_subtype_Theft 0.004605512261685431\n",
      "conviction_subtype_Assault 0.0040345507531533\n",
      "conviction_subtype_Alcohol 0.003970347402709363\n",
      "conviction_subtype_Drug Possession 0.0034268821582461805\n",
      "conviction_subtype_Trafficking 0.002906491682672125\n",
      "conviction_subtype_Robbery 0.002064007669364979\n",
      "conviction_subtype_Traffic 0.001987041277555113\n",
      "conviction_subtype_Other Public Order 0.0016330995556206943\n",
      "conviction_subtype_Other Violent 0.0014756770406905888\n",
      "conviction_subtype_Flight/Escape 0.0012935696944585\n",
      "conviction_subtype_Special Sentence Revocation 0.0011572477255320489\n",
      "conviction_subtype_Arson 0.0009124459981400795\n",
      "conviction_subtype_Other Drug 0.0008236482488283139\n",
      "conviction_subtype_Vandalism 0.0006452191475147929\n",
      "conviction_subtype_Weapons 0.00046066519337019287\n",
      "conviction_subtype_Forgery/Fraud 0.0002961114358354426\n",
      "conviction_subtype_Kidnap 0.00025938102191985\n",
      "conviction_subtype_Sex Offender Registry/Residency 0.00013468923820442327\n"
     ]
    }
   ],
   "source": [
    "#iterate through feature importances and show which subtypes\n",
    "#are deemed most important for the splits.\n",
    "feature_imp_sorted_keys = sorted(df_feature_imp, key=df_feature_imp.get, reverse=True)\n",
    "for r in feature_imp_sorted_keys:\n",
    "    if r in subtype_list:\n",
    "        print(r, df_feature_imp[r])"
   ]
  },
  {
   "cell_type": "markdown",
   "metadata": {},
   "source": [
    "## feature importance age"
   ]
  },
  {
   "cell_type": "code",
   "execution_count": 39,
   "metadata": {},
   "outputs": [
    {
     "name": "stdout",
     "output_type": "stream",
     "text": [
      "age_at_release_55 and Older 0.05261194508574831\n",
      "age_at_release_45-54 0.019576872520381074\n",
      "age_at_release_Under 25 0.011796803885261583\n",
      "age_at_release_35-44 0.008749735309915147\n",
      "age_at_release_25-34 0.0067681974211375425\n"
     ]
    }
   ],
   "source": [
    "age_features = ['age_at_release_25-34',\n",
    " 'age_at_release_35-44',\n",
    " 'age_at_release_45-54',\n",
    " 'age_at_release_55 and Older',\n",
    " 'age_at_release_Under 25']\n",
    "\n",
    "feature_imp_sorted_keys = sorted(df_feature_imp, key=df_feature_imp.get, reverse=True)\n",
    "for r in feature_imp_sorted_keys:\n",
    "    if r in age_features:\n",
    "        print(r, df_feature_imp[r])"
   ]
  },
  {
   "cell_type": "markdown",
   "metadata": {},
   "source": [
    "## Feature Importance Race"
   ]
  },
  {
   "cell_type": "code",
   "execution_count": 40,
   "metadata": {},
   "outputs": [
    {
     "name": "stdout",
     "output_type": "stream",
     "text": [
      "race_White - Hispanic 0.012748048747849147\n",
      "race_Black - Non-Hispanic 0.008203246995111758\n",
      "race_White - Non-Hispanic 0.004162509847231612\n",
      "race_American Indian or Alaska Native - Non-Hispanic 0.002878817641861118\n",
      "race_Asian or Pacific Islander - Non-Hispanic 0.001860961107938403\n"
     ]
    }
   ],
   "source": [
    "race_features = [ 'race_American Indian or Alaska Native - Non-Hispanic',\n",
    " 'race_Asian or Pacific Islander - Non-Hispanic',\n",
    " 'race_Black - Non-Hispanic',\n",
    " 'race_White - Hispanic',\n",
    " 'race_White - Non-Hispanic']\n",
    "\n",
    "\n",
    "feature_imp_sorted_keys = sorted(df_feature_imp, key=df_feature_imp.get, reverse=True)\n",
    "for r in feature_imp_sorted_keys:\n",
    "    if r in race_features:\n",
    "        print(r, df_feature_imp[r])"
   ]
  },
  {
   "cell_type": "markdown",
   "metadata": {},
   "source": [
    "# SVM"
   ]
  },
  {
   "cell_type": "code",
   "execution_count": 35,
   "metadata": {},
   "outputs": [],
   "source": [
    "def model_trainer_for_svm(model_function, X, y):\n",
    "    roc_auc_list = []\n",
    "    X_train, X_test, y_train, y_test = train_test_split(X,y, test_size = .2, random_state=42)\n",
    "\n",
    "    kf = StratifiedKFold(n_splits=5, random_state=42)\n",
    "\n",
    "    for train_ind, val_ind in kf.split(X_train, y_train):\n",
    "\n",
    "        X_ktrain, X_kval = X.iloc[train_ind], X.iloc[val_ind]\n",
    "        y_ktrain, y_kval = y.iloc[train_ind], y.iloc[val_ind]\n",
    "\n",
    "        ros = RandomOverSampler(random_state=42)\n",
    "        X_train_resampled, y_train_resampled = ros.fit_resample(X_ktrain, y_ktrain)\n",
    "\n",
    "        reg = model_function\n",
    "        reg.fit(X_train_resampled,y_train_resampled)\n",
    "        y_pred = reg.predict(X_kval)\n",
    "        score = roc_auc_score(y_kval, y_pred)\n",
    "\n",
    "        roc_auc_list.append(score)\n",
    "\n",
    "    mean_roc_auc = sum(roc_auc_list)/len(roc_auc_list)\n",
    "\n",
    "    #print(sum(roc_auc_list)/len(roc_auc_list))\n",
    "    print(mean_roc_auc)\n",
    "    return mean_roc_auc"
   ]
  },
  {
   "cell_type": "code",
   "execution_count": 36,
   "metadata": {},
   "outputs": [],
   "source": [
    "df = pickle.load(open('../data/pickles/df_full.pickle', 'rb'))\n",
    "mask =[feature  for feature in list(df) if df[feature].sum() > 50]\n",
    "df = df[mask]\n",
    "df_dict = {'all_features':df_trimmer.all_features(df),\n",
    "           'no_targ_pop':df_trimmer.no_targ_pop(df),\n",
    "           'no_years':df_trimmer.no_years(df), \n",
    "           'no_years_no_target': df_trimmer.no_years_no_target(df),\n",
    "           'subtype':df_trimmer.conv_subt(df), 'subtype_no_targ':df_trimmer.subt_no_target(df), \n",
    "           'subt_no_tar_no_year':df_trimmer.subt_no_targ_no_years(df),\n",
    "           'class':df_trimmer.conv_class(df), 'class_no_target':df_trimmer.class_no_target(df),\n",
    "           'type':df_trimmer.conv_type(df), 'type_no_target':df_trimmer.type_no_target(df)}\n",
    "best_mean_roc_auc = {}\n",
    "roc_auc_list = []"
   ]
  },
  {
   "cell_type": "code",
   "execution_count": 37,
   "metadata": {},
   "outputs": [
    {
     "name": "stdout",
     "output_type": "stream",
     "text": [
      "0.5810982612300724\n"
     ]
    }
   ],
   "source": [
    "best_mean_roc = {}\n",
    "\n",
    "df = pickle.load(open('../data/pickles/df_full.pickle', 'rb'))\n",
    "mask =[feature  for feature in list(df) if df[feature].sum() > 50]\n",
    "df = df_trimmer.no_years_no_target(df)\n",
    "X = df[0]\n",
    "y = df[1]\n",
    "best_mean_roc[key] = model_trainer_for_svm(svm.SVC(kernel='linear'), X, y)"
   ]
  },
  {
   "cell_type": "code",
   "execution_count": 38,
   "metadata": {},
   "outputs": [
    {
     "name": "stdout",
     "output_type": "stream",
     "text": [
      "0.5669331200423507\n"
     ]
    }
   ],
   "source": [
    "best_mean_roc = {}\n",
    "\n",
    "df = pickle.load(open('../data/pickles/df_full.pickle', 'rb'))\n",
    "mask =[feature  for feature in list(df) if df[feature].sum() > 50]\n",
    "df = df_trimmer.no_years_no_target(df)\n",
    "X = df[0]\n",
    "y = df[1]\n",
    "best_mean_roc[key] = model_trainer_for_svm(svm.SVC(kernel='rbf', gamma=.001), X, y)"
   ]
  },
  {
   "cell_type": "markdown",
   "metadata": {},
   "source": [
    "# Final analysis on logistic model"
   ]
  },
  {
   "cell_type": "markdown",
   "metadata": {},
   "source": [
    "The logistic model with C=1.211 worked best"
   ]
  },
  {
   "cell_type": "code",
   "execution_count": 45,
   "metadata": {},
   "outputs": [],
   "source": [
    "df = pickle.load(open('../data/pickles/df_full.pickle', 'rb'))\n",
    "mask =[feature  for feature in list(df) if df[feature].sum() > 50]\n",
    "df = df[mask]\n",
    "\n",
    "df = df_trimmer.no_years_no_target(df)\n",
    "X = df[0]\n",
    "y = df[1]"
   ]
  },
  {
   "cell_type": "code",
   "execution_count": 46,
   "metadata": {},
   "outputs": [],
   "source": [
    "X_train, X_test, y_train, y_test = train_test_split(X,y, test_size = .2, random_state=42)"
   ]
  },
  {
   "cell_type": "code",
   "execution_count": 47,
   "metadata": {},
   "outputs": [],
   "source": [
    "mod = LogisticRegression(C=1.2105263157894737)"
   ]
  },
  {
   "cell_type": "code",
   "execution_count": 48,
   "metadata": {},
   "outputs": [],
   "source": [
    "ros = RandomOverSampler(random_state=42)\n",
    "X_train_resampled, y_train_resampled = ros.fit_resample(X_train, y_train)"
   ]
  },
  {
   "cell_type": "code",
   "execution_count": 49,
   "metadata": {},
   "outputs": [
    {
     "data": {
      "text/plain": [
       "LogisticRegression(C=1.2105263157894737, class_weight=None, dual=False,\n",
       "          fit_intercept=True, intercept_scaling=1, max_iter=100,\n",
       "          multi_class='warn', n_jobs=None, penalty='l2', random_state=None,\n",
       "          solver='warn', tol=0.0001, verbose=0, warm_start=False)"
      ]
     },
     "execution_count": 49,
     "metadata": {},
     "output_type": "execute_result"
    }
   ],
   "source": [
    "mod.fit(X_train_resampled, y_train_resampled)"
   ]
  },
  {
   "cell_type": "code",
   "execution_count": 50,
   "metadata": {},
   "outputs": [
    {
     "data": {
      "text/plain": [
       "0.6688245458696368"
      ]
     },
     "execution_count": 50,
     "metadata": {},
     "output_type": "execute_result"
    }
   ],
   "source": [
    "y_pred = mod.predict_proba(X_test)[:,1]\n",
    "y_pred_binary = mod.predict(X_test)\n",
    "y_pred_binary = pd.DataFrame(y_pred_binary)\n",
    "roc_auc_score(y_test, y_pred)"
   ]
  },
  {
   "cell_type": "code",
   "execution_count": 51,
   "metadata": {},
   "outputs": [],
   "source": [
    "from sklearn.metrics import confusion_matrix\n",
    "import seaborn as sns\n",
    "def make_confusion_matrix(model, threshold=0.5):\n",
    "    # Predict class 1 if probability of being in class 1 is greater than threshold\n",
    "    # (model.predict(X_test) does this automatically with a threshold of 0.5)\n",
    "    y_predict = (model.predict_proba(X_test)[:, 1] >= threshold)\n",
    "    fraud_confusion = confusion_matrix(y_test, y_predict)\n",
    "    plt.figure(dpi=80)\n",
    "    sns.heatmap(fraud_confusion, cmap=plt.cm.Blues, annot=True, square=True, fmt='d',\n",
    "           xticklabels=['no_recid', 'recid'],\n",
    "           yticklabels=['no_recid', 'recid']);\n",
    "    plt.xlabel('prediction')\n",
    "    plt.ylabel('actual')"
   ]
  },
  {
   "cell_type": "code",
   "execution_count": 52,
   "metadata": {},
   "outputs": [
    {
     "data": {
      "image/png": "[encoded data removed]",
      "text/plain": [
       "<Figure size 480x320 with 2 Axes>"
      ]
     },
     "metadata": {
      "needs_background": "light"
     },
     "output_type": "display_data"
    }
   ],
   "source": [
    "make_confusion_matrix(mod, threshold=.5)"
   ]
  },
  {
   "cell_type": "code",
   "execution_count": 53,
   "metadata": {},
   "outputs": [],
   "source": [
    "y_pred = mod.predict_proba(X_test)[:,1]\n",
    "df_pred = pd.DataFrame(y_pred)"
   ]
  },
  {
   "cell_type": "code",
   "execution_count": 54,
   "metadata": {
    "scrolled": true
   },
   "outputs": [
    {
     "data": {
      "application/vnd.jupyter.widget-view+json": {
       "model_id": "0db16fb604074623b77afc3f12d0c3aa",
       "version_major": 2,
       "version_minor": 0
      },
      "text/plain": [
       "interactive(children=(FloatSlider(value=0.5, description='threshold', max=1.0, step=0.02), Output()), _dom_cla…"
      ]
     },
     "metadata": {},
     "output_type": "display_data"
    }
   ],
   "source": [
    "# Let's see how our confusion matrix changes with changes to the cutoff! \n",
    "\n",
    "from ipywidgets import interactive, FloatSlider\n",
    "\n",
    "interactive(lambda threshold: make_confusion_matrix(mod, threshold), threshold=(0.0,1.0,0.02))"
   ]
  },
  {
   "cell_type": "code",
   "execution_count": 55,
   "metadata": {},
   "outputs": [],
   "source": [
    "fpr, tpr, log_roc = roc_curve(y_test, y_pred)"
   ]
  },
  {
   "cell_type": "code",
   "execution_count": 63,
   "metadata": {},
   "outputs": [
    {
     "data": {
      "image/png": "[encoded data removed]",
      "text/plain": [
       "<Figure size 432x288 with 1 Axes>"
      ]
     },
     "metadata": {
      "needs_background": "light"
     },
     "output_type": "display_data"
    }
   ],
   "source": [
    "plt.plot(rf_fpr, rf_tpr, lw=2, c='blue')\n",
    "plt.plot(fpr, tpr, lw=2, c='orange')\n",
    "plt.plot(nb_fpr, nb_tpr,lw=2, c='red',label='Naive-Bayes Bernoulli' )\n",
    "\n",
    "plt.plot([0,1],[0,1],c='violet',ls='--')\n",
    "plt.xlim([-0.05,1.05])\n",
    "plt.ylim([-0.05,1.05])\n",
    "plt.xlabel('False positive rate')\n",
    "plt.ylabel('True positive rate')\n",
    "plt.title('ROC curve for Recidivism')\n",
    "plt.savefig('Roccurve.svg')"
   ]
  },
  {
   "cell_type": "code",
   "execution_count": 64,
   "metadata": {
    "scrolled": false
   },
   "outputs": [],
   "source": [
    "y_test = pd.DataFrame(y_test)"
   ]
  },
  {
   "cell_type": "code",
   "execution_count": 62,
   "metadata": {},
   "outputs": [],
   "source": [
    "index_for_merge = list(X_test.index.values)"
   ]
  },
  {
   "cell_type": "code",
   "execution_count": 63,
   "metadata": {},
   "outputs": [],
   "source": [
    "# index_formerge = list(X_test.index.values)\n",
    "X_test['for_merge'] = index_for_merge\n",
    "y_test = pd.DataFrame(y_test)\n"
   ]
  },
  {
   "cell_type": "code",
   "execution_count": 64,
   "metadata": {},
   "outputs": [
    {
     "ename": "NameError",
     "evalue": "name 'df_pred_binary' is not defined",
     "output_type": "error",
     "traceback": [
      "\u001b[0;31m---------------------------------------------------------------------------\u001b[0m",
      "\u001b[0;31mNameError\u001b[0m                                 Traceback (most recent call last)",
      "\u001b[0;32m<ipython-input-64-321e6f18c705>\u001b[0m in \u001b[0;36m<module>\u001b[0;34m\u001b[0m\n\u001b[0;32m----> 1\u001b[0;31m \u001b[0mdf_pred_binary\u001b[0m\u001b[0;34m[\u001b[0m\u001b[0;34m'for_merge'\u001b[0m\u001b[0;34m]\u001b[0m \u001b[0;34m=\u001b[0m \u001b[0mindex_for_merge\u001b[0m\u001b[0;34m\u001b[0m\u001b[0;34m\u001b[0m\u001b[0m\n\u001b[0m\u001b[1;32m      2\u001b[0m \u001b[0mdf_pred\u001b[0m\u001b[0;34m[\u001b[0m\u001b[0;34m'for_merge'\u001b[0m\u001b[0;34m]\u001b[0m \u001b[0;34m=\u001b[0m \u001b[0mindex_for_merge\u001b[0m\u001b[0;34m\u001b[0m\u001b[0;34m\u001b[0m\u001b[0m\n",
      "\u001b[0;31mNameError\u001b[0m: name 'df_pred_binary' is not defined"
     ]
    }
   ],
   "source": [
    "df_pred_binary['for_merge'] = index_for_merge\n",
    "df_pred['for_merge'] = index_for_merge"
   ]
  },
  {
   "cell_type": "code",
   "execution_count": 65,
   "metadata": {},
   "outputs": [
    {
     "ename": "KeyError",
     "evalue": "'for_merge'",
     "output_type": "error",
     "traceback": [
      "\u001b[0;31m---------------------------------------------------------------------------\u001b[0m",
      "\u001b[0;31mKeyError\u001b[0m                                  Traceback (most recent call last)",
      "\u001b[0;32m<ipython-input-65-5906c356b725>\u001b[0m in \u001b[0;36m<module>\u001b[0;34m\u001b[0m\n\u001b[1;32m      1\u001b[0m \u001b[0mdf\u001b[0m \u001b[0;34m=\u001b[0m \u001b[0mpd\u001b[0m\u001b[0;34m.\u001b[0m\u001b[0mmerge\u001b[0m\u001b[0;34m(\u001b[0m\u001b[0mX_test\u001b[0m\u001b[0;34m,\u001b[0m \u001b[0my_test\u001b[0m\u001b[0;34m,\u001b[0m \u001b[0mleft_index\u001b[0m\u001b[0;34m=\u001b[0m\u001b[0;32mTrue\u001b[0m\u001b[0;34m,\u001b[0m \u001b[0mright_index\u001b[0m\u001b[0;34m=\u001b[0m\u001b[0;32mTrue\u001b[0m\u001b[0;34m)\u001b[0m\u001b[0;34m\u001b[0m\u001b[0;34m\u001b[0m\u001b[0m\n\u001b[0;32m----> 2\u001b[0;31m \u001b[0mdf\u001b[0m \u001b[0;34m=\u001b[0m \u001b[0mpd\u001b[0m\u001b[0;34m.\u001b[0m\u001b[0mmerge\u001b[0m\u001b[0;34m(\u001b[0m\u001b[0mdf\u001b[0m\u001b[0;34m,\u001b[0m \u001b[0mdf_pred\u001b[0m\u001b[0;34m,\u001b[0m \u001b[0mleft_on\u001b[0m \u001b[0;34m=\u001b[0m \u001b[0;34m'for_merge'\u001b[0m\u001b[0;34m,\u001b[0m \u001b[0mright_on\u001b[0m \u001b[0;34m=\u001b[0m \u001b[0;34m'for_merge'\u001b[0m\u001b[0;34m)\u001b[0m\u001b[0;34m\u001b[0m\u001b[0;34m\u001b[0m\u001b[0m\n\u001b[0m\u001b[1;32m      3\u001b[0m \u001b[0mdf\u001b[0m \u001b[0;34m=\u001b[0m \u001b[0mpd\u001b[0m\u001b[0;34m.\u001b[0m\u001b[0mmerge\u001b[0m\u001b[0;34m(\u001b[0m\u001b[0mdf\u001b[0m\u001b[0;34m,\u001b[0m \u001b[0mdf_pred_binary\u001b[0m\u001b[0;34m,\u001b[0m\u001b[0mleft_on\u001b[0m \u001b[0;34m=\u001b[0m \u001b[0;34m'for_merge'\u001b[0m\u001b[0;34m,\u001b[0m \u001b[0mright_on\u001b[0m \u001b[0;34m=\u001b[0m \u001b[0;34m'for_merge'\u001b[0m\u001b[0;34m)\u001b[0m\u001b[0;34m\u001b[0m\u001b[0;34m\u001b[0m\u001b[0m\n\u001b[1;32m      4\u001b[0m \u001b[0mdf\u001b[0m\u001b[0;34m.\u001b[0m\u001b[0mdrop\u001b[0m\u001b[0;34m(\u001b[0m\u001b[0mcolumns\u001b[0m \u001b[0;34m=\u001b[0m \u001b[0;34m'for_merge'\u001b[0m\u001b[0;34m,\u001b[0m \u001b[0minplace\u001b[0m\u001b[0;34m=\u001b[0m\u001b[0;32mTrue\u001b[0m\u001b[0;34m)\u001b[0m\u001b[0;34m\u001b[0m\u001b[0;34m\u001b[0m\u001b[0m\n\u001b[1;32m      5\u001b[0m \u001b[0mdf\u001b[0m\u001b[0;34m.\u001b[0m\u001b[0mrename\u001b[0m\u001b[0;34m(\u001b[0m\u001b[0mcolumns\u001b[0m\u001b[0;34m=\u001b[0m\u001b[0;34m{\u001b[0m\u001b[0;36m0\u001b[0m\u001b[0;34m:\u001b[0m\u001b[0;34m'y_pred'\u001b[0m\u001b[0;34m}\u001b[0m\u001b[0;34m,\u001b[0m \u001b[0minplace\u001b[0m \u001b[0;34m=\u001b[0m \u001b[0;32mTrue\u001b[0m\u001b[0;34m)\u001b[0m\u001b[0;34m\u001b[0m\u001b[0;34m\u001b[0m\u001b[0m\n",
      "\u001b[0;32m/anaconda3/lib/python3.6/site-packages/pandas/core/reshape/merge.py\u001b[0m in \u001b[0;36mmerge\u001b[0;34m(left, right, how, on, left_on, right_on, left_index, right_index, sort, suffixes, copy, indicator, validate)\u001b[0m\n\u001b[1;32m     59\u001b[0m                          \u001b[0mright_index\u001b[0m\u001b[0;34m=\u001b[0m\u001b[0mright_index\u001b[0m\u001b[0;34m,\u001b[0m \u001b[0msort\u001b[0m\u001b[0;34m=\u001b[0m\u001b[0msort\u001b[0m\u001b[0;34m,\u001b[0m \u001b[0msuffixes\u001b[0m\u001b[0;34m=\u001b[0m\u001b[0msuffixes\u001b[0m\u001b[0;34m,\u001b[0m\u001b[0;34m\u001b[0m\u001b[0;34m\u001b[0m\u001b[0m\n\u001b[1;32m     60\u001b[0m                          \u001b[0mcopy\u001b[0m\u001b[0;34m=\u001b[0m\u001b[0mcopy\u001b[0m\u001b[0;34m,\u001b[0m \u001b[0mindicator\u001b[0m\u001b[0;34m=\u001b[0m\u001b[0mindicator\u001b[0m\u001b[0;34m,\u001b[0m\u001b[0;34m\u001b[0m\u001b[0;34m\u001b[0m\u001b[0m\n\u001b[0;32m---> 61\u001b[0;31m                          validate=validate)\n\u001b[0m\u001b[1;32m     62\u001b[0m     \u001b[0;32mreturn\u001b[0m \u001b[0mop\u001b[0m\u001b[0;34m.\u001b[0m\u001b[0mget_result\u001b[0m\u001b[0;34m(\u001b[0m\u001b[0;34m)\u001b[0m\u001b[0;34m\u001b[0m\u001b[0;34m\u001b[0m\u001b[0m\n\u001b[1;32m     63\u001b[0m \u001b[0;34m\u001b[0m\u001b[0m\n",
      "\u001b[0;32m/anaconda3/lib/python3.6/site-packages/pandas/core/reshape/merge.py\u001b[0m in \u001b[0;36m__init__\u001b[0;34m(self, left, right, how, on, left_on, right_on, axis, left_index, right_index, sort, suffixes, copy, indicator, validate)\u001b[0m\n\u001b[1;32m    549\u001b[0m         (self.left_join_keys,\n\u001b[1;32m    550\u001b[0m          \u001b[0mself\u001b[0m\u001b[0;34m.\u001b[0m\u001b[0mright_join_keys\u001b[0m\u001b[0;34m,\u001b[0m\u001b[0;34m\u001b[0m\u001b[0;34m\u001b[0m\u001b[0m\n\u001b[0;32m--> 551\u001b[0;31m          self.join_names) = self._get_merge_keys()\n\u001b[0m\u001b[1;32m    552\u001b[0m \u001b[0;34m\u001b[0m\u001b[0m\n\u001b[1;32m    553\u001b[0m         \u001b[0;31m# validate the merge keys dtypes. We may need to coerce\u001b[0m\u001b[0;34m\u001b[0m\u001b[0;34m\u001b[0m\u001b[0;34m\u001b[0m\u001b[0m\n",
      "\u001b[0;32m/anaconda3/lib/python3.6/site-packages/pandas/core/reshape/merge.py\u001b[0m in \u001b[0;36m_get_merge_keys\u001b[0;34m(self)\u001b[0m\n\u001b[1;32m    855\u001b[0m                             right_keys.append(\n\u001b[1;32m    856\u001b[0m                                 right._get_label_or_level_values(\n\u001b[0;32m--> 857\u001b[0;31m                                     rk, stacklevel=stacklevel))\n\u001b[0m\u001b[1;32m    858\u001b[0m                         \u001b[0;32melse\u001b[0m\u001b[0;34m:\u001b[0m\u001b[0;34m\u001b[0m\u001b[0;34m\u001b[0m\u001b[0m\n\u001b[1;32m    859\u001b[0m                             \u001b[0;31m# work-around for merge_asof(right_index=True)\u001b[0m\u001b[0;34m\u001b[0m\u001b[0;34m\u001b[0m\u001b[0;34m\u001b[0m\u001b[0m\n",
      "\u001b[0;32m/anaconda3/lib/python3.6/site-packages/pandas/core/generic.py\u001b[0m in \u001b[0;36m_get_label_or_level_values\u001b[0;34m(self, key, axis, stacklevel)\u001b[0m\n\u001b[1;32m   1380\u001b[0m             \u001b[0mvalues\u001b[0m \u001b[0;34m=\u001b[0m \u001b[0mself\u001b[0m\u001b[0;34m.\u001b[0m\u001b[0maxes\u001b[0m\u001b[0;34m[\u001b[0m\u001b[0maxis\u001b[0m\u001b[0;34m]\u001b[0m\u001b[0;34m.\u001b[0m\u001b[0mget_level_values\u001b[0m\u001b[0;34m(\u001b[0m\u001b[0mkey\u001b[0m\u001b[0;34m)\u001b[0m\u001b[0;34m.\u001b[0m\u001b[0m_values\u001b[0m\u001b[0;34m\u001b[0m\u001b[0;34m\u001b[0m\u001b[0m\n\u001b[1;32m   1381\u001b[0m         \u001b[0;32melse\u001b[0m\u001b[0;34m:\u001b[0m\u001b[0;34m\u001b[0m\u001b[0;34m\u001b[0m\u001b[0m\n\u001b[0;32m-> 1382\u001b[0;31m             \u001b[0;32mraise\u001b[0m \u001b[0mKeyError\u001b[0m\u001b[0;34m(\u001b[0m\u001b[0mkey\u001b[0m\u001b[0;34m)\u001b[0m\u001b[0;34m\u001b[0m\u001b[0;34m\u001b[0m\u001b[0m\n\u001b[0m\u001b[1;32m   1383\u001b[0m \u001b[0;34m\u001b[0m\u001b[0m\n\u001b[1;32m   1384\u001b[0m         \u001b[0;31m# Check for duplicates\u001b[0m\u001b[0;34m\u001b[0m\u001b[0;34m\u001b[0m\u001b[0;34m\u001b[0m\u001b[0m\n",
      "\u001b[0;31mKeyError\u001b[0m: 'for_merge'"
     ]
    }
   ],
   "source": [
    "df = pd.merge(X_test, y_test, left_index=True, right_index=True)\n",
    "df = pd.merge(df, df_pred, left_on = 'for_merge', right_on = 'for_merge')\n",
    "df = pd.merge(df, df_pred_binary,left_on = 'for_merge', right_on = 'for_merge')\n",
    "df.drop(columns = 'for_merge', inplace=True)\n",
    "df.rename(columns={0:'y_pred'}, inplace = True)\n",
    "df"
   ]
  },
  {
   "cell_type": "markdown",
   "metadata": {},
   "source": [
    "## important feature analysis"
   ]
  },
  {
   "cell_type": "code",
   "execution_count": null,
   "metadata": {},
   "outputs": [],
   "source": [
    "df_none_dis = df[df['supervising_district_None-Discharged']==1]"
   ]
  },
  {
   "cell_type": "markdown",
   "metadata": {},
   "source": [
    "### None-Discharged"
   ]
  },
  {
   "cell_type": "code",
   "execution_count": null,
   "metadata": {
    "scrolled": true
   },
   "outputs": [],
   "source": [
    "df_none_dis.sort_values('recid_flag')"
   ]
  },
  {
   "cell_type": "markdown",
   "metadata": {},
   "source": [
    " ('release_type_Discharged - Expiration of Sentence', 0.021165863060434977),\n",
    " ('age_at_release_25-34', 0.023182474503763227),\n",
    " ('age_at_release_55 and Older', 0.024901892726594307),\n",
    " ('race_White - Hispanic', 0.02951974794269129),\n",
    " ('target_pop_flag', 0.045160978205675294),\n",
    " ('supervising_district_ISC', 0.04706316243727532),\n",
    " ('convicting_type_Violent', 0.05107895305205886),\n",
    " ('supervising_district_5JD', 0.07606929388854781),"
   ]
  },
  {
   "cell_type": "markdown",
   "metadata": {},
   "source": [
    "### Violent"
   ]
  },
  {
   "cell_type": "code",
   "execution_count": 41,
   "metadata": {},
   "outputs": [],
   "source": [
    "df_violent = df[df['convicting_type_Violent'] == 1]"
   ]
  },
  {
   "cell_type": "code",
   "execution_count": 43,
   "metadata": {},
   "outputs": [
    {
     "data": {
      "text/plain": [
       "(5264, 91)"
      ]
     },
     "execution_count": 43,
     "metadata": {},
     "output_type": "execute_result"
    }
   ],
   "source": [
    "df_violent.shape"
   ]
  },
  {
   "cell_type": "code",
   "execution_count": 44,
   "metadata": {},
   "outputs": [
    {
     "ename": "KeyError",
     "evalue": "'0_y'",
     "output_type": "error",
     "traceback": [
      "\u001b[0;31m---------------------------------------------------------------------------\u001b[0m",
      "\u001b[0;31mKeyError\u001b[0m                                  Traceback (most recent call last)",
      "\u001b[0;32m/anaconda3/lib/python3.6/site-packages/pandas/core/indexes/base.py\u001b[0m in \u001b[0;36mget_loc\u001b[0;34m(self, key, method, tolerance)\u001b[0m\n\u001b[1;32m   3077\u001b[0m             \u001b[0;32mtry\u001b[0m\u001b[0;34m:\u001b[0m\u001b[0;34m\u001b[0m\u001b[0;34m\u001b[0m\u001b[0m\n\u001b[0;32m-> 3078\u001b[0;31m                 \u001b[0;32mreturn\u001b[0m \u001b[0mself\u001b[0m\u001b[0;34m.\u001b[0m\u001b[0m_engine\u001b[0m\u001b[0;34m.\u001b[0m\u001b[0mget_loc\u001b[0m\u001b[0;34m(\u001b[0m\u001b[0mkey\u001b[0m\u001b[0;34m)\u001b[0m\u001b[0;34m\u001b[0m\u001b[0;34m\u001b[0m\u001b[0m\n\u001b[0m\u001b[1;32m   3079\u001b[0m             \u001b[0;32mexcept\u001b[0m \u001b[0mKeyError\u001b[0m\u001b[0;34m:\u001b[0m\u001b[0;34m\u001b[0m\u001b[0;34m\u001b[0m\u001b[0m\n",
      "\u001b[0;32mpandas/_libs/index.pyx\u001b[0m in \u001b[0;36mpandas._libs.index.IndexEngine.get_loc\u001b[0;34m()\u001b[0m\n",
      "\u001b[0;32mpandas/_libs/index.pyx\u001b[0m in \u001b[0;36mpandas._libs.index.IndexEngine.get_loc\u001b[0;34m()\u001b[0m\n",
      "\u001b[0;32mpandas/_libs/hashtable_class_helper.pxi\u001b[0m in \u001b[0;36mpandas._libs.hashtable.PyObjectHashTable.get_item\u001b[0;34m()\u001b[0m\n",
      "\u001b[0;32mpandas/_libs/hashtable_class_helper.pxi\u001b[0m in \u001b[0;36mpandas._libs.hashtable.PyObjectHashTable.get_item\u001b[0;34m()\u001b[0m\n",
      "\u001b[0;31mKeyError\u001b[0m: '0_y'",
      "\nDuring handling of the above exception, another exception occurred:\n",
      "\u001b[0;31mKeyError\u001b[0m                                  Traceback (most recent call last)",
      "\u001b[0;32m<ipython-input-44-03e9bbb5b9d2>\u001b[0m in \u001b[0;36m<module>\u001b[0;34m\u001b[0m\n\u001b[0;32m----> 1\u001b[0;31m \u001b[0mdf_errors\u001b[0m \u001b[0;34m=\u001b[0m \u001b[0mdf\u001b[0m\u001b[0;34m[\u001b[0m\u001b[0mdf\u001b[0m\u001b[0;34m[\u001b[0m\u001b[0;34m'recid_flag'\u001b[0m\u001b[0;34m]\u001b[0m \u001b[0;34m!=\u001b[0m \u001b[0mdf\u001b[0m\u001b[0;34m[\u001b[0m\u001b[0;34m'0_y'\u001b[0m\u001b[0;34m]\u001b[0m\u001b[0;34m]\u001b[0m\u001b[0;34m\u001b[0m\u001b[0;34m\u001b[0m\u001b[0m\n\u001b[0m",
      "\u001b[0;32m/anaconda3/lib/python3.6/site-packages/pandas/core/frame.py\u001b[0m in \u001b[0;36m__getitem__\u001b[0;34m(self, key)\u001b[0m\n\u001b[1;32m   2686\u001b[0m             \u001b[0;32mreturn\u001b[0m \u001b[0mself\u001b[0m\u001b[0;34m.\u001b[0m\u001b[0m_getitem_multilevel\u001b[0m\u001b[0;34m(\u001b[0m\u001b[0mkey\u001b[0m\u001b[0;34m)\u001b[0m\u001b[0;34m\u001b[0m\u001b[0;34m\u001b[0m\u001b[0m\n\u001b[1;32m   2687\u001b[0m         \u001b[0;32melse\u001b[0m\u001b[0;34m:\u001b[0m\u001b[0;34m\u001b[0m\u001b[0;34m\u001b[0m\u001b[0m\n\u001b[0;32m-> 2688\u001b[0;31m             \u001b[0;32mreturn\u001b[0m \u001b[0mself\u001b[0m\u001b[0;34m.\u001b[0m\u001b[0m_getitem_column\u001b[0m\u001b[0;34m(\u001b[0m\u001b[0mkey\u001b[0m\u001b[0;34m)\u001b[0m\u001b[0;34m\u001b[0m\u001b[0;34m\u001b[0m\u001b[0m\n\u001b[0m\u001b[1;32m   2689\u001b[0m \u001b[0;34m\u001b[0m\u001b[0m\n\u001b[1;32m   2690\u001b[0m     \u001b[0;32mdef\u001b[0m \u001b[0m_getitem_column\u001b[0m\u001b[0;34m(\u001b[0m\u001b[0mself\u001b[0m\u001b[0;34m,\u001b[0m \u001b[0mkey\u001b[0m\u001b[0;34m)\u001b[0m\u001b[0;34m:\u001b[0m\u001b[0;34m\u001b[0m\u001b[0;34m\u001b[0m\u001b[0m\n",
      "\u001b[0;32m/anaconda3/lib/python3.6/site-packages/pandas/core/frame.py\u001b[0m in \u001b[0;36m_getitem_column\u001b[0;34m(self, key)\u001b[0m\n\u001b[1;32m   2693\u001b[0m         \u001b[0;31m# get column\u001b[0m\u001b[0;34m\u001b[0m\u001b[0;34m\u001b[0m\u001b[0;34m\u001b[0m\u001b[0m\n\u001b[1;32m   2694\u001b[0m         \u001b[0;32mif\u001b[0m \u001b[0mself\u001b[0m\u001b[0;34m.\u001b[0m\u001b[0mcolumns\u001b[0m\u001b[0;34m.\u001b[0m\u001b[0mis_unique\u001b[0m\u001b[0;34m:\u001b[0m\u001b[0;34m\u001b[0m\u001b[0;34m\u001b[0m\u001b[0m\n\u001b[0;32m-> 2695\u001b[0;31m             \u001b[0;32mreturn\u001b[0m \u001b[0mself\u001b[0m\u001b[0;34m.\u001b[0m\u001b[0m_get_item_cache\u001b[0m\u001b[0;34m(\u001b[0m\u001b[0mkey\u001b[0m\u001b[0;34m)\u001b[0m\u001b[0;34m\u001b[0m\u001b[0;34m\u001b[0m\u001b[0m\n\u001b[0m\u001b[1;32m   2696\u001b[0m \u001b[0;34m\u001b[0m\u001b[0m\n\u001b[1;32m   2697\u001b[0m         \u001b[0;31m# duplicate columns & possible reduce dimensionality\u001b[0m\u001b[0;34m\u001b[0m\u001b[0;34m\u001b[0m\u001b[0;34m\u001b[0m\u001b[0m\n",
      "\u001b[0;32m/anaconda3/lib/python3.6/site-packages/pandas/core/generic.py\u001b[0m in \u001b[0;36m_get_item_cache\u001b[0;34m(self, item)\u001b[0m\n\u001b[1;32m   2487\u001b[0m         \u001b[0mres\u001b[0m \u001b[0;34m=\u001b[0m \u001b[0mcache\u001b[0m\u001b[0;34m.\u001b[0m\u001b[0mget\u001b[0m\u001b[0;34m(\u001b[0m\u001b[0mitem\u001b[0m\u001b[0;34m)\u001b[0m\u001b[0;34m\u001b[0m\u001b[0;34m\u001b[0m\u001b[0m\n\u001b[1;32m   2488\u001b[0m         \u001b[0;32mif\u001b[0m \u001b[0mres\u001b[0m \u001b[0;32mis\u001b[0m \u001b[0;32mNone\u001b[0m\u001b[0;34m:\u001b[0m\u001b[0;34m\u001b[0m\u001b[0;34m\u001b[0m\u001b[0m\n\u001b[0;32m-> 2489\u001b[0;31m             \u001b[0mvalues\u001b[0m \u001b[0;34m=\u001b[0m \u001b[0mself\u001b[0m\u001b[0;34m.\u001b[0m\u001b[0m_data\u001b[0m\u001b[0;34m.\u001b[0m\u001b[0mget\u001b[0m\u001b[0;34m(\u001b[0m\u001b[0mitem\u001b[0m\u001b[0;34m)\u001b[0m\u001b[0;34m\u001b[0m\u001b[0;34m\u001b[0m\u001b[0m\n\u001b[0m\u001b[1;32m   2490\u001b[0m             \u001b[0mres\u001b[0m \u001b[0;34m=\u001b[0m \u001b[0mself\u001b[0m\u001b[0;34m.\u001b[0m\u001b[0m_box_item_values\u001b[0m\u001b[0;34m(\u001b[0m\u001b[0mitem\u001b[0m\u001b[0;34m,\u001b[0m \u001b[0mvalues\u001b[0m\u001b[0;34m)\u001b[0m\u001b[0;34m\u001b[0m\u001b[0;34m\u001b[0m\u001b[0m\n\u001b[1;32m   2491\u001b[0m             \u001b[0mcache\u001b[0m\u001b[0;34m[\u001b[0m\u001b[0mitem\u001b[0m\u001b[0;34m]\u001b[0m \u001b[0;34m=\u001b[0m \u001b[0mres\u001b[0m\u001b[0;34m\u001b[0m\u001b[0;34m\u001b[0m\u001b[0m\n",
      "\u001b[0;32m/anaconda3/lib/python3.6/site-packages/pandas/core/internals.py\u001b[0m in \u001b[0;36mget\u001b[0;34m(self, item, fastpath)\u001b[0m\n\u001b[1;32m   4113\u001b[0m \u001b[0;34m\u001b[0m\u001b[0m\n\u001b[1;32m   4114\u001b[0m             \u001b[0;32mif\u001b[0m \u001b[0;32mnot\u001b[0m \u001b[0misna\u001b[0m\u001b[0;34m(\u001b[0m\u001b[0mitem\u001b[0m\u001b[0;34m)\u001b[0m\u001b[0;34m:\u001b[0m\u001b[0;34m\u001b[0m\u001b[0;34m\u001b[0m\u001b[0m\n\u001b[0;32m-> 4115\u001b[0;31m                 \u001b[0mloc\u001b[0m \u001b[0;34m=\u001b[0m \u001b[0mself\u001b[0m\u001b[0;34m.\u001b[0m\u001b[0mitems\u001b[0m\u001b[0;34m.\u001b[0m\u001b[0mget_loc\u001b[0m\u001b[0;34m(\u001b[0m\u001b[0mitem\u001b[0m\u001b[0;34m)\u001b[0m\u001b[0;34m\u001b[0m\u001b[0;34m\u001b[0m\u001b[0m\n\u001b[0m\u001b[1;32m   4116\u001b[0m             \u001b[0;32melse\u001b[0m\u001b[0;34m:\u001b[0m\u001b[0;34m\u001b[0m\u001b[0;34m\u001b[0m\u001b[0m\n\u001b[1;32m   4117\u001b[0m                 \u001b[0mindexer\u001b[0m \u001b[0;34m=\u001b[0m \u001b[0mnp\u001b[0m\u001b[0;34m.\u001b[0m\u001b[0marange\u001b[0m\u001b[0;34m(\u001b[0m\u001b[0mlen\u001b[0m\u001b[0;34m(\u001b[0m\u001b[0mself\u001b[0m\u001b[0;34m.\u001b[0m\u001b[0mitems\u001b[0m\u001b[0;34m)\u001b[0m\u001b[0;34m)\u001b[0m\u001b[0;34m[\u001b[0m\u001b[0misna\u001b[0m\u001b[0;34m(\u001b[0m\u001b[0mself\u001b[0m\u001b[0;34m.\u001b[0m\u001b[0mitems\u001b[0m\u001b[0;34m)\u001b[0m\u001b[0;34m]\u001b[0m\u001b[0;34m\u001b[0m\u001b[0;34m\u001b[0m\u001b[0m\n",
      "\u001b[0;32m/anaconda3/lib/python3.6/site-packages/pandas/core/indexes/base.py\u001b[0m in \u001b[0;36mget_loc\u001b[0;34m(self, key, method, tolerance)\u001b[0m\n\u001b[1;32m   3078\u001b[0m                 \u001b[0;32mreturn\u001b[0m \u001b[0mself\u001b[0m\u001b[0;34m.\u001b[0m\u001b[0m_engine\u001b[0m\u001b[0;34m.\u001b[0m\u001b[0mget_loc\u001b[0m\u001b[0;34m(\u001b[0m\u001b[0mkey\u001b[0m\u001b[0;34m)\u001b[0m\u001b[0;34m\u001b[0m\u001b[0;34m\u001b[0m\u001b[0m\n\u001b[1;32m   3079\u001b[0m             \u001b[0;32mexcept\u001b[0m \u001b[0mKeyError\u001b[0m\u001b[0;34m:\u001b[0m\u001b[0;34m\u001b[0m\u001b[0;34m\u001b[0m\u001b[0m\n\u001b[0;32m-> 3080\u001b[0;31m                 \u001b[0;32mreturn\u001b[0m \u001b[0mself\u001b[0m\u001b[0;34m.\u001b[0m\u001b[0m_engine\u001b[0m\u001b[0;34m.\u001b[0m\u001b[0mget_loc\u001b[0m\u001b[0;34m(\u001b[0m\u001b[0mself\u001b[0m\u001b[0;34m.\u001b[0m\u001b[0m_maybe_cast_indexer\u001b[0m\u001b[0;34m(\u001b[0m\u001b[0mkey\u001b[0m\u001b[0;34m)\u001b[0m\u001b[0;34m)\u001b[0m\u001b[0;34m\u001b[0m\u001b[0;34m\u001b[0m\u001b[0m\n\u001b[0m\u001b[1;32m   3081\u001b[0m \u001b[0;34m\u001b[0m\u001b[0m\n\u001b[1;32m   3082\u001b[0m         \u001b[0mindexer\u001b[0m \u001b[0;34m=\u001b[0m \u001b[0mself\u001b[0m\u001b[0;34m.\u001b[0m\u001b[0mget_indexer\u001b[0m\u001b[0;34m(\u001b[0m\u001b[0;34m[\u001b[0m\u001b[0mkey\u001b[0m\u001b[0;34m]\u001b[0m\u001b[0;34m,\u001b[0m \u001b[0mmethod\u001b[0m\u001b[0;34m=\u001b[0m\u001b[0mmethod\u001b[0m\u001b[0;34m,\u001b[0m \u001b[0mtolerance\u001b[0m\u001b[0;34m=\u001b[0m\u001b[0mtolerance\u001b[0m\u001b[0;34m)\u001b[0m\u001b[0;34m\u001b[0m\u001b[0;34m\u001b[0m\u001b[0m\n",
      "\u001b[0;32mpandas/_libs/index.pyx\u001b[0m in \u001b[0;36mpandas._libs.index.IndexEngine.get_loc\u001b[0;34m()\u001b[0m\n",
      "\u001b[0;32mpandas/_libs/index.pyx\u001b[0m in \u001b[0;36mpandas._libs.index.IndexEngine.get_loc\u001b[0;34m()\u001b[0m\n",
      "\u001b[0;32mpandas/_libs/hashtable_class_helper.pxi\u001b[0m in \u001b[0;36mpandas._libs.hashtable.PyObjectHashTable.get_item\u001b[0;34m()\u001b[0m\n",
      "\u001b[0;32mpandas/_libs/hashtable_class_helper.pxi\u001b[0m in \u001b[0;36mpandas._libs.hashtable.PyObjectHashTable.get_item\u001b[0;34m()\u001b[0m\n",
      "\u001b[0;31mKeyError\u001b[0m: '0_y'"
     ]
    }
   ],
   "source": [
    "df_errors = df[df['recid_flag'] != df['0_y']]"
   ]
  },
  {
   "cell_type": "code",
   "execution_count": null,
   "metadata": {},
   "outputs": [],
   "source": [
    "len(df_errors)"
   ]
  },
  {
   "cell_type": "code",
   "execution_count": null,
   "metadata": {},
   "outputs": [],
   "source": [
    "df_sum = pd.DataFrame(df.sum())\n"
   ]
  },
  {
   "cell_type": "code",
   "execution_count": null,
   "metadata": {},
   "outputs": [],
   "source": [
    "df_errors.sum()"
   ]
  },
  {
   "cell_type": "code",
   "execution_count": null,
   "metadata": {},
   "outputs": [],
   "source": [
    "df_error_perc = df_errors.sum()/df.sum()"
   ]
  },
  {
   "cell_type": "code",
   "execution_count": null,
   "metadata": {},
   "outputs": [],
   "source": [
    "df = pd.DataFrame(df_error_perc.sort_values(ascending=True))"
   ]
  },
  {
   "cell_type": "code",
   "execution_count": null,
   "metadata": {},
   "outputs": [],
   "source": [
    "df = pd.merge(df, df_sum, left_index=True, right_index=True)"
   ]
  },
  {
   "cell_type": "code",
   "execution_count": null,
   "metadata": {},
   "outputs": [],
   "source": [
    "df.rename(columns = {'0_x':\"Percent_error\", '0_y': 'Total count in X_Test'}, inplace=True)"
   ]
  },
  {
   "cell_type": "code",
   "execution_count": null,
   "metadata": {},
   "outputs": [],
   "source": [
    "df.sort_values('Total count in X_Test')"
   ]
  },
  {
   "cell_type": "code",
   "execution_count": null,
   "metadata": {},
   "outputs": [],
   "source": [
    "plt.scatter(df['Total count in X_Test'], df['Percent_error'])"
   ]
  },
  {
   "cell_type": "markdown",
   "metadata": {},
   "source": [
    "### Hispanic"
   ]
  },
  {
   "cell_type": "code",
   "execution_count": null,
   "metadata": {
    "scrolled": true
   },
   "outputs": [],
   "source": [
    "df_hispanic_errors = df_errors[df_errors[ 'race_White - Hispanic']==1]\n",
    "df_hispanic_errors"
   ]
  },
  {
   "cell_type": "code",
   "execution_count": null,
   "metadata": {},
   "outputs": [],
   "source": [
    "df_hispanic_error = df_hispanic[df_hispanic['recid_flag'] != df_hispanic['0_y']]\n"
   ]
  },
  {
   "cell_type": "code",
   "execution_count": null,
   "metadata": {},
   "outputs": [],
   "source": [
    "len(df_hispanic_error)\n",
    "X_test_hispanic_count = len(X_test[X_test['race_White - Hispanic'] == 1])\n",
    "X_test_hispanic_count"
   ]
  },
  {
   "cell_type": "code",
   "execution_count": null,
   "metadata": {},
   "outputs": [],
   "source": [
    "hisp_false_pos = df_hispanic_error['0_y'].sum()\n",
    "hisp_false_neg = len(df_hispanic_error) - hisp_false_pos\n",
    "print('Total Hispanic Population Count in Test Set %s' %X_test_hispanic_count)\n",
    "print('False positives for Hispanic Population %s' %hisp_false_pos)\n",
    "print('False negatives for Hispanic Population %s' %hisp_false_neg)\n"
   ]
  },
  {
   "cell_type": "markdown",
   "metadata": {},
   "source": [
    "### Black"
   ]
  },
  {
   "cell_type": "code",
   "execution_count": null,
   "metadata": {},
   "outputs": [],
   "source": [
    "list(df)"
   ]
  },
  {
   "cell_type": "code",
   "execution_count": null,
   "metadata": {},
   "outputs": [],
   "source": [
    "df = pickle.load(open('../data/pickles/df_full.pickle', 'rb'))\n",
    "mask =[feature  for feature in list(df) if df[feature].sum() > 50]\n",
    "df = df[mask]\n",
    "mask_black = df[df['race_Black - Non-Hispanic']==1]\n",
    "mask_black['recid_flag'].sum()/len(mask_black)"
   ]
  },
  {
   "cell_type": "markdown",
   "metadata": {},
   "source": [
    "### White"
   ]
  },
  {
   "cell_type": "code",
   "execution_count": null,
   "metadata": {},
   "outputs": [],
   "source": [
    "df = pickle.load(open('../data/pickles/df_full.pickle', 'rb'))\n",
    "mask =[feature  for feature in list(df) if df[feature].sum() > 50]\n",
    "df = df[mask]\n",
    "mask_white = df[df['race_White - Non-Hispanic']==1]\n",
    "mask_white['recid_flag'].sum()/len(mask_white)\n"
   ]
  },
  {
   "cell_type": "markdown",
   "metadata": {},
   "source": [
    "### 55 and Older"
   ]
  },
  {
   "cell_type": "code",
   "execution_count": null,
   "metadata": {},
   "outputs": [],
   "source": [
    "df = pickle.load(open('../data/pickles/df_full.pickle', 'rb'))\n",
    "mask =[feature  for feature in list(df) if df[feature].sum() > 50]\n",
    "df = df[mask]\n",
    "\n",
    "df = df_trimmer.no_years_no_target(df)\n",
    "X = df[0]\n",
    "older_55_count = len(X_test[X_test['age_at_release_55 and Older']==1])\n",
    "older_55_count"
   ]
  },
  {
   "cell_type": "code",
   "execution_count": null,
   "metadata": {},
   "outputs": [],
   "source": [
    "\n",
    "df_55_error = df_errors[df_errors['age_at_release_55 and Older']==1]\n",
    "false_pos_55 = df_55_error['0_y'].sum()\n",
    "false_neg_55 = len(df_55_error) - false_pos_55\n",
    "print('Total 55 and older Population Count in Test Set %s' %older_55_count)\n",
    "print('False positives for 55 and older population %s' %false_pos_55)\n",
    "print('False negatives for 55 and older population %s' %false_neg_55)"
   ]
  },
  {
   "cell_type": "code",
   "execution_count": null,
   "metadata": {
    "scrolled": true
   },
   "outputs": [],
   "source": [
    "df_55_error"
   ]
  },
  {
   "cell_type": "markdown",
   "metadata": {},
   "source": [
    "### Murder"
   ]
  },
  {
   "cell_type": "code",
   "execution_count": null,
   "metadata": {},
   "outputs": [],
   "source": [
    "df = pickle.load(open('../data/pickles/df_full.pickle', 'rb'))\n",
    "mask =[feature  for feature in list(df) if df[feature].sum() > 50]\n",
    "df = df[mask]\n",
    "\n",
    "df = df_trimmer.no_years_no_target(df)\n",
    "X = df[0]\n",
    "df_murder_count = len(X_test[X_test['conviction_subtype_Murder/Manslaughter']==1])\n",
    "df_murder_count"
   ]
  },
  {
   "cell_type": "code",
   "execution_count": null,
   "metadata": {},
   "outputs": [],
   "source": [
    "df_murder_error = df_errors[df_errors['conviction_subtype_Murder/Manslaughter']==1]\n",
    "false_pos_murder = df_murder_error['0_y'].sum()\n",
    "false_neg_murder = len(df_murder_error) - false_pos_murder\n",
    "print('Total Convicted Murderer Population Count in Test Set %s' %df_murder_count)\n",
    "print('False positive Convicted Murderer and older population %s' %false_pos_murder)\n",
    "print('False negative Convicted Murderer and older population %s' %false_neg_murder)"
   ]
  },
  {
   "cell_type": "markdown",
   "metadata": {},
   "source": [
    "### Assault"
   ]
  },
  {
   "cell_type": "code",
   "execution_count": null,
   "metadata": {},
   "outputs": [],
   "source": [
    "df = pickle.load(open('../data/pickles/df_full.pickle', 'rb'))\n",
    "mask =[feature  for feature in list(df) if df[feature].sum() > 50]\n",
    "df = df[mask]\n",
    "mask_assault = df[df['conviction_subtype_Assault']==1]\n",
    "mask_assault['recid_flag'].sum()/len(mask_assault)\n",
    "\n"
   ]
  },
  {
   "cell_type": "markdown",
   "metadata": {},
   "source": [
    "### Sex"
   ]
  },
  {
   "cell_type": "code",
   "execution_count": null,
   "metadata": {},
   "outputs": [],
   "source": [
    "df = pickle.load(open('../data/pickles/df_full.pickle', 'rb'))\n",
    "mask =[feature  for feature in list(df) if df[feature].sum() > 50]\n",
    "df = df[mask]\n",
    "mask_sex = df[df['conviction_subtype_Sex']==1]\n",
    "mask_sex['recid_flag'].sum()/len(mask_sex)\n"
   ]
  },
  {
   "cell_type": "markdown",
   "metadata": {},
   "source": [
    "### Explore Hispanic, over 55, murder"
   ]
  },
  {
   "cell_type": "code",
   "execution_count": null,
   "metadata": {},
   "outputs": [],
   "source": [
    "df = pickle.load(open('../data/pickles/df_full.pickle', 'rb'))\n",
    "mask =[feature  for feature in list(df) if df[feature].sum() > 50]\n",
    "df = df[mask]\n",
    "# at_risk_mask = at_risk_mask[at_risk_mask['conviction_subtype_Murder/Manslaughter']==1] "
   ]
  },
  {
   "cell_type": "code",
   "execution_count": null,
   "metadata": {},
   "outputs": [],
   "source": []
  },
  {
   "cell_type": "code",
   "execution_count": null,
   "metadata": {},
   "outputs": [],
   "source": [
    "murder_mask = df[df['conviction_subtype_Murder/Manslaughter']==1]\n",
    "\n",
    "len(murder_mask)"
   ]
  },
  {
   "cell_type": "code",
   "execution_count": null,
   "metadata": {},
   "outputs": [],
   "source": [
    "murder_mask['recid_flag'].sum()/len(murder_mask)\n"
   ]
  },
  {
   "cell_type": "code",
   "execution_count": null,
   "metadata": {},
   "outputs": [],
   "source": [
    "murder_mask['recid_flag'].sum()\n"
   ]
  },
  {
   "cell_type": "code",
   "execution_count": null,
   "metadata": {},
   "outputs": [],
   "source": []
  },
  {
   "cell_type": "code",
   "execution_count": null,
   "metadata": {},
   "outputs": [],
   "source": [
    "hispanic_at_risk = df[df['race_White - Hispanic']==1]\n"
   ]
  },
  {
   "cell_type": "code",
   "execution_count": null,
   "metadata": {},
   "outputs": [],
   "source": [
    "hispanic_at_risk['recid_flag'].sum()"
   ]
  },
  {
   "cell_type": "code",
   "execution_count": null,
   "metadata": {},
   "outputs": [],
   "source": [
    "len(hispanic_at_risk)"
   ]
  },
  {
   "cell_type": "code",
   "execution_count": null,
   "metadata": {},
   "outputs": [],
   "source": [
    "at_risk_mask_55 = df[df['age_at_release_55 and Older']==1]\n"
   ]
  },
  {
   "cell_type": "code",
   "execution_count": null,
   "metadata": {},
   "outputs": [],
   "source": [
    "len(at_risk_mask_55)"
   ]
  },
  {
   "cell_type": "code",
   "execution_count": null,
   "metadata": {},
   "outputs": [],
   "source": [
    "at_risk_mask_55['recid_flag'].sum()"
   ]
  },
  {
   "cell_type": "code",
   "execution_count": null,
   "metadata": {},
   "outputs": [],
   "source": [
    "at_risk_mask_55['recid_flag'].sum()/len(at_risk_mask_55)"
   ]
  },
  {
   "cell_type": "code",
   "execution_count": null,
   "metadata": {},
   "outputs": [],
   "source": [
    "list(df)"
   ]
  },
  {
   "cell_type": "markdown",
   "metadata": {},
   "source": [
    "### 25-34"
   ]
  },
  {
   "cell_type": "code",
   "execution_count": null,
   "metadata": {},
   "outputs": [],
   "source": [
    "at_risk_mask_25to34 = df[df['age_at_release_25-34']==1]\n"
   ]
  },
  {
   "cell_type": "code",
   "execution_count": null,
   "metadata": {},
   "outputs": [],
   "source": [
    "at_risk_mask_25to34['recid_flag'].sum()"
   ]
  },
  {
   "cell_type": "code",
   "execution_count": null,
   "metadata": {},
   "outputs": [],
   "source": [
    "at_risk_mask_25to34['recid_flag'].sum()/len(at_risk_mask_25to34)"
   ]
  },
  {
   "cell_type": "markdown",
   "metadata": {},
   "source": [
    "### 45-54"
   ]
  },
  {
   "cell_type": "code",
   "execution_count": null,
   "metadata": {},
   "outputs": [],
   "source": [
    "df = pickle.load(open('../data/pickles/df_full.pickle', 'rb'))\n",
    "mask =[feature  for feature in list(df) if df[feature].sum() > 50]\n",
    "df = df[mask]\n",
    "mask_45to54 = df[df['age_at_release_45-54']==1]\n",
    "mask_45to54['recid_flag'].sum()/len(mask_45to54)"
   ]
  },
  {
   "cell_type": "markdown",
   "metadata": {},
   "source": [
    "### Supervising District None-Discharged"
   ]
  },
  {
   "cell_type": "code",
   "execution_count": null,
   "metadata": {},
   "outputs": [],
   "source": [
    "df = pickle.load(open('../data/pickles/df_full.pickle', 'rb'))\n",
    "mask =[feature  for feature in list(df) if df[feature].sum() > 50]\n",
    "df = df[mask]\n",
    "none_dis = df[df['supervising_district_None-Discharged']==1]\n",
    "none_dis['recid_flag'].sum()/len(none_dis)"
   ]
  },
  {
   "cell_type": "markdown",
   "metadata": {},
   "source": [
    "### Target Population"
   ]
  },
  {
   "cell_type": "code",
   "execution_count": null,
   "metadata": {},
   "outputs": [],
   "source": [
    "df = pickle.load(open('../data/pickles/df_full.pickle', 'rb'))\n",
    "mask =[feature  for feature in list(df) if df[feature].sum() > 50]\n",
    "df = df[mask]\n",
    "target_pop = df[df['target_pop_flag']==1]\n",
    "target_pop['recid_flag'].sum()/len(target_pop)"
   ]
  },
  {
   "cell_type": "markdown",
   "metadata": {},
   "source": [
    "### Supervising District"
   ]
  },
  {
   "cell_type": "code",
   "execution_count": null,
   "metadata": {},
   "outputs": [],
   "source": [
    "df = pickle.load(open('../data/pickles/df_full.pickle', 'rb'))\n",
    "mask =[feature  for feature in list(df) if df[feature].sum() > 50]\n",
    "df = df[mask]\n",
    "fivejd = df[df['supervising_district_5JD']==1]\n",
    "fivejd['recid_flag'].sum()/len(fivejd)\n"
   ]
  },
  {
   "cell_type": "code",
   "execution_count": null,
   "metadata": {},
   "outputs": [],
   "source": [
    "len(fivejd)"
   ]
  },
  {
   "cell_type": "code",
   "execution_count": null,
   "metadata": {},
   "outputs": [],
   "source": []
  },
  {
   "cell_type": "code",
   "execution_count": null,
   "metadata": {},
   "outputs": [],
   "source": [
    "df = pickle.load(open('../data/pickles/df_full.pickle', 'rb'))\n",
    "mask =[feature  for feature in list(df) if df[feature].sum() > 50]\n",
    "df = df[mask]\n",
    "eos = df[df['release_type_Discharged – End of Sentence']==1]\n",
    "eos['recid_flag'].sum()/len(eos)\n"
   ]
  },
  {
   "cell_type": "code",
   "execution_count": null,
   "metadata": {},
   "outputs": [],
   "source": [
    "df = pickle.load(open('../data/pickles/df_full.pickle', 'rb'))\n",
    "mask =[feature  for feature in list(df) if df[feature].sum() > 50]\n",
    "df = df[mask]\n",
    "violent = df[df['convicting_type_Violent']==1]\n",
    "violent['recid_flag'].sum()/len(violent)\n"
   ]
  },
  {
   "cell_type": "code",
   "execution_count": null,
   "metadata": {},
   "outputs": [],
   "source": []
  }
 ],
 "metadata": {
  "kernelspec": {
   "display_name": "Python 3",
   "language": "python",
   "name": "python3"
  },
  "language_info": {
   "codemirror_mode": {
    "name": "ipython",
    "version": 3
   },
   "file_extension": ".py",
   "mimetype": "text/x-python",
   "name": "python",
   "nbconvert_exporter": "python",
   "pygments_lexer": "ipython3",
   "version": "3.6.7"
  },
  "toc": {
   "base_numbering": 1,
   "nav_menu": {},
   "number_sections": true,
   "sideBar": true,
   "skip_h1_title": false,
   "title_cell": "Table of Contents",
   "title_sidebar": "Contents",
   "toc_cell": false,
   "toc_position": {
    "height": "calc(100% - 180px)",
    "left": "10px",
    "top": "150px",
    "width": "226.179px"
   },
   "toc_section_display": true,
   "toc_window_display": true
  },
  "varInspector": {
   "cols": {
    "lenName": 16,
    "lenType": 16,
    "lenVar": 40
   },
   "kernels_config": {
    "python": {
     "delete_cmd_postfix": "",
     "delete_cmd_prefix": "del ",
     "library": "var_list.py",
     "varRefreshCmd": "print(var_dic_list())"
    },
    "r": {
     "delete_cmd_postfix": ") ",
     "delete_cmd_prefix": "rm(",
     "library": "var_list.r",
     "varRefreshCmd": "cat(var_dic_list()) "
    }
   },
   "types_to_exclude": [
    "module",
    "function",
    "builtin_function_or_method",
    "instance",
    "_Feature"
   ],
   "window_display": false
  }
 },
 "nbformat": 4,
 "nbformat_minor": 2
}
